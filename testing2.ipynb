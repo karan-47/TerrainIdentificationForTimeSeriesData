{
 "cells": [
  {
   "cell_type": "code",
   "execution_count": 1,
   "id": "01d6998e",
   "metadata": {},
   "outputs": [],
   "source": [
    "import numpy as np\n",
    "import pandas as pd\n",
    "import os\n",
    "\n",
    "path = \"TestData\"\n",
    "\n",
    "files = os.listdir(path)\n",
    "\n",
    "x_csv = []\n",
    "x_time_csv = []\n",
    "y_csv = []\n",
    "y_time_csv = []\n",
    "\n",
    "for file in files:\n",
    "    if file.endswith(\"_x.csv\"):\n",
    "        x_csv.append(pd.read_csv(path+\"/\"+file))\n",
    "    elif file.endswith(\"_x_time.csv\"):\n",
    "        x_time_csv.append(pd.read_csv(path+\"/\"+file))\n",
    "    elif file.endswith(\"_y_time.csv\"):\n",
    "        y_time_csv.append(pd.read_csv(path+\"/\"+file))\n"
   ]
  },
  {
   "cell_type": "code",
   "execution_count": 2,
   "id": "c954f48f",
   "metadata": {},
   "outputs": [
    {
     "name": "stdout",
     "output_type": "stream",
     "text": [
      "4\n"
     ]
    }
   ],
   "source": [
    "print(len(x_csv))"
   ]
  },
  {
   "cell_type": "code",
   "execution_count": 3,
   "id": "e6aa6d3f",
   "metadata": {},
   "outputs": [
    {
     "name": "stdout",
     "output_type": "stream",
     "text": [
      "37990 37988\n",
      "49080 49076\n",
      "51760 51756\n",
      "45318 45316\n"
     ]
    }
   ],
   "source": [
    "for i in range(4):\n",
    "    print(len(x_csv[i]),4*len(y_time_csv[i]))"
   ]
  },
  {
   "cell_type": "code",
   "execution_count": 4,
   "id": "0e7f0d0c",
   "metadata": {},
   "outputs": [],
   "source": [
    "l = []\n",
    "for j in range(4):\n",
    "    new_list = []\n",
    "    for i in (y_time_csv[j].T).values.tolist()[0]:\n",
    "        new_list.extend([i]*4)\n",
    "    l.append(pd.DataFrame(new_list))\n",
    "y_time_csv = l\n"
   ]
  },
  {
   "cell_type": "code",
   "execution_count": 5,
   "id": "aed4fb1c",
   "metadata": {},
   "outputs": [],
   "source": [
    "for i in range(4):\n",
    "    t = -(len(x_csv[i])-len(y_time_csv[i]))\n",
    "    x_csv[i] = x_csv[i].drop(x_csv[i].iloc[t:].index)\n",
    "    x_time_csv[i] = x_time_csv[i].drop(x_time_csv[i].iloc[t:].index)"
   ]
  },
  {
   "cell_type": "code",
   "execution_count": 6,
   "id": "518c2176",
   "metadata": {},
   "outputs": [
    {
     "name": "stdout",
     "output_type": "stream",
     "text": [
      "37988 37988\n",
      "49076 49076\n",
      "51756 51756\n",
      "45316 45316\n"
     ]
    }
   ],
   "source": [
    "for i in range(4):\n",
    "    print(len(x_csv[i]),len(y_time_csv[i]))"
   ]
  },
  {
   "cell_type": "code",
   "execution_count": 7,
   "id": "b1a4f0de",
   "metadata": {},
   "outputs": [],
   "source": [
    "for df in x_csv:\n",
    "    df.set_axis([\"1\",\"2\",\"3\",\"4\",\"5\",\"6\"], axis=1, inplace=True)\n",
    "x = pd.concat(x_csv).reset_index(drop=True)"
   ]
  },
  {
   "cell_type": "code",
   "execution_count": 8,
   "id": "fd2ac6c0",
   "metadata": {},
   "outputs": [],
   "source": [
    "for df in x_time_csv:\n",
    "    df.set_axis([\"7\"], axis=1, inplace=True)\n",
    "x_time_csv\n",
    "x_time_csv = pd.concat(x_time_csv).reset_index(drop=True)\n",
    "x['7'] = x_time_csv"
   ]
  },
  {
   "cell_type": "code",
   "execution_count": 9,
   "id": "7bb76e57",
   "metadata": {},
   "outputs": [
    {
     "data": {
      "text/html": [
       "<div>\n",
       "<style scoped>\n",
       "    .dataframe tbody tr th:only-of-type {\n",
       "        vertical-align: middle;\n",
       "    }\n",
       "\n",
       "    .dataframe tbody tr th {\n",
       "        vertical-align: top;\n",
       "    }\n",
       "\n",
       "    .dataframe thead th {\n",
       "        text-align: right;\n",
       "    }\n",
       "</style>\n",
       "<table border=\"1\" class=\"dataframe\">\n",
       "  <thead>\n",
       "    <tr style=\"text-align: right;\">\n",
       "      <th></th>\n",
       "      <th>1</th>\n",
       "      <th>2</th>\n",
       "      <th>3</th>\n",
       "      <th>4</th>\n",
       "      <th>5</th>\n",
       "      <th>6</th>\n",
       "      <th>7</th>\n",
       "    </tr>\n",
       "  </thead>\n",
       "  <tbody>\n",
       "    <tr>\n",
       "      <th>0</th>\n",
       "      <td>0.413795</td>\n",
       "      <td>8.706898</td>\n",
       "      <td>-4.456205</td>\n",
       "      <td>0.000000</td>\n",
       "      <td>-0.002838</td>\n",
       "      <td>0.007162</td>\n",
       "      <td>0.025</td>\n",
       "    </tr>\n",
       "    <tr>\n",
       "      <th>1</th>\n",
       "      <td>0.423914</td>\n",
       "      <td>8.707828</td>\n",
       "      <td>-4.502172</td>\n",
       "      <td>0.002037</td>\n",
       "      <td>0.001111</td>\n",
       "      <td>0.007778</td>\n",
       "      <td>0.050</td>\n",
       "    </tr>\n",
       "    <tr>\n",
       "      <th>2</th>\n",
       "      <td>0.442980</td>\n",
       "      <td>8.718078</td>\n",
       "      <td>-4.502980</td>\n",
       "      <td>0.000403</td>\n",
       "      <td>0.004648</td>\n",
       "      <td>0.008384</td>\n",
       "      <td>0.075</td>\n",
       "    </tr>\n",
       "    <tr>\n",
       "      <th>3</th>\n",
       "      <td>0.485234</td>\n",
       "      <td>8.725234</td>\n",
       "      <td>-4.520000</td>\n",
       "      <td>-0.000020</td>\n",
       "      <td>0.006667</td>\n",
       "      <td>0.007778</td>\n",
       "      <td>0.100</td>\n",
       "    </tr>\n",
       "    <tr>\n",
       "      <th>4</th>\n",
       "      <td>0.500000</td>\n",
       "      <td>8.705882</td>\n",
       "      <td>-4.470592</td>\n",
       "      <td>0.000225</td>\n",
       "      <td>0.006636</td>\n",
       "      <td>0.006126</td>\n",
       "      <td>0.125</td>\n",
       "    </tr>\n",
       "    <tr>\n",
       "      <th>...</th>\n",
       "      <td>...</td>\n",
       "      <td>...</td>\n",
       "      <td>...</td>\n",
       "      <td>...</td>\n",
       "      <td>...</td>\n",
       "      <td>...</td>\n",
       "      <td>...</td>\n",
       "    </tr>\n",
       "    <tr>\n",
       "      <th>184131</th>\n",
       "      <td>1.789280</td>\n",
       "      <td>9.136907</td>\n",
       "      <td>3.073814</td>\n",
       "      <td>-0.001669</td>\n",
       "      <td>0.018879</td>\n",
       "      <td>0.015551</td>\n",
       "      <td>1132.800</td>\n",
       "    </tr>\n",
       "    <tr>\n",
       "      <th>184132</th>\n",
       "      <td>1.758566</td>\n",
       "      <td>9.122848</td>\n",
       "      <td>3.070000</td>\n",
       "      <td>-0.002135</td>\n",
       "      <td>0.010088</td>\n",
       "      <td>0.027690</td>\n",
       "      <td>1132.825</td>\n",
       "    </tr>\n",
       "    <tr>\n",
       "      <th>184133</th>\n",
       "      <td>1.759771</td>\n",
       "      <td>9.145114</td>\n",
       "      <td>3.150458</td>\n",
       "      <td>-0.006046</td>\n",
       "      <td>0.009510</td>\n",
       "      <td>0.035375</td>\n",
       "      <td>1132.850</td>\n",
       "    </tr>\n",
       "    <tr>\n",
       "      <th>184134</th>\n",
       "      <td>1.793038</td>\n",
       "      <td>9.156304</td>\n",
       "      <td>3.145874</td>\n",
       "      <td>-0.003333</td>\n",
       "      <td>0.010000</td>\n",
       "      <td>0.051222</td>\n",
       "      <td>1132.875</td>\n",
       "    </tr>\n",
       "    <tr>\n",
       "      <th>184135</th>\n",
       "      <td>1.885642</td>\n",
       "      <td>9.121285</td>\n",
       "      <td>3.091285</td>\n",
       "      <td>-0.005124</td>\n",
       "      <td>0.022902</td>\n",
       "      <td>0.063333</td>\n",
       "      <td>1132.900</td>\n",
       "    </tr>\n",
       "  </tbody>\n",
       "</table>\n",
       "<p>184136 rows × 7 columns</p>\n",
       "</div>"
      ],
      "text/plain": [
       "               1         2         3         4         5         6         7\n",
       "0       0.413795  8.706898 -4.456205  0.000000 -0.002838  0.007162     0.025\n",
       "1       0.423914  8.707828 -4.502172  0.002037  0.001111  0.007778     0.050\n",
       "2       0.442980  8.718078 -4.502980  0.000403  0.004648  0.008384     0.075\n",
       "3       0.485234  8.725234 -4.520000 -0.000020  0.006667  0.007778     0.100\n",
       "4       0.500000  8.705882 -4.470592  0.000225  0.006636  0.006126     0.125\n",
       "...          ...       ...       ...       ...       ...       ...       ...\n",
       "184131  1.789280  9.136907  3.073814 -0.001669  0.018879  0.015551  1132.800\n",
       "184132  1.758566  9.122848  3.070000 -0.002135  0.010088  0.027690  1132.825\n",
       "184133  1.759771  9.145114  3.150458 -0.006046  0.009510  0.035375  1132.850\n",
       "184134  1.793038  9.156304  3.145874 -0.003333  0.010000  0.051222  1132.875\n",
       "184135  1.885642  9.121285  3.091285 -0.005124  0.022902  0.063333  1132.900\n",
       "\n",
       "[184136 rows x 7 columns]"
      ]
     },
     "execution_count": 9,
     "metadata": {},
     "output_type": "execute_result"
    }
   ],
   "source": [
    "x"
   ]
  },
  {
   "cell_type": "code",
   "execution_count": 10,
   "id": "ea6f5a59",
   "metadata": {},
   "outputs": [],
   "source": [
    "path = \"TrainingData\"\n",
    "\n",
    "files = os.listdir(path)\n",
    "\n",
    "x_train_csv = []\n",
    "x_train_time_csv = []\n",
    "y_train_csv = []\n",
    "y_train_time_csv = []\n",
    "for file in files:\n",
    "    if file.endswith(\"_x.csv\"):\n",
    "        x_train_csv.append(pd.read_csv(path+\"/\"+file))\n",
    "    elif file.endswith(\"_x_time.csv\"):\n",
    "        x_train_time_csv.append(pd.read_csv(path+\"/\"+file))\n",
    "    elif file.endswith(\"_y.csv\"):\n",
    "        y_train_csv.append(pd.read_csv(path+\"/\"+file))\n",
    "    elif file.endswith(\"_y_time.csv\"):\n",
    "        y_train_time_csv.append(pd.read_csv(path+\"/\"+file))"
   ]
  },
  {
   "cell_type": "code",
   "execution_count": 11,
   "id": "72525840",
   "metadata": {},
   "outputs": [],
   "source": [
    "l = []\n",
    "for j in range(29):\n",
    "    new_list = []\n",
    "    for i in (y_train_csv[j].T).values.tolist()[0]:\n",
    "        new_list.extend([i]*4)\n",
    "    l.append(pd.DataFrame(new_list))\n",
    "y_train_csv = l\n",
    "\n",
    "l = []\n",
    "for j in range(29):\n",
    "    new_list = []\n",
    "    for i in (y_train_time_csv[j].T).values.tolist()[0]:\n",
    "        new_list.extend([i]*4)\n",
    "    l.append(pd.DataFrame(new_list))\n",
    "y_train_time_csv = l"
   ]
  },
  {
   "cell_type": "code",
   "execution_count": 12,
   "id": "28e0356f",
   "metadata": {},
   "outputs": [],
   "source": [
    "for i in range(29):\n",
    "    x_train_csv[i] = x_train_csv[i].drop(x_train_csv[i].iloc[-(len(x_train_csv[i])-len(y_train_csv[i])):].index)\n",
    "    x_train_time_csv[i] = x_train_time_csv[i].drop(x_train_time_csv[i].iloc[-(len(x_train_time_csv[i])-len(y_train_csv[i])):].index)\n",
    "    "
   ]
  },
  {
   "cell_type": "code",
   "execution_count": 13,
   "id": "96f05a5c",
   "metadata": {},
   "outputs": [
    {
     "name": "stdout",
     "output_type": "stream",
     "text": [
      "37888 37888\n",
      "70168 70168\n",
      "43144 43144\n",
      "54952 54952\n",
      "59116 59116\n",
      "38628 38628\n",
      "31420 31420\n",
      "66760 66760\n",
      "55996 55996\n",
      "55396 55396\n",
      "48792 48792\n",
      "51456 51456\n",
      "42316 42316\n",
      "36308 36308\n",
      "47208 47208\n",
      "19528 19528\n",
      "34304 34304\n",
      "34472 34472\n",
      "56076 56076\n",
      "34516 34516\n",
      "44900 44900\n",
      "48120 48120\n",
      "59560 59560\n",
      "45124 45124\n",
      "46196 46196\n",
      "46984 46984\n",
      "44636 44636\n",
      "39436 39436\n",
      "48136 48136\n"
     ]
    }
   ],
   "source": [
    "for i in range(29):\n",
    "    print(len(x_train_csv[i]),len(y_train_csv[i]))"
   ]
  },
  {
   "cell_type": "code",
   "execution_count": 14,
   "id": "fdeed935",
   "metadata": {},
   "outputs": [],
   "source": [
    "for df in x_train_csv:\n",
    "    df.set_axis([\"1\",\"2\",\"3\",\"4\",\"5\",\"6\"], axis=1, inplace=True)\n",
    "x2 = pd.concat(x_train_csv).reset_index(drop=True)\n",
    "for df in x_train_time_csv:\n",
    "    df.set_axis([\"7\"], axis=1, inplace=True)\n",
    "\n",
    "x_train_time_csv = pd.concat(x_train_time_csv).reset_index(drop=True)\n",
    "x2['7'] = x_train_time_csv"
   ]
  },
  {
   "cell_type": "code",
   "execution_count": 15,
   "id": "c540b20a",
   "metadata": {},
   "outputs": [
    {
     "data": {
      "text/html": [
       "<div>\n",
       "<style scoped>\n",
       "    .dataframe tbody tr th:only-of-type {\n",
       "        vertical-align: middle;\n",
       "    }\n",
       "\n",
       "    .dataframe tbody tr th {\n",
       "        vertical-align: top;\n",
       "    }\n",
       "\n",
       "    .dataframe thead th {\n",
       "        text-align: right;\n",
       "    }\n",
       "</style>\n",
       "<table border=\"1\" class=\"dataframe\">\n",
       "  <thead>\n",
       "    <tr style=\"text-align: right;\">\n",
       "      <th></th>\n",
       "      <th>1</th>\n",
       "      <th>2</th>\n",
       "      <th>3</th>\n",
       "      <th>4</th>\n",
       "      <th>5</th>\n",
       "      <th>6</th>\n",
       "      <th>7</th>\n",
       "    </tr>\n",
       "  </thead>\n",
       "  <tbody>\n",
       "    <tr>\n",
       "      <th>0</th>\n",
       "      <td>4.186920</td>\n",
       "      <td>8.344455</td>\n",
       "      <td>2.908057</td>\n",
       "      <td>0.005771</td>\n",
       "      <td>-0.004480</td>\n",
       "      <td>-0.003345</td>\n",
       "      <td>0.025</td>\n",
       "    </tr>\n",
       "    <tr>\n",
       "      <th>1</th>\n",
       "      <td>4.544637</td>\n",
       "      <td>8.408659</td>\n",
       "      <td>2.890000</td>\n",
       "      <td>0.007967</td>\n",
       "      <td>0.022412</td>\n",
       "      <td>0.001159</td>\n",
       "      <td>0.050</td>\n",
       "    </tr>\n",
       "    <tr>\n",
       "      <th>2</th>\n",
       "      <td>4.849308</td>\n",
       "      <td>8.411614</td>\n",
       "      <td>2.900692</td>\n",
       "      <td>0.027778</td>\n",
       "      <td>-0.010670</td>\n",
       "      <td>-0.014223</td>\n",
       "      <td>0.075</td>\n",
       "    </tr>\n",
       "    <tr>\n",
       "      <th>3</th>\n",
       "      <td>4.509190</td>\n",
       "      <td>8.118649</td>\n",
       "      <td>2.847298</td>\n",
       "      <td>0.021577</td>\n",
       "      <td>-0.045498</td>\n",
       "      <td>-0.021111</td>\n",
       "      <td>0.100</td>\n",
       "    </tr>\n",
       "    <tr>\n",
       "      <th>4</th>\n",
       "      <td>4.226515</td>\n",
       "      <td>8.273807</td>\n",
       "      <td>2.851742</td>\n",
       "      <td>0.012534</td>\n",
       "      <td>0.000445</td>\n",
       "      <td>-0.016830</td>\n",
       "      <td>0.125</td>\n",
       "    </tr>\n",
       "    <tr>\n",
       "      <th>...</th>\n",
       "      <td>...</td>\n",
       "      <td>...</td>\n",
       "      <td>...</td>\n",
       "      <td>...</td>\n",
       "      <td>...</td>\n",
       "      <td>...</td>\n",
       "      <td>...</td>\n",
       "    </tr>\n",
       "    <tr>\n",
       "      <th>1341531</th>\n",
       "      <td>2.098301</td>\n",
       "      <td>8.893398</td>\n",
       "      <td>-3.510000</td>\n",
       "      <td>0.001195</td>\n",
       "      <td>0.000335</td>\n",
       "      <td>0.001027</td>\n",
       "      <td>1203.300</td>\n",
       "    </tr>\n",
       "    <tr>\n",
       "      <th>1341532</th>\n",
       "      <td>2.072244</td>\n",
       "      <td>8.908878</td>\n",
       "      <td>-3.500000</td>\n",
       "      <td>0.001351</td>\n",
       "      <td>0.001191</td>\n",
       "      <td>0.001031</td>\n",
       "      <td>1203.325</td>\n",
       "    </tr>\n",
       "    <tr>\n",
       "      <th>1341533</th>\n",
       "      <td>2.085123</td>\n",
       "      <td>8.915123</td>\n",
       "      <td>-3.520000</td>\n",
       "      <td>0.001918</td>\n",
       "      <td>-0.001147</td>\n",
       "      <td>0.000000</td>\n",
       "      <td>1203.350</td>\n",
       "    </tr>\n",
       "    <tr>\n",
       "      <th>1341534</th>\n",
       "      <td>2.083774</td>\n",
       "      <td>8.910000</td>\n",
       "      <td>-3.538981</td>\n",
       "      <td>-0.002015</td>\n",
       "      <td>-0.004099</td>\n",
       "      <td>0.001042</td>\n",
       "      <td>1203.375</td>\n",
       "    </tr>\n",
       "    <tr>\n",
       "      <th>1341535</th>\n",
       "      <td>2.111447</td>\n",
       "      <td>8.908553</td>\n",
       "      <td>-3.535724</td>\n",
       "      <td>0.000183</td>\n",
       "      <td>-0.001673</td>\n",
       "      <td>0.001856</td>\n",
       "      <td>1203.400</td>\n",
       "    </tr>\n",
       "  </tbody>\n",
       "</table>\n",
       "<p>1341536 rows × 7 columns</p>\n",
       "</div>"
      ],
      "text/plain": [
       "                1         2         3         4         5         6         7\n",
       "0        4.186920  8.344455  2.908057  0.005771 -0.004480 -0.003345     0.025\n",
       "1        4.544637  8.408659  2.890000  0.007967  0.022412  0.001159     0.050\n",
       "2        4.849308  8.411614  2.900692  0.027778 -0.010670 -0.014223     0.075\n",
       "3        4.509190  8.118649  2.847298  0.021577 -0.045498 -0.021111     0.100\n",
       "4        4.226515  8.273807  2.851742  0.012534  0.000445 -0.016830     0.125\n",
       "...           ...       ...       ...       ...       ...       ...       ...\n",
       "1341531  2.098301  8.893398 -3.510000  0.001195  0.000335  0.001027  1203.300\n",
       "1341532  2.072244  8.908878 -3.500000  0.001351  0.001191  0.001031  1203.325\n",
       "1341533  2.085123  8.915123 -3.520000  0.001918 -0.001147  0.000000  1203.350\n",
       "1341534  2.083774  8.910000 -3.538981 -0.002015 -0.004099  0.001042  1203.375\n",
       "1341535  2.111447  8.908553 -3.535724  0.000183 -0.001673  0.001856  1203.400\n",
       "\n",
       "[1341536 rows x 7 columns]"
      ]
     },
     "execution_count": 15,
     "metadata": {},
     "output_type": "execute_result"
    }
   ],
   "source": [
    "x2"
   ]
  },
  {
   "cell_type": "code",
   "execution_count": 16,
   "id": "024245c0",
   "metadata": {},
   "outputs": [],
   "source": [
    "from sklearn.preprocessing import StandardScaler\n",
    "scaler = StandardScaler()\n",
    "scaler.fit(x2)\n",
    "x = scaler.transform(x)"
   ]
  },
  {
   "cell_type": "code",
   "execution_count": 17,
   "id": "1cd46ebc",
   "metadata": {},
   "outputs": [
    {
     "data": {
      "text/plain": [
       "array([[-3.75939033e-02,  9.81731973e-02, -1.88782365e+00, ...,\n",
       "        -1.72229592e-02,  9.71100041e-02, -1.59035835e+00],\n",
       "       [-3.58290395e-02,  9.83088736e-02, -1.89606734e+00, ...,\n",
       "        -1.46988317e-02,  9.79096484e-02, -1.59029315e+00],\n",
       "       [-3.25033694e-02,  9.98042300e-02, -1.89621224e+00, ...,\n",
       "        -1.24381045e-02,  9.86975277e-02, -1.59022795e+00],\n",
       "       ...,\n",
       "       [ 1.97175116e-01,  1.62103841e-01, -5.23650409e-01, ...,\n",
       "        -9.33041505e-03,  1.33766391e-01,  1.36413669e+00],\n",
       "       [ 2.02977645e-01,  1.63736332e-01, -5.24472500e-01, ...,\n",
       "        -9.01707941e-03,  1.54355354e-01,  1.36420189e+00],\n",
       "       [ 2.19129908e-01,  1.58627465e-01, -5.34262450e-01, ...,\n",
       "        -7.69833484e-04,  1.70091139e-01,  1.36426710e+00]])"
      ]
     },
     "execution_count": 17,
     "metadata": {},
     "output_type": "execute_result"
    }
   ],
   "source": [
    "x"
   ]
  },
  {
   "cell_type": "code",
   "execution_count": 18,
   "id": "abbf076d",
   "metadata": {},
   "outputs": [],
   "source": [
    "x = pd.DataFrame(x,columns = [\"1\",\"2\",\"3\",\"4\",\"5\",\"6\",\"7\"])"
   ]
  },
  {
   "cell_type": "code",
   "execution_count": 19,
   "id": "cc436059",
   "metadata": {},
   "outputs": [
    {
     "data": {
      "text/plain": [
       "(184136, 7)"
      ]
     },
     "execution_count": 19,
     "metadata": {},
     "output_type": "execute_result"
    }
   ],
   "source": [
    "x.shape"
   ]
  },
  {
   "cell_type": "code",
   "execution_count": 20,
   "id": "f61b9452",
   "metadata": {},
   "outputs": [],
   "source": [
    "df = x\n",
    "\n",
    "# Group the first 6 columns by every 4 rows and take their mean\n",
    "df_concise = df.iloc[:, :6].groupby(df.index // 4).mean()\n",
    "\n",
    "# Replace the 7th column by every 4th value in order\n",
    "df_concise['column_7'] = df.iloc[::4, 6].reset_index(drop=True)\n",
    "\n",
    "# Save the concise dataframe to a new csv file\n",
    "df_concise.to_csv('concise_dataframe.csv', index=False)\n"
   ]
  },
  {
   "cell_type": "code",
   "execution_count": 21,
   "id": "a6c75ec8",
   "metadata": {},
   "outputs": [],
   "source": [
    "from keras.models import load_model\n",
    "\n",
    "# returns a compiled model\n",
    "# identical to the previous one\n",
    "model = load_model('Models/LSTM.h5')"
   ]
  },
  {
   "cell_type": "code",
   "execution_count": 22,
   "id": "05661356",
   "metadata": {},
   "outputs": [
    {
     "name": "stdout",
     "output_type": "stream",
     "text": [
      "1439/1439 [==============================] - 9s 6ms/step\n"
     ]
    }
   ],
   "source": [
    "max_indices = np.argmax(model.predict(df_concise), axis=1)"
   ]
  },
  {
   "cell_type": "code",
   "execution_count": 23,
   "id": "61866cd0",
   "metadata": {},
   "outputs": [
    {
     "name": "stdout",
     "output_type": "stream",
     "text": [
      "46034\n"
     ]
    }
   ],
   "source": [
    "print(len(max_indices))"
   ]
  },
  {
   "cell_type": "code",
   "execution_count": null,
   "id": "70e52b6d",
   "metadata": {},
   "outputs": [],
   "source": []
  },
  {
   "cell_type": "code",
   "execution_count": 27,
   "id": "4952ef41",
   "metadata": {},
   "outputs": [],
   "source": [
    "slice1 = max_indices[:37988//4]\n",
    "slice2 = max_indices[37988//4:(49076+37988)//4]\n",
    "slice3 = max_indices[(49076+37988)//4:(51756+49076+37988)//4]\n",
    "slice4 = max_indices[(51756+49076+37988)//4:]\n",
    "\n"
   ]
  },
  {
   "cell_type": "code",
   "execution_count": 28,
   "id": "d748b494",
   "metadata": {},
   "outputs": [],
   "source": [
    "np.savetxt(\"subject_009_01__y.csv\", slice1, delimiter=\",\")\n",
    "np.savetxt(\"subject_010_01__y.csv\", slice2, delimiter=\",\")\n",
    "np.savetxt(\"subject_011_01__y.csv\", slice3, delimiter=\",\")\n",
    "np.savetxt(\"subject_012_01__y.csv\", slice4, delimiter=\",\")"
   ]
  },
  {
   "cell_type": "code",
   "execution_count": 29,
   "id": "73e94409",
   "metadata": {},
   "outputs": [
    {
     "name": "stdout",
     "output_type": "stream",
     "text": [
      "9497 12269 12939 11329\n"
     ]
    }
   ],
   "source": [
    "print(len(slice1),len(slice2),len(slice3),len(slice4))"
   ]
  },
  {
   "cell_type": "code",
   "execution_count": 31,
   "id": "7653a645",
   "metadata": {},
   "outputs": [
    {
     "name": "stdout",
     "output_type": "stream",
     "text": [
      "37988 9497\n",
      "49076 12269\n",
      "51756 12939\n",
      "45316 11329\n"
     ]
    }
   ],
   "source": [
    "for i in range(4):\n",
    "    print(len(x_csv[i]),len(y_time_csv[i])//4)"
   ]
  },
  {
   "cell_type": "code",
   "execution_count": null,
   "id": "5d00f030",
   "metadata": {},
   "outputs": [],
   "source": []
  }
 ],
 "metadata": {
  "kernelspec": {
   "display_name": "Python 3 (ipykernel)",
   "language": "python",
   "name": "python3"
  },
  "language_info": {
   "codemirror_mode": {
    "name": "ipython",
    "version": 3
   },
   "file_extension": ".py",
   "mimetype": "text/x-python",
   "name": "python",
   "nbconvert_exporter": "python",
   "pygments_lexer": "ipython3",
   "version": "3.9.12"
  }
 },
 "nbformat": 4,
 "nbformat_minor": 5
}
