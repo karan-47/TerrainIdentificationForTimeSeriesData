{
 "cells": [
  {
   "cell_type": "code",
   "execution_count": 1,
   "metadata": {
    "colab": {
     "base_uri": "https://localhost:8080/"
    },
    "id": "V84DaU97diXY",
    "outputId": "dc8abff4-7ce9-4be7-c706-8274319a0580"
   },
   "outputs": [
    {
     "name": "stdout",
     "output_type": "stream",
     "text": [
      "Mounted at /content/drive\n"
     ]
    }
   ],
   "source": [
    "from google.colab import drive\n",
    "drive.mount('/content/drive')"
   ]
  },
  {
   "cell_type": "code",
   "execution_count": 1,
   "metadata": {
    "id": "GVo2AQPzc85P"
   },
   "outputs": [],
   "source": [
    "import pandas as pd\n",
    "import numpy as np\n",
    "import os"
   ]
  },
  {
   "cell_type": "code",
   "execution_count": 3,
   "metadata": {
    "id": "7Z-zuMUoc85W"
   },
   "outputs": [],
   "source": [
    "x,x_time,y,y_time = [],[],[],[]"
   ]
  },
  {
   "cell_type": "code",
   "execution_count": 4,
   "metadata": {
    "colab": {
     "base_uri": "https://localhost:8080/"
    },
    "id": "QEL_NVHufK_9",
    "outputId": "07da7bc7-ecd7-4179-e681-0aca2340daec"
   },
   "outputs": [
    {
     "name": "stdout",
     "output_type": "stream",
     "text": [
      "/content/drive/MyDrive/TerrainIdentificationForTimeSeriesData\n"
     ]
    }
   ],
   "source": [
    "import os\n",
    "%cd \"/content/drive/MyDrive/TerrainIdentificationForTimeSeriesData\""
   ]
  },
  {
   "cell_type": "code",
   "execution_count": 2,
   "metadata": {
    "id": "xdqyyHpkc85X"
   },
   "outputs": [],
   "source": [
    "import os\n",
    "\n",
    "path = \"TrainingData\"\n",
    "\n",
    "files = os.listdir(path)\n",
    "\n",
    "x_csv = []\n",
    "x_time_csv = []\n",
    "y_csv = []\n",
    "y_time_csv = []\n",
    "\n",
    "for file in files:\n",
    "    if file.endswith(\"_x.csv\"):\n",
    "        x_csv.append(pd.read_csv(path+\"/\"+file,header = None))\n",
    "    elif file.endswith(\"_x_time.csv\"):\n",
    "        x_time_csv.append(pd.read_csv(path+\"/\"+file,header = None))\n",
    "    elif file.endswith(\"_y.csv\"):\n",
    "        y_csv.append(pd.read_csv(path+\"/\"+file,header = None))\n",
    "    elif file.endswith(\"_y_time.csv\"):\n",
    "        y_time_csv.append(pd.read_csv(path+\"/\"+file,header = None))\n"
   ]
  },
  {
   "cell_type": "code",
   "execution_count": 3,
   "metadata": {
    "colab": {
     "base_uri": "https://localhost:8080/"
    },
    "id": "F8uEmQfFc85Y",
    "outputId": "5236a0f4-5665-4ca1-b805-0d31fa5d5227"
   },
   "outputs": [
    {
     "name": "stdout",
     "output_type": "stream",
     "text": [
      "37890 37892\n",
      "70172 70172\n",
      "43146 43148\n",
      "54956 54956\n",
      "59121 59120\n",
      "38631 38632\n",
      "31423 31424\n",
      "66762 66764\n",
      "55999 56000\n",
      "55401 55400\n",
      "48797 48796\n",
      "51461 51460\n",
      "42319 42320\n",
      "36313 36312\n",
      "47210 47212\n",
      "19533 19532\n",
      "34309 34308\n",
      "34476 34476\n",
      "56079 56080\n",
      "34519 34520\n",
      "44905 44904\n",
      "48125 48124\n",
      "59562 59564\n",
      "45129 45128\n",
      "46201 46200\n",
      "46989 46988\n",
      "44641 44640\n",
      "39439 39440\n",
      "48138 48140\n"
     ]
    }
   ],
   "source": [
    "for i in range(29):\n",
    "    print(len(x_csv[i]),4*len(y_csv[i]))"
   ]
  },
  {
   "cell_type": "code",
   "execution_count": 4,
   "metadata": {
    "id": "XZvOazLnc85a"
   },
   "outputs": [],
   "source": [
    "l = []\n",
    "for j in range(29):\n",
    "    new_list = []\n",
    "    for i in (y_csv[j].T).values.tolist()[0]:\n",
    "        new_list.extend([i]*4)\n",
    "    l.append(pd.DataFrame(new_list))\n",
    "\n",
    "\n",
    "y_csv = l\n",
    "l = []\n",
    "for j in range(29):\n",
    "    new_list = []\n",
    "    for i in (y_time_csv[j].T).values.tolist()[0]:\n",
    "        new_list.extend([i]*4)\n",
    "    l.append(pd.DataFrame(new_list))\n",
    "y_time_csv = l\n"
   ]
  },
  {
   "cell_type": "code",
   "execution_count": 5,
   "metadata": {
    "colab": {
     "base_uri": "https://localhost:8080/"
    },
    "id": "mo0t4zzAc85b",
    "outputId": "b0382610-6b4a-4193-b8ae-f3b6a60b2d44"
   },
   "outputs": [
    {
     "name": "stdout",
     "output_type": "stream",
     "text": [
      "37890 37892\n",
      "70172 70172\n",
      "43146 43148\n",
      "54956 54956\n",
      "59121 59120\n",
      "38631 38632\n",
      "31423 31424\n",
      "66762 66764\n",
      "55999 56000\n",
      "55401 55400\n",
      "48797 48796\n",
      "51461 51460\n",
      "42319 42320\n",
      "36313 36312\n",
      "47210 47212\n",
      "19533 19532\n",
      "34309 34308\n",
      "34476 34476\n",
      "56079 56080\n",
      "34519 34520\n",
      "44905 44904\n",
      "48125 48124\n",
      "59562 59564\n",
      "45129 45128\n",
      "46201 46200\n",
      "46989 46988\n",
      "44641 44640\n",
      "39439 39440\n",
      "48138 48140\n"
     ]
    }
   ],
   "source": [
    "for i in range(29):\n",
    "    print(len(x_csv[i]),len(y_csv[i]))"
   ]
  },
  {
   "cell_type": "code",
   "execution_count": 6,
   "metadata": {
    "id": "cf8QSAsVc85c"
   },
   "outputs": [],
   "source": [
    "for i in range(29):\n",
    "    if len(x_csv[i])>len(y_csv[i]):\n",
    "        x_csv[i] = x_csv[i].drop(x_csv[i].iloc[-(len(x_csv[i])-len(y_csv[i])):].index)\n",
    "        x_time_csv[i] = x_time_csv[i].drop(x_time_csv[i].iloc[-(len(x_time_csv[i])-len(y_csv[i])):].index)\n",
    "    elif len(x_csv[i])<len(y_csv[i]):\n",
    "        y_csv[i] = y_csv[i].drop(y_csv[i].iloc[-(len(y_csv[i])-len(x_csv[i])):].index)\n",
    "        y_time_csv[i] = y_time_csv[i].drop(y_time_csv[i].iloc[-(len(y_time_csv[i])-len(x_csv[i])):].index)"
   ]
  },
  {
   "cell_type": "code",
   "execution_count": 7,
   "metadata": {
    "colab": {
     "base_uri": "https://localhost:8080/"
    },
    "id": "OsEt9doOc85e",
    "outputId": "d6e0859a-c315-4902-f90b-c52d6062e70e"
   },
   "outputs": [
    {
     "name": "stdout",
     "output_type": "stream",
     "text": [
      "37890 37890\n",
      "70172 70172\n",
      "43146 43146\n",
      "54956 54956\n",
      "59120 59120\n",
      "38631 38631\n",
      "31423 31423\n",
      "66762 66762\n",
      "55999 55999\n",
      "55400 55400\n",
      "48796 48796\n",
      "51460 51460\n",
      "42319 42319\n",
      "36312 36312\n",
      "47210 47210\n",
      "19532 19532\n",
      "34308 34308\n",
      "34476 34476\n",
      "56079 56079\n",
      "34519 34519\n",
      "44904 44904\n",
      "48124 48124\n",
      "59562 59562\n",
      "45128 45128\n",
      "46200 46200\n",
      "46988 46988\n",
      "44640 44640\n",
      "39439 39439\n",
      "48138 48138\n"
     ]
    }
   ],
   "source": [
    "for i in range(29):\n",
    "    print(len(x_csv[i]),len(y_csv[i]))"
   ]
  },
  {
   "cell_type": "code",
   "execution_count": 8,
   "metadata": {
    "colab": {
     "base_uri": "https://localhost:8080/"
    },
    "id": "el8tF36Gc85g",
    "outputId": "a9c1b6ed-39b7-4e3b-d58e-73f218a8e39f"
   },
   "outputs": [],
   "source": [
    "for df in x_csv:\n",
    "    df.set_axis([\"1\",\"2\",\"3\",\"4\",\"5\",\"6\"], axis=1, inplace=True)\n",
    "x = pd.concat(x_csv).reset_index(drop=True)"
   ]
  },
  {
   "cell_type": "code",
   "execution_count": 9,
   "metadata": {
    "colab": {
     "base_uri": "https://localhost:8080/"
    },
    "id": "PYR2bNhEc85h",
    "outputId": "e6d0f8a2-d5cb-4971-da3a-7420df133f93"
   },
   "outputs": [],
   "source": [
    "for df in y_csv:\n",
    "    df.set_axis([\"Y\"], axis=1, inplace=True)\n",
    "y = pd.concat(y_csv).reset_index(drop=True)"
   ]
  },
  {
   "cell_type": "code",
   "execution_count": 10,
   "metadata": {
    "colab": {
     "base_uri": "https://localhost:8080/"
    },
    "id": "IEu5tYRhc85j",
    "outputId": "d7c78c89-e58d-4aaa-b962-30e349a135da"
   },
   "outputs": [
    {
     "data": {
      "text/plain": [
       "(                1         2         3         4         5         6\n",
       " 0        4.435275  8.196063  2.974488  0.014215 -0.039157 -0.016744\n",
       " 1        4.186920  8.344455  2.908057  0.005771 -0.004480 -0.003345\n",
       " 2        4.544637  8.408659  2.890000  0.007967  0.022412  0.001159\n",
       " 3        4.849308  8.411614  2.900692  0.027778 -0.010670 -0.014223\n",
       " 4        4.509190  8.118649  2.847298  0.021577 -0.045498 -0.021111\n",
       " ...           ...       ...       ...       ...       ...       ...\n",
       " 1341628  2.072244  8.908878 -3.500000  0.001351  0.001191  0.001031\n",
       " 1341629  2.085123  8.915123 -3.520000  0.001918 -0.001147  0.000000\n",
       " 1341630  2.083774  8.910000 -3.538981 -0.002015 -0.004099  0.001042\n",
       " 1341631  2.111447  8.908553 -3.535724  0.000183 -0.001673  0.001856\n",
       " 1341632  2.087730  8.900000 -3.518865  0.000052 -0.001267  0.000000\n",
       " \n",
       " [1341633 rows x 6 columns],\n",
       "          Y\n",
       " 0        0\n",
       " 1        0\n",
       " 2        0\n",
       " 3        0\n",
       " 4        0\n",
       " ...     ..\n",
       " 1341628  0\n",
       " 1341629  0\n",
       " 1341630  0\n",
       " 1341631  0\n",
       " 1341632  0\n",
       " \n",
       " [1341633 rows x 1 columns])"
      ]
     },
     "execution_count": 10,
     "metadata": {},
     "output_type": "execute_result"
    }
   ],
   "source": [
    "x,y"
   ]
  },
  {
   "cell_type": "code",
   "execution_count": 11,
   "metadata": {
    "id": "ntq_4MSic85k"
   },
   "outputs": [],
   "source": [
    "from sklearn.preprocessing import StandardScaler"
   ]
  },
  {
   "cell_type": "code",
   "execution_count": 12,
   "metadata": {
    "id": "NHAmdiW3c85k"
   },
   "outputs": [],
   "source": [
    "scaler = StandardScaler()\n",
    "scaler.fit(x)\n",
    "x = scaler.transform(x)"
   ]
  },
  {
   "cell_type": "code",
   "execution_count": 13,
   "metadata": {
    "colab": {
     "base_uri": "https://localhost:8080/"
    },
    "id": "JipxaLRbc85k",
    "outputId": "63018c97-1ccb-4171-e0e6-4591822a7226"
   },
   "outputs": [
    {
     "data": {
      "text/plain": [
       "array([[ 6.63865175e-01,  2.36377136e-02, -5.55171281e-01,\n",
       "         2.97532289e-03, -4.04391253e-02,  6.60469158e-02],\n",
       "       [ 6.20544908e-01,  4.52871459e-02, -5.67085160e-01,\n",
       "         3.50743557e-04, -1.82720185e-02,  8.34568144e-02],\n",
       "       [ 6.82941059e-01,  5.46540939e-02, -5.70323541e-01,\n",
       "         1.03347841e-03, -1.08201851e-03,  8.93083295e-02],\n",
       "       ...,\n",
       "       [ 2.53695656e-01,  1.27796501e-01, -1.72331088e+00,\n",
       "        -2.06917290e-03, -1.80290443e-02,  8.91570716e-02],\n",
       "       [ 2.58522624e-01,  1.27585393e-01, -1.72272676e+00,\n",
       "        -1.38591095e-03, -1.64778319e-02,  9.02144711e-02],\n",
       "       [ 2.54385696e-01,  1.26337565e-01, -1.71970323e+00,\n",
       "        -1.42671538e-03, -1.62182484e-02,  8.78030474e-02]])"
      ]
     },
     "execution_count": 13,
     "metadata": {},
     "output_type": "execute_result"
    }
   ],
   "source": [
    "x"
   ]
  },
  {
   "cell_type": "code",
   "execution_count": 14,
   "metadata": {
    "id": "EBBLkyfec85l"
   },
   "outputs": [],
   "source": [
    "x = pd.DataFrame(x,columns = [\"1\",\"2\",\"3\",\"4\",\"5\",\"6\"])"
   ]
  },
  {
   "cell_type": "code",
   "execution_count": 15,
   "metadata": {
    "id": "gnN-5oyzc85l"
   },
   "outputs": [],
   "source": [
    "from sklearn.model_selection import train_test_split"
   ]
  },
  {
   "cell_type": "code",
   "execution_count": 16,
   "metadata": {
    "id": "09hJD3pEc85m"
   },
   "outputs": [],
   "source": [
    "x['y'] = y"
   ]
  },
  {
   "cell_type": "code",
   "execution_count": 17,
   "metadata": {
    "id": "K_wvOu2tc85m"
   },
   "outputs": [],
   "source": [
    "x.drop(['y'],inplace=True,axis=1)"
   ]
  },
  {
   "cell_type": "code",
   "execution_count": 18,
   "metadata": {
    "colab": {
     "base_uri": "https://localhost:8080/"
    },
    "id": "3Q95hIzVc85n",
    "outputId": "03b9463f-0644-43d0-a080-25b42835a2b6"
   },
   "outputs": [
    {
     "data": {
      "text/plain": [
       "Y\n",
       "0    1006913\n",
       "3     206436\n",
       "2      73068\n",
       "1      55216\n",
       "dtype: int64"
      ]
     },
     "execution_count": 18,
     "metadata": {},
     "output_type": "execute_result"
    }
   ],
   "source": [
    "y.value_counts()"
   ]
  },
  {
   "cell_type": "code",
   "execution_count": 19,
   "metadata": {
    "colab": {
     "base_uri": "https://localhost:8080/"
    },
    "id": "hfle9Vl5c85n",
    "outputId": "c58a8642-1902-4234-a927-23fed232a846"
   },
   "outputs": [
    {
     "name": "stdout",
     "output_type": "stream",
     "text": [
      "Requirement already satisfied: imblearn in c:\\users\\msi\\anaconda3\\lib\\site-packages (0.0)\n",
      "Requirement already satisfied: imbalanced-learn in c:\\users\\msi\\anaconda3\\lib\\site-packages (from imblearn) (0.10.1)\n",
      "Requirement already satisfied: scikit-learn>=1.0.2 in c:\\users\\msi\\anaconda3\\lib\\site-packages (from imbalanced-learn->imblearn) (1.0.2)\n",
      "Requirement already satisfied: threadpoolctl>=2.0.0 in c:\\users\\msi\\anaconda3\\lib\\site-packages (from imbalanced-learn->imblearn) (2.2.0)\n",
      "Requirement already satisfied: joblib>=1.1.1 in c:\\users\\msi\\anaconda3\\lib\\site-packages (from imbalanced-learn->imblearn) (1.2.0)\n",
      "Requirement already satisfied: numpy>=1.17.3 in c:\\users\\msi\\anaconda3\\lib\\site-packages (from imbalanced-learn->imblearn) (1.19.5)\n",
      "Requirement already satisfied: scipy>=1.3.2 in c:\\users\\msi\\anaconda3\\lib\\site-packages (from imbalanced-learn->imblearn) (1.7.3)\n"
     ]
    }
   ],
   "source": [
    "!pip install imblearn"
   ]
  },
  {
   "cell_type": "code",
   "execution_count": 20,
   "metadata": {
    "id": "wxsPZkoYc85o"
   },
   "outputs": [],
   "source": [
    "from imblearn.over_sampling import RandomOverSampler\n",
    "\n",
    "ros = RandomOverSampler(random_state=42)\n",
    "X_resampled, y_resampled = ros.fit_resample(x, y)\n"
   ]
  },
  {
   "cell_type": "code",
   "execution_count": 21,
   "metadata": {
    "colab": {
     "base_uri": "https://localhost:8080/"
    },
    "id": "m-7E01WQc85p",
    "outputId": "3807f00c-24bf-4802-ff6d-faede14df8b8"
   },
   "outputs": [
    {
     "data": {
      "text/plain": [
       "Y\n",
       "0    1006913\n",
       "1    1006913\n",
       "2    1006913\n",
       "3    1006913\n",
       "dtype: int64"
      ]
     },
     "execution_count": 21,
     "metadata": {},
     "output_type": "execute_result"
    }
   ],
   "source": [
    "y_resampled.value_counts()\n"
   ]
  },
  {
   "cell_type": "code",
   "execution_count": 22,
   "metadata": {
    "colab": {
     "base_uri": "https://localhost:8080/",
     "height": 435
    },
    "id": "eKzdgzP-c85p",
    "outputId": "f5071c97-20af-4988-b6a0-abf2647931b2"
   },
   "outputs": [
    {
     "data": {
      "image/png": "[encoded data removed]",
      "text/plain": [
       "<Figure size 432x288 with 2 Axes>"
      ]
     },
     "metadata": {
      "needs_background": "light"
     },
     "output_type": "display_data"
    }
   ],
   "source": [
    "import seaborn as sns\n",
    "import matplotlib.pyplot as plt\n",
    "\n",
    "# Create a sample correlation matrix\n",
    "corr_matrix = x.corr()\n",
    "\n",
    "# Create a heatmap using seaborn\n",
    "sns.heatmap(corr_matrix, annot=True, cmap='coolwarm')\n",
    "\n",
    "# Show the plot\n",
    "plt.show()"
   ]
  },
  {
   "cell_type": "code",
   "execution_count": 23,
   "metadata": {
    "id": "wlbRAl84c85q"
   },
   "outputs": [],
   "source": [
    "X_resampled['y'] = y_resampled"
   ]
  },
  {
   "cell_type": "code",
   "execution_count": 24,
   "metadata": {
    "colab": {
     "base_uri": "https://localhost:8080/",
     "height": 423
    },
    "id": "9EGhtBJec85r",
    "outputId": "542ed448-1fd9-4d0f-f905-6e4217eb56b3"
   },
   "outputs": [
    {
     "data": {
      "text/html": [
       "<div>\n",
       "<style scoped>\n",
       "    .dataframe tbody tr th:only-of-type {\n",
       "        vertical-align: middle;\n",
       "    }\n",
       "\n",
       "    .dataframe tbody tr th {\n",
       "        vertical-align: top;\n",
       "    }\n",
       "\n",
       "    .dataframe thead th {\n",
       "        text-align: right;\n",
       "    }\n",
       "</style>\n",
       "<table border=\"1\" class=\"dataframe\">\n",
       "  <thead>\n",
       "    <tr style=\"text-align: right;\">\n",
       "      <th></th>\n",
       "      <th>1</th>\n",
       "      <th>2</th>\n",
       "      <th>3</th>\n",
       "      <th>4</th>\n",
       "      <th>5</th>\n",
       "      <th>6</th>\n",
       "      <th>y</th>\n",
       "    </tr>\n",
       "  </thead>\n",
       "  <tbody>\n",
       "    <tr>\n",
       "      <th>0</th>\n",
       "      <td>0.663865</td>\n",
       "      <td>0.023638</td>\n",
       "      <td>-0.555171</td>\n",
       "      <td>0.002975</td>\n",
       "      <td>-0.040439</td>\n",
       "      <td>0.066047</td>\n",
       "      <td>0</td>\n",
       "    </tr>\n",
       "    <tr>\n",
       "      <th>1</th>\n",
       "      <td>0.620545</td>\n",
       "      <td>0.045287</td>\n",
       "      <td>-0.567085</td>\n",
       "      <td>0.000351</td>\n",
       "      <td>-0.018272</td>\n",
       "      <td>0.083457</td>\n",
       "      <td>0</td>\n",
       "    </tr>\n",
       "    <tr>\n",
       "      <th>2</th>\n",
       "      <td>0.682941</td>\n",
       "      <td>0.054654</td>\n",
       "      <td>-0.570324</td>\n",
       "      <td>0.001033</td>\n",
       "      <td>-0.001082</td>\n",
       "      <td>0.089308</td>\n",
       "      <td>0</td>\n",
       "    </tr>\n",
       "    <tr>\n",
       "      <th>3</th>\n",
       "      <td>0.736084</td>\n",
       "      <td>0.055085</td>\n",
       "      <td>-0.568406</td>\n",
       "      <td>0.007191</td>\n",
       "      <td>-0.022229</td>\n",
       "      <td>0.069323</td>\n",
       "      <td>0</td>\n",
       "    </tr>\n",
       "    <tr>\n",
       "      <th>4</th>\n",
       "      <td>0.676758</td>\n",
       "      <td>0.012344</td>\n",
       "      <td>-0.577982</td>\n",
       "      <td>0.005263</td>\n",
       "      <td>-0.044493</td>\n",
       "      <td>0.060373</td>\n",
       "      <td>0</td>\n",
       "    </tr>\n",
       "    <tr>\n",
       "      <th>...</th>\n",
       "      <td>...</td>\n",
       "      <td>...</td>\n",
       "      <td>...</td>\n",
       "      <td>...</td>\n",
       "      <td>...</td>\n",
       "      <td>...</td>\n",
       "      <td>...</td>\n",
       "    </tr>\n",
       "    <tr>\n",
       "      <th>4027647</th>\n",
       "      <td>0.725862</td>\n",
       "      <td>0.374254</td>\n",
       "      <td>-0.600192</td>\n",
       "      <td>-0.970825</td>\n",
       "      <td>0.141854</td>\n",
       "      <td>0.548421</td>\n",
       "      <td>3</td>\n",
       "    </tr>\n",
       "    <tr>\n",
       "      <th>4027648</th>\n",
       "      <td>-0.366764</td>\n",
       "      <td>4.206930</td>\n",
       "      <td>-0.799234</td>\n",
       "      <td>-1.002175</td>\n",
       "      <td>0.646043</td>\n",
       "      <td>-1.168881</td>\n",
       "      <td>3</td>\n",
       "    </tr>\n",
       "    <tr>\n",
       "      <th>4027649</th>\n",
       "      <td>-1.233645</td>\n",
       "      <td>0.765207</td>\n",
       "      <td>-1.052268</td>\n",
       "      <td>-0.143772</td>\n",
       "      <td>-0.474352</td>\n",
       "      <td>-0.519159</td>\n",
       "      <td>3</td>\n",
       "    </tr>\n",
       "    <tr>\n",
       "      <th>4027650</th>\n",
       "      <td>-0.389329</td>\n",
       "      <td>0.560887</td>\n",
       "      <td>-0.235594</td>\n",
       "      <td>-0.445080</td>\n",
       "      <td>-0.577364</td>\n",
       "      <td>-0.239120</td>\n",
       "      <td>3</td>\n",
       "    </tr>\n",
       "    <tr>\n",
       "      <th>4027651</th>\n",
       "      <td>0.847407</td>\n",
       "      <td>0.137959</td>\n",
       "      <td>1.006564</td>\n",
       "      <td>-0.643557</td>\n",
       "      <td>1.189988</td>\n",
       "      <td>2.483562</td>\n",
       "      <td>3</td>\n",
       "    </tr>\n",
       "  </tbody>\n",
       "</table>\n",
       "<p>4027652 rows × 7 columns</p>\n",
       "</div>"
      ],
      "text/plain": [
       "                1         2         3         4         5         6  y\n",
       "0        0.663865  0.023638 -0.555171  0.002975 -0.040439  0.066047  0\n",
       "1        0.620545  0.045287 -0.567085  0.000351 -0.018272  0.083457  0\n",
       "2        0.682941  0.054654 -0.570324  0.001033 -0.001082  0.089308  0\n",
       "3        0.736084  0.055085 -0.568406  0.007191 -0.022229  0.069323  0\n",
       "4        0.676758  0.012344 -0.577982  0.005263 -0.044493  0.060373  0\n",
       "...           ...       ...       ...       ...       ...       ... ..\n",
       "4027647  0.725862  0.374254 -0.600192 -0.970825  0.141854  0.548421  3\n",
       "4027648 -0.366764  4.206930 -0.799234 -1.002175  0.646043 -1.168881  3\n",
       "4027649 -1.233645  0.765207 -1.052268 -0.143772 -0.474352 -0.519159  3\n",
       "4027650 -0.389329  0.560887 -0.235594 -0.445080 -0.577364 -0.239120  3\n",
       "4027651  0.847407  0.137959  1.006564 -0.643557  1.189988  2.483562  3\n",
       "\n",
       "[4027652 rows x 7 columns]"
      ]
     },
     "execution_count": 24,
     "metadata": {},
     "output_type": "execute_result"
    }
   ],
   "source": [
    "X_resampled"
   ]
  },
  {
   "cell_type": "code",
   "execution_count": 25,
   "metadata": {
    "id": "qGzhDA4Fc85r"
   },
   "outputs": [],
   "source": [
    "X_train, X_test, y_train, y_test= train_test_split(X_resampled.drop('y',axis=1), X_resampled['y'], test_size=0.3, random_state=42, stratify=X_resampled['y'])"
   ]
  },
  {
   "cell_type": "code",
   "execution_count": 26,
   "metadata": {
    "id": "qZCOz4e2c85s"
   },
   "outputs": [],
   "source": [
    "from sklearn.metrics import classification_report\n",
    "from sklearn.ensemble import RandomForestClassifier\n",
    "from sklearn.model_selection import train_test_split\n",
    "from sklearn import metrics\n",
    "from IPython import embed\n",
    "from imblearn.over_sampling import SMOTE \n",
    "from sklearn.tree import plot_tree\n",
    "from collections import Counter\n",
    "import pickle"
   ]
  },
  {
   "cell_type": "code",
   "execution_count": 27,
   "metadata": {
    "colab": {
     "base_uri": "https://localhost:8080/"
    },
    "id": "6tKjUEI7c85s",
    "outputId": "98b5fd98-e4d0-4bf4-a46c-cfe26b235119"
   },
   "outputs": [
    {
     "name": "stdout",
     "output_type": "stream",
     "text": [
      "2819356 2819356\n",
      "Counter({2: 704839, 1: 704839, 3: 704839, 0: 704839})\n"
     ]
    }
   ],
   "source": [
    "sm = SMOTE(random_state=23)\n",
    "x_train_sm, y_train_sm = sm.fit_resample(X_train, y_train)\n",
    "print(len(x_train_sm), len(y_train_sm))\n",
    "\n",
    "county_sm = Counter(y_train_sm)\n",
    "print(county_sm)"
   ]
  },
  {
   "cell_type": "code",
   "execution_count": 28,
   "metadata": {
    "id": "Jo9evNq3c85t"
   },
   "outputs": [],
   "source": [
    "from sklearn.preprocessing import StandardScaler, OneHotEncoder\n",
    "def one_hot_encoding(labels):\n",
    "    encoder = OneHotEncoder(handle_unknown = 'ignore', sparse = False)\n",
    "    encoder = encoder.fit(labels)\n",
    "    training_y_encoded = encoder.transform(labels)\n",
    "    return training_y_encoded"
   ]
  },
  {
   "cell_type": "code",
   "execution_count": 29,
   "metadata": {
    "colab": {
     "base_uri": "https://localhost:8080/"
    },
    "id": "nQmWCrCvc85u",
    "outputId": "124f09be-9ce0-436b-d798-5ba1648641c8"
   },
   "outputs": [
    {
     "name": "stdout",
     "output_type": "stream",
     "text": [
      "(2819356, 4) (1208296, 4)\n"
     ]
    }
   ],
   "source": [
    "training_y_encoded = one_hot_encoding(np.array(y_train_sm).reshape(-1, 1))\n",
    "test_y_encoded = one_hot_encoding(np.array(y_test).reshape(-1, 1))\n",
    "print(training_y_encoded.shape, test_y_encoded.shape)"
   ]
  },
  {
   "cell_type": "code",
   "execution_count": 30,
   "metadata": {
    "colab": {
     "base_uri": "https://localhost:8080/"
    },
    "id": "2ssekSSXc85u",
    "outputId": "6fdd027f-9cf5-46ec-fd4b-4e88eb8a3fc0"
   },
   "outputs": [
    {
     "data": {
      "text/plain": [
       "6"
      ]
     },
     "execution_count": 30,
     "metadata": {},
     "output_type": "execute_result"
    }
   ],
   "source": [
    "x_train_sm.shape[1]"
   ]
  },
  {
   "cell_type": "code",
   "execution_count": 34,
   "metadata": {
    "id": "zqLoJ0vVc85v"
   },
   "outputs": [],
   "source": [
    "# model = Sequential()\n",
    "# model.add(Bidirectional(LSTM(units = 125), input_shape = (x_train_sm.shape[1], x_train_sm.shape[2])))\n",
    "# model.add(Dropout(rate = 0.5))\n",
    "# model.add(Dense(units = 125, activation = 'relu'))\n",
    "# model.add(Dense(training_y_encoded.shape[2], activation = 'softmax'))\n",
    "# model.compile(loss = 'categorical_crossentropy', optimizer = 'adam', metrics = ['acc', f1, precision_measure, recall_measure])"
   ]
  },
  {
   "cell_type": "code",
   "execution_count": 35,
   "metadata": {
    "id": "R1o3-wVpc85v"
   },
   "outputs": [],
   "source": [
    "# model = define_BiLSTM_model(np.array(x_train_sm).reshape(-1,1), np.array(training_y_encoded).reshape(-1,1))\n",
    "# model.summary()"
   ]
  },
  {
   "cell_type": "code",
   "execution_count": 35,
   "metadata": {
    "id": "F6WJajntc85v"
   },
   "outputs": [],
   "source": []
  },
  {
   "cell_type": "code",
   "execution_count": 35,
   "metadata": {
    "id": "yg27p_AUc85w"
   },
   "outputs": [],
   "source": []
  },
  {
   "cell_type": "code",
   "execution_count": 35,
   "metadata": {
    "id": "9jTwHv6gc85w"
   },
   "outputs": [],
   "source": []
  },
  {
   "cell_type": "code",
   "execution_count": 31,
   "metadata": {
    "id": "Ft_VN9Ubc85w"
   },
   "outputs": [],
   "source": [
    "x_train,x_val,y_train,y_val=train_test_split(x_train_sm, y_train_sm, test_size=0.2)"
   ]
  },
  {
   "cell_type": "code",
   "execution_count": 32,
   "metadata": {
    "colab": {
     "base_uri": "https://localhost:8080/"
    },
    "id": "7SUU-yXkc85x",
    "outputId": "1a4568b0-1b4d-4b34-f747-2f1dd2f7bae6"
   },
   "outputs": [
    {
     "name": "stdout",
     "output_type": "stream",
     "text": [
      "2255484 2255484\n",
      "563872 563872\n"
     ]
    }
   ],
   "source": [
    "print(len(x_train), len(y_train))\n",
    "print(len(x_val), len(y_val))"
   ]
  },
  {
   "cell_type": "code",
   "execution_count": 33,
   "metadata": {
    "colab": {
     "base_uri": "https://localhost:8080/",
     "height": 206
    },
    "id": "3n-wIHjwc85x",
    "outputId": "26de8e00-8535-4dc3-d2f2-aefde4d10030"
   },
   "outputs": [
    {
     "data": {
      "text/html": [
       "<div>\n",
       "<style scoped>\n",
       "    .dataframe tbody tr th:only-of-type {\n",
       "        vertical-align: middle;\n",
       "    }\n",
       "\n",
       "    .dataframe tbody tr th {\n",
       "        vertical-align: top;\n",
       "    }\n",
       "\n",
       "    .dataframe thead th {\n",
       "        text-align: right;\n",
       "    }\n",
       "</style>\n",
       "<table border=\"1\" class=\"dataframe\">\n",
       "  <thead>\n",
       "    <tr style=\"text-align: right;\">\n",
       "      <th></th>\n",
       "      <th>1</th>\n",
       "      <th>2</th>\n",
       "      <th>3</th>\n",
       "      <th>4</th>\n",
       "      <th>5</th>\n",
       "      <th>6</th>\n",
       "    </tr>\n",
       "  </thead>\n",
       "  <tbody>\n",
       "    <tr>\n",
       "      <th>830474</th>\n",
       "      <td>1.210149</td>\n",
       "      <td>0.288958</td>\n",
       "      <td>0.735542</td>\n",
       "      <td>0.027669</td>\n",
       "      <td>1.116442</td>\n",
       "      <td>0.511618</td>\n",
       "    </tr>\n",
       "    <tr>\n",
       "      <th>1799965</th>\n",
       "      <td>-0.344344</td>\n",
       "      <td>0.145261</td>\n",
       "      <td>-0.932274</td>\n",
       "      <td>-0.189816</td>\n",
       "      <td>-0.678531</td>\n",
       "      <td>-0.180015</td>\n",
       "    </tr>\n",
       "    <tr>\n",
       "      <th>1310875</th>\n",
       "      <td>0.501490</td>\n",
       "      <td>0.086575</td>\n",
       "      <td>-0.130661</td>\n",
       "      <td>0.151736</td>\n",
       "      <td>0.369047</td>\n",
       "      <td>0.333690</td>\n",
       "    </tr>\n",
       "    <tr>\n",
       "      <th>2249060</th>\n",
       "      <td>2.569649</td>\n",
       "      <td>0.331436</td>\n",
       "      <td>-0.765636</td>\n",
       "      <td>-0.344367</td>\n",
       "      <td>1.529225</td>\n",
       "      <td>1.139227</td>\n",
       "    </tr>\n",
       "    <tr>\n",
       "      <th>1559193</th>\n",
       "      <td>6.616169</td>\n",
       "      <td>0.295107</td>\n",
       "      <td>1.205897</td>\n",
       "      <td>-1.108958</td>\n",
       "      <td>2.334177</td>\n",
       "      <td>3.130178</td>\n",
       "    </tr>\n",
       "  </tbody>\n",
       "</table>\n",
       "</div>"
      ],
      "text/plain": [
       "                1         2         3         4         5         6\n",
       "830474   1.210149  0.288958  0.735542  0.027669  1.116442  0.511618\n",
       "1799965 -0.344344  0.145261 -0.932274 -0.189816 -0.678531 -0.180015\n",
       "1310875  0.501490  0.086575 -0.130661  0.151736  0.369047  0.333690\n",
       "2249060  2.569649  0.331436 -0.765636 -0.344367  1.529225  1.139227\n",
       "1559193  6.616169  0.295107  1.205897 -1.108958  2.334177  3.130178"
      ]
     },
     "execution_count": 33,
     "metadata": {},
     "output_type": "execute_result"
    }
   ],
   "source": [
    "x_train.head()"
   ]
  },
  {
   "cell_type": "code",
   "execution_count": 34,
   "metadata": {
    "colab": {
     "base_uri": "https://localhost:8080/",
     "height": 74
    },
    "id": "R-XxLDGDc85y",
    "outputId": "820afddd-42b1-4b5c-f6e7-7b0e92084e4e"
   },
   "outputs": [
    {
     "data": {
      "text/plain": [
       "RandomForestClassifier(n_estimators=20, random_state=0)"
      ]
     },
     "execution_count": 34,
     "metadata": {},
     "output_type": "execute_result"
    }
   ],
   "source": [
    "Random_F_model = RandomForestClassifier(n_estimators=20, random_state=0)\n",
    "Random_F_model.fit(x_train, y_train)"
   ]
  },
  {
   "cell_type": "code",
   "execution_count": 35,
   "metadata": {
    "id": "F6F9VQ0kc85z"
   },
   "outputs": [],
   "source": [
    "y_pred = Random_F_model.predict(x_val)"
   ]
  },
  {
   "cell_type": "code",
   "execution_count": 36,
   "metadata": {
    "colab": {
     "base_uri": "https://localhost:8080/"
    },
    "id": "FyvAXzAYc850",
    "outputId": "1f8c902a-96f0-46ff-cbff-637a1c5b48e0"
   },
   "outputs": [
    {
     "name": "stdout",
     "output_type": "stream",
     "text": [
      "F1 Score: 0.9542073685249185\n",
      "Accuracy Score: 0.9549383548039271\n",
      "Precision score:  0.9554026629829883\n",
      "Recall score:  0.9548036166425831\n",
      "Accuracy Score: 0.9549383548039271\n",
      "Confusion Matrix: [[120819   2732   3079  13830]\n",
      " [     0 141280      0      0]\n",
      " [     5      0 141280      0]\n",
      " [  5316    267    180 135084]]\n",
      "Mean Absolute Error: 0.11891351228647637\n"
     ]
    }
   ],
   "source": [
    "print('F1 Score:', metrics.f1_score(y_val, y_pred, average='macro'))\n",
    "print('Accuracy Score:', metrics.accuracy_score(y_val, y_pred))\n",
    "print('Precision score: ', metrics.precision_score(y_val, y_pred, average='macro'))\n",
    "print('Recall score: ', metrics.recall_score(y_val, y_pred, average='macro'))\n",
    "print('Accuracy Score:', metrics.accuracy_score(y_val, y_pred))\n",
    "print('Confusion Matrix:', metrics.confusion_matrix(y_val, y_pred))\n",
    "print('Mean Absolute Error:', metrics.mean_absolute_error(y_val, y_pred))"
   ]
  },
  {
   "cell_type": "code",
   "execution_count": 37,
   "metadata": {
    "id": "lrL5YL5tlGqW"
   },
   "outputs": [],
   "source": [
    "import numpy as np\n",
    "import pandas as pd\n",
    "import os\n",
    "\n",
    "path = \"TestData\"\n",
    "\n",
    "files = os.listdir(path)\n",
    "\n",
    "x_csv = []\n",
    "x_time_csv = []\n",
    "y_csv = []\n",
    "y_time_csv = []\n",
    "\n",
    "for file in files:\n",
    "    if file.endswith(\"_x.csv\"):\n",
    "        x_csv.append(pd.read_csv(path+\"/\"+file,header = None))\n",
    "    elif file.endswith(\"_x_time.csv\"):\n",
    "        x_time_csv.append(pd.read_csv(path+\"/\"+file,header = None))\n",
    "    elif file.endswith(\"_y_time.csv\"):\n",
    "        y_time_csv.append(pd.read_csv(path+\"/\"+file,header = None))\n"
   ]
  },
  {
   "cell_type": "code",
   "execution_count": 38,
   "metadata": {
    "id": "IqEZ5UqHnyE2"
   },
   "outputs": [],
   "source": [
    "l = []\n",
    "for j in range(4):\n",
    "    new_list = []\n",
    "    for i in (y_time_csv[j].T).values.tolist()[0]:\n",
    "        new_list.extend([i]*4)\n",
    "    l.append(pd.DataFrame(new_list))\n",
    "y_time_csv = l\n"
   ]
  },
  {
   "cell_type": "code",
   "execution_count": 39,
   "metadata": {},
   "outputs": [],
   "source": [
    "   \n",
    "for i in range(4):\n",
    "    if len(x_csv[i])>len(y_time_csv[i]):\n",
    "        t = -(len(x_csv[i])-len(y_time_csv[i]))\n",
    "        x_csv[i] = x_csv[i].drop(x_csv[i].iloc[t:].index)\n",
    "        x_time_csv[i] = x_time_csv[i].drop(x_time_csv[i].iloc[t:].index)\n",
    "    elif len(x_csv[i])<len(y_time_csv[i]):\n",
    "        y_time_csv[i] = y_time_csv[i].drop(y_time_csv[i].iloc[-(len(y_time_csv[i])-len(x_csv[i])):].index)\n",
    "    "
   ]
  },
  {
   "cell_type": "code",
   "execution_count": 40,
   "metadata": {},
   "outputs": [
    {
     "name": "stdout",
     "output_type": "stream",
     "text": [
      "37991 37991\n",
      "49080 49080\n",
      "51760 51760\n",
      "45319 45319\n"
     ]
    }
   ],
   "source": [
    "for i in range(4):\n",
    "    print(len(x_csv[i]),len(y_time_csv[i]))"
   ]
  },
  {
   "cell_type": "code",
   "execution_count": 41,
   "metadata": {},
   "outputs": [],
   "source": [
    "for df in x_csv:\n",
    "    df.set_axis([\"1\",\"2\",\"3\",\"4\",\"5\",\"6\"], axis=1, inplace=True)\n",
    "x2 = pd.concat(x_csv).reset_index(drop=True)"
   ]
  },
  {
   "cell_type": "code",
   "execution_count": 42,
   "metadata": {},
   "outputs": [
    {
     "data": {
      "text/html": [
       "<div>\n",
       "<style scoped>\n",
       "    .dataframe tbody tr th:only-of-type {\n",
       "        vertical-align: middle;\n",
       "    }\n",
       "\n",
       "    .dataframe tbody tr th {\n",
       "        vertical-align: top;\n",
       "    }\n",
       "\n",
       "    .dataframe thead th {\n",
       "        text-align: right;\n",
       "    }\n",
       "</style>\n",
       "<table border=\"1\" class=\"dataframe\">\n",
       "  <thead>\n",
       "    <tr style=\"text-align: right;\">\n",
       "      <th></th>\n",
       "      <th>1</th>\n",
       "      <th>2</th>\n",
       "      <th>3</th>\n",
       "      <th>4</th>\n",
       "      <th>5</th>\n",
       "      <th>6</th>\n",
       "    </tr>\n",
       "  </thead>\n",
       "  <tbody>\n",
       "    <tr>\n",
       "      <th>0</th>\n",
       "      <td>0.396845</td>\n",
       "      <td>8.710000</td>\n",
       "      <td>-4.476044</td>\n",
       "      <td>0.001111</td>\n",
       "      <td>-0.008889</td>\n",
       "      <td>0.004137</td>\n",
       "    </tr>\n",
       "    <tr>\n",
       "      <th>1</th>\n",
       "      <td>0.413795</td>\n",
       "      <td>8.706898</td>\n",
       "      <td>-4.456205</td>\n",
       "      <td>0.000000</td>\n",
       "      <td>-0.002838</td>\n",
       "      <td>0.007162</td>\n",
       "    </tr>\n",
       "    <tr>\n",
       "      <th>2</th>\n",
       "      <td>0.423914</td>\n",
       "      <td>8.707828</td>\n",
       "      <td>-4.502172</td>\n",
       "      <td>0.002037</td>\n",
       "      <td>0.001111</td>\n",
       "      <td>0.007778</td>\n",
       "    </tr>\n",
       "    <tr>\n",
       "      <th>3</th>\n",
       "      <td>0.442980</td>\n",
       "      <td>8.718078</td>\n",
       "      <td>-4.502980</td>\n",
       "      <td>0.000403</td>\n",
       "      <td>0.004648</td>\n",
       "      <td>0.008384</td>\n",
       "    </tr>\n",
       "    <tr>\n",
       "      <th>4</th>\n",
       "      <td>0.485234</td>\n",
       "      <td>8.725234</td>\n",
       "      <td>-4.520000</td>\n",
       "      <td>-0.000020</td>\n",
       "      <td>0.006667</td>\n",
       "      <td>0.007778</td>\n",
       "    </tr>\n",
       "    <tr>\n",
       "      <th>...</th>\n",
       "      <td>...</td>\n",
       "      <td>...</td>\n",
       "      <td>...</td>\n",
       "      <td>...</td>\n",
       "      <td>...</td>\n",
       "      <td>...</td>\n",
       "    </tr>\n",
       "    <tr>\n",
       "      <th>184145</th>\n",
       "      <td>1.759771</td>\n",
       "      <td>9.145114</td>\n",
       "      <td>3.150458</td>\n",
       "      <td>-0.006046</td>\n",
       "      <td>0.009510</td>\n",
       "      <td>0.035375</td>\n",
       "    </tr>\n",
       "    <tr>\n",
       "      <th>184146</th>\n",
       "      <td>1.793038</td>\n",
       "      <td>9.156304</td>\n",
       "      <td>3.145874</td>\n",
       "      <td>-0.003333</td>\n",
       "      <td>0.010000</td>\n",
       "      <td>0.051222</td>\n",
       "    </tr>\n",
       "    <tr>\n",
       "      <th>184147</th>\n",
       "      <td>1.885642</td>\n",
       "      <td>9.121285</td>\n",
       "      <td>3.091285</td>\n",
       "      <td>-0.005124</td>\n",
       "      <td>0.022902</td>\n",
       "      <td>0.063333</td>\n",
       "    </tr>\n",
       "    <tr>\n",
       "      <th>184148</th>\n",
       "      <td>1.864490</td>\n",
       "      <td>9.156898</td>\n",
       "      <td>3.117592</td>\n",
       "      <td>-0.006667</td>\n",
       "      <td>0.017093</td>\n",
       "      <td>0.065642</td>\n",
       "    </tr>\n",
       "    <tr>\n",
       "      <th>184149</th>\n",
       "      <td>1.839925</td>\n",
       "      <td>9.133283</td>\n",
       "      <td>3.143358</td>\n",
       "      <td>-0.006200</td>\n",
       "      <td>0.013404</td>\n",
       "      <td>0.072293</td>\n",
       "    </tr>\n",
       "  </tbody>\n",
       "</table>\n",
       "<p>184150 rows × 6 columns</p>\n",
       "</div>"
      ],
      "text/plain": [
       "               1         2         3         4         5         6\n",
       "0       0.396845  8.710000 -4.476044  0.001111 -0.008889  0.004137\n",
       "1       0.413795  8.706898 -4.456205  0.000000 -0.002838  0.007162\n",
       "2       0.423914  8.707828 -4.502172  0.002037  0.001111  0.007778\n",
       "3       0.442980  8.718078 -4.502980  0.000403  0.004648  0.008384\n",
       "4       0.485234  8.725234 -4.520000 -0.000020  0.006667  0.007778\n",
       "...          ...       ...       ...       ...       ...       ...\n",
       "184145  1.759771  9.145114  3.150458 -0.006046  0.009510  0.035375\n",
       "184146  1.793038  9.156304  3.145874 -0.003333  0.010000  0.051222\n",
       "184147  1.885642  9.121285  3.091285 -0.005124  0.022902  0.063333\n",
       "184148  1.864490  9.156898  3.117592 -0.006667  0.017093  0.065642\n",
       "184149  1.839925  9.133283  3.143358 -0.006200  0.013404  0.072293\n",
       "\n",
       "[184150 rows x 6 columns]"
      ]
     },
     "execution_count": 42,
     "metadata": {},
     "output_type": "execute_result"
    }
   ],
   "source": [
    "x2"
   ]
  },
  {
   "cell_type": "code",
   "execution_count": 43,
   "metadata": {},
   "outputs": [],
   "source": [
    "x2 = scaler.transform(x2)"
   ]
  },
  {
   "cell_type": "code",
   "execution_count": 44,
   "metadata": {},
   "outputs": [
    {
     "data": {
      "text/plain": [
       "array([[-4.05534133e-02,  9.86177952e-02, -1.89136578e+00,\n",
       "        -1.09749587e-03, -2.10906416e-02,  9.31778392e-02],\n",
       "       [-3.75967055e-02,  9.81652335e-02, -1.88780781e+00,\n",
       "        -1.44283414e-03, -1.72224811e-02,  9.71091232e-02],\n",
       "       [-3.58317824e-02,  9.83009145e-02, -1.89605163e+00,\n",
       "        -8.09798159e-04, -1.46982653e-02,  9.79087941e-02],\n",
       "       ...,\n",
       "       [ 2.19135727e-01,  1.58621615e-01, -5.34224655e-01,\n",
       "        -3.03543260e-03, -7.68779282e-04,  1.70092692e-01],\n",
       "       [ 2.15446209e-01,  1.63817321e-01, -5.29506700e-01,\n",
       "        -3.51486404e-03, -4.48235361e-03,  1.73092410e-01],\n",
       "       [ 2.11161365e-01,  1.60372045e-01, -5.24885770e-01,\n",
       "        -3.36980786e-03, -6.83992593e-03,  1.81734473e-01]])"
      ]
     },
     "execution_count": 44,
     "metadata": {},
     "output_type": "execute_result"
    }
   ],
   "source": [
    "x2"
   ]
  },
  {
   "cell_type": "code",
   "execution_count": 45,
   "metadata": {},
   "outputs": [],
   "source": [
    "x = pd.DataFrame(x2,columns = [\"1\",\"2\",\"3\",\"4\",\"5\",\"6\"])"
   ]
  },
  {
   "cell_type": "code",
   "execution_count": 46,
   "metadata": {},
   "outputs": [],
   "source": [
    "df = x\n",
    "\n",
    "# Group the first 6 columns by every 4 rows and take their mean\n",
    "df_concise = df.iloc[:, :6].groupby(df.index // 4).mean()\n",
    "\n"
   ]
  },
  {
   "cell_type": "code",
   "execution_count": 48,
   "metadata": {},
   "outputs": [
    {
     "data": {
      "text/html": [
       "<div>\n",
       "<style scoped>\n",
       "    .dataframe tbody tr th:only-of-type {\n",
       "        vertical-align: middle;\n",
       "    }\n",
       "\n",
       "    .dataframe tbody tr th {\n",
       "        vertical-align: top;\n",
       "    }\n",
       "\n",
       "    .dataframe thead th {\n",
       "        text-align: right;\n",
       "    }\n",
       "</style>\n",
       "<table border=\"1\" class=\"dataframe\">\n",
       "  <thead>\n",
       "    <tr style=\"text-align: right;\">\n",
       "      <th></th>\n",
       "      <th>1</th>\n",
       "      <th>2</th>\n",
       "      <th>3</th>\n",
       "      <th>4</th>\n",
       "      <th>5</th>\n",
       "      <th>6</th>\n",
       "    </tr>\n",
       "  </thead>\n",
       "  <tbody>\n",
       "    <tr>\n",
       "      <th>0</th>\n",
       "      <td>-0.036622</td>\n",
       "      <td>0.098720</td>\n",
       "      <td>-1.892855</td>\n",
       "      <td>-0.001167</td>\n",
       "      <td>-0.016362</td>\n",
       "      <td>0.096723</td>\n",
       "    </tr>\n",
       "    <tr>\n",
       "      <th>1</th>\n",
       "      <td>-0.025066</td>\n",
       "      <td>0.098539</td>\n",
       "      <td>-1.891379</td>\n",
       "      <td>-0.001393</td>\n",
       "      <td>-0.011557</td>\n",
       "      <td>0.095580</td>\n",
       "    </tr>\n",
       "    <tr>\n",
       "      <th>2</th>\n",
       "      <td>-0.031628</td>\n",
       "      <td>0.098563</td>\n",
       "      <td>-1.892882</td>\n",
       "      <td>-0.001206</td>\n",
       "      <td>-0.011957</td>\n",
       "      <td>0.091794</td>\n",
       "    </tr>\n",
       "    <tr>\n",
       "      <th>3</th>\n",
       "      <td>-0.029870</td>\n",
       "      <td>0.099388</td>\n",
       "      <td>-1.890745</td>\n",
       "      <td>-0.001544</td>\n",
       "      <td>-0.014380</td>\n",
       "      <td>0.091983</td>\n",
       "    </tr>\n",
       "    <tr>\n",
       "      <th>4</th>\n",
       "      <td>-0.028630</td>\n",
       "      <td>0.099211</td>\n",
       "      <td>-1.890706</td>\n",
       "      <td>-0.001312</td>\n",
       "      <td>-0.014177</td>\n",
       "      <td>0.090727</td>\n",
       "    </tr>\n",
       "    <tr>\n",
       "      <th>...</th>\n",
       "      <td>...</td>\n",
       "      <td>...</td>\n",
       "      <td>...</td>\n",
       "      <td>...</td>\n",
       "      <td>...</td>\n",
       "      <td>...</td>\n",
       "    </tr>\n",
       "    <tr>\n",
       "      <th>46033</th>\n",
       "      <td>0.204359</td>\n",
       "      <td>0.161157</td>\n",
       "      <td>-0.531560</td>\n",
       "      <td>0.000583</td>\n",
       "      <td>-0.012601</td>\n",
       "      <td>0.036022</td>\n",
       "    </tr>\n",
       "    <tr>\n",
       "      <th>46034</th>\n",
       "      <td>0.215540</td>\n",
       "      <td>0.160754</td>\n",
       "      <td>-0.532575</td>\n",
       "      <td>-0.001028</td>\n",
       "      <td>0.000473</td>\n",
       "      <td>0.055265</td>\n",
       "    </tr>\n",
       "    <tr>\n",
       "      <th>46035</th>\n",
       "      <td>0.197338</td>\n",
       "      <td>0.164121</td>\n",
       "      <td>-0.529448</td>\n",
       "      <td>-0.001491</td>\n",
       "      <td>-0.005364</td>\n",
       "      <td>0.079510</td>\n",
       "    </tr>\n",
       "    <tr>\n",
       "      <th>46036</th>\n",
       "      <td>0.204067</td>\n",
       "      <td>0.160825</td>\n",
       "      <td>-0.530078</td>\n",
       "      <td>-0.002736</td>\n",
       "      <td>-0.007019</td>\n",
       "      <td>0.145499</td>\n",
       "    </tr>\n",
       "    <tr>\n",
       "      <th>46037</th>\n",
       "      <td>0.213304</td>\n",
       "      <td>0.162095</td>\n",
       "      <td>-0.527196</td>\n",
       "      <td>-0.003442</td>\n",
       "      <td>-0.005661</td>\n",
       "      <td>0.177413</td>\n",
       "    </tr>\n",
       "  </tbody>\n",
       "</table>\n",
       "<p>46038 rows × 6 columns</p>\n",
       "</div>"
      ],
      "text/plain": [
       "              1         2         3         4         5         6\n",
       "0     -0.036622  0.098720 -1.892855 -0.001167 -0.016362  0.096723\n",
       "1     -0.025066  0.098539 -1.891379 -0.001393 -0.011557  0.095580\n",
       "2     -0.031628  0.098563 -1.892882 -0.001206 -0.011957  0.091794\n",
       "3     -0.029870  0.099388 -1.890745 -0.001544 -0.014380  0.091983\n",
       "4     -0.028630  0.099211 -1.890706 -0.001312 -0.014177  0.090727\n",
       "...         ...       ...       ...       ...       ...       ...\n",
       "46033  0.204359  0.161157 -0.531560  0.000583 -0.012601  0.036022\n",
       "46034  0.215540  0.160754 -0.532575 -0.001028  0.000473  0.055265\n",
       "46035  0.197338  0.164121 -0.529448 -0.001491 -0.005364  0.079510\n",
       "46036  0.204067  0.160825 -0.530078 -0.002736 -0.007019  0.145499\n",
       "46037  0.213304  0.162095 -0.527196 -0.003442 -0.005661  0.177413\n",
       "\n",
       "[46038 rows x 6 columns]"
      ]
     },
     "execution_count": 48,
     "metadata": {},
     "output_type": "execute_result"
    }
   ],
   "source": [
    "df_concise"
   ]
  },
  {
   "cell_type": "code",
   "execution_count": 49,
   "metadata": {},
   "outputs": [],
   "source": [
    "max_indices = Random_F_model.predict(df_concise)"
   ]
  },
  {
   "cell_type": "code",
   "execution_count": 50,
   "metadata": {},
   "outputs": [
    {
     "data": {
      "text/plain": [
       "array([0, 0, 0, ..., 0, 0, 0], dtype=int64)"
      ]
     },
     "execution_count": 50,
     "metadata": {},
     "output_type": "execute_result"
    }
   ],
   "source": [
    "max_indices"
   ]
  },
  {
   "cell_type": "code",
   "execution_count": 51,
   "metadata": {},
   "outputs": [],
   "source": [
    "slice1 = max_indices[:37992//4]\n",
    "slice2 = max_indices[37992//4:(49076+37988+8)//4]\n",
    "slice3 = max_indices[(49076+37988+8)//4:(51756+12+49076+37988)//4]\n",
    "slice4 = max_indices[(51756+49076+37988+12)//4:]"
   ]
  },
  {
   "cell_type": "code",
   "execution_count": 52,
   "metadata": {},
   "outputs": [
    {
     "name": "stdout",
     "output_type": "stream",
     "text": [
      "9498 12270 12940 11330\n"
     ]
    }
   ],
   "source": [
    "print(len(slice1),len(slice2),len(slice3),len(slice4))"
   ]
  },
  {
   "cell_type": "code",
   "execution_count": 53,
   "metadata": {},
   "outputs": [
    {
     "name": "stdout",
     "output_type": "stream",
     "text": [
      "Value: 0 Count: 34048\n",
      "Value: 1 Count: 2625\n",
      "Value: 2 Count: 3522\n",
      "Value: 3 Count: 5843\n"
     ]
    }
   ],
   "source": [
    "unique, counts = np.unique(max_indices, return_counts=True)\n",
    "\n",
    "# Print the unique values and their count\n",
    "for i in range(len(unique)):\n",
    "    print(\"Value:\", unique[i], \"Count:\", counts[i])"
   ]
  },
  {
   "cell_type": "code",
   "execution_count": 54,
   "metadata": {},
   "outputs": [],
   "source": [
    "np.savetxt(\"subject_009_01__y.csv\", slice1, delimiter=\",\")\n",
    "np.savetxt(\"subject_010_01__y.csv\", slice2, delimiter=\",\")\n",
    "np.savetxt(\"subject_011_01__y.csv\", slice3, delimiter=\",\")\n",
    "np.savetxt(\"subject_012_01__y.csv\", slice4, delimiter=\",\")"
   ]
  },
  {
   "cell_type": "code",
   "execution_count": null,
   "metadata": {},
   "outputs": [],
   "source": []
  }
 ],
 "metadata": {
  "accelerator": "TPU",
  "colab": {
   "provenance": []
  },
  "gpuClass": "standard",
  "kernelspec": {
   "display_name": "Python 3 (ipykernel)",
   "language": "python",
   "name": "python3"
  },
  "language_info": {
   "codemirror_mode": {
    "name": "ipython",
    "version": 3
   },
   "file_extension": ".py",
   "mimetype": "text/x-python",
   "name": "python",
   "nbconvert_exporter": "python",
   "pygments_lexer": "ipython3",
   "version": "3.9.12"
  }
 },
 "nbformat": 4,
 "nbformat_minor": 1
}
