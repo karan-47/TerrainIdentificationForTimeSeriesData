{
 "cells": [
  {
   "cell_type": "code",
   "execution_count": 1,
   "id": "4e3cdbf3",
   "metadata": {},
   "outputs": [],
   "source": [
    "import pandas as pd\n",
    "import numpy as np\n",
    "import os"
   ]
  },
  {
   "cell_type": "code",
   "execution_count": 2,
   "id": "a90bc833",
   "metadata": {},
   "outputs": [],
   "source": [
    "x,x_time,y,y_time = [],[],[],[]"
   ]
  },
  {
   "cell_type": "code",
   "execution_count": 3,
   "id": "52a3eea8",
   "metadata": {},
   "outputs": [],
   "source": [
    "import os\n",
    "\n",
    "path = \"TrainingData\"\n",
    "\n",
    "files = os.listdir(path)\n",
    "\n",
    "x_csv = []\n",
    "x_time_csv = []\n",
    "y_csv = []\n",
    "y_time_csv = []\n",
    "\n",
    "for file in files:\n",
    "    if file.endswith(\"_x.csv\"):\n",
    "        x_csv.append(pd.read_csv(path+\"/\"+file,header = None))\n",
    "    elif file.endswith(\"_x_time.csv\"):\n",
    "        x_time_csv.append(pd.read_csv(path+\"/\"+file,header = None))\n",
    "    elif file.endswith(\"_y.csv\"):\n",
    "        y_csv.append(pd.read_csv(path+\"/\"+file,header = None))\n",
    "    elif file.endswith(\"_y_time.csv\"):\n",
    "        y_time_csv.append(pd.read_csv(path+\"/\"+file,header = None))\n"
   ]
  },
  {
   "cell_type": "code",
   "execution_count": 4,
   "id": "9b86713c",
   "metadata": {},
   "outputs": [],
   "source": [
    "# for i in range(29):\n",
    "#     print(x_time_csv[i].iloc[1],y_time_csv[i].iloc[1])"
   ]
  },
  {
   "cell_type": "code",
   "execution_count": 3,
   "id": "f83a883b",
   "metadata": {},
   "outputs": [
    {
     "name": "stdout",
     "output_type": "stream",
     "text": [
      "37890 37892\n",
      "70172 70172\n",
      "43146 43148\n",
      "54956 54956\n",
      "59121 59120\n",
      "38631 38632\n",
      "31423 31424\n",
      "66762 66764\n",
      "55999 56000\n",
      "55401 55400\n",
      "48797 48796\n",
      "51461 51460\n",
      "42319 42320\n",
      "36313 36312\n",
      "47210 47212\n",
      "19533 19532\n",
      "34309 34308\n",
      "34476 34476\n",
      "56079 56080\n",
      "34519 34520\n",
      "44905 44904\n",
      "48125 48124\n",
      "59562 59564\n",
      "45129 45128\n",
      "46201 46200\n",
      "46989 46988\n",
      "44641 44640\n",
      "39439 39440\n",
      "48138 48140\n"
     ]
    }
   ],
   "source": [
    "for i in range(29):\n",
    "    print(len(x_csv[i]),4*len(y_csv[i]))"
   ]
  },
  {
   "cell_type": "code",
   "execution_count": 4,
   "id": "6656734f",
   "metadata": {},
   "outputs": [],
   "source": [
    "l = []\n",
    "for j in range(29):\n",
    "    new_list = []\n",
    "    for i in (y_csv[j].T).values.tolist()[0]:\n",
    "        new_list.extend([i]*4)\n",
    "    l.append(pd.DataFrame(new_list))\n",
    "\n",
    "\n",
    "y_csv = l\n",
    "l = []\n",
    "for j in range(29):\n",
    "    new_list = []\n",
    "    for i in (y_time_csv[j].T).values.tolist()[0]:\n",
    "        new_list.extend([i]*4)\n",
    "    l.append(pd.DataFrame(new_list))\n",
    "y_time_csv = l\n"
   ]
  },
  {
   "cell_type": "code",
   "execution_count": 5,
   "id": "cc0a4968",
   "metadata": {},
   "outputs": [
    {
     "name": "stdout",
     "output_type": "stream",
     "text": [
      "37890 37892\n",
      "70172 70172\n",
      "43146 43148\n",
      "54956 54956\n",
      "59121 59120\n",
      "38631 38632\n",
      "31423 31424\n",
      "66762 66764\n",
      "55999 56000\n",
      "55401 55400\n",
      "48797 48796\n",
      "51461 51460\n",
      "42319 42320\n",
      "36313 36312\n",
      "47210 47212\n",
      "19533 19532\n",
      "34309 34308\n",
      "34476 34476\n",
      "56079 56080\n",
      "34519 34520\n",
      "44905 44904\n",
      "48125 48124\n",
      "59562 59564\n",
      "45129 45128\n",
      "46201 46200\n",
      "46989 46988\n",
      "44641 44640\n",
      "39439 39440\n",
      "48138 48140\n"
     ]
    }
   ],
   "source": [
    "for i in range(29):\n",
    "    print(len(x_csv[i]),len(y_csv[i]))"
   ]
  },
  {
   "cell_type": "code",
   "execution_count": 6,
   "id": "a19d6c19",
   "metadata": {},
   "outputs": [],
   "source": [
    "for i in range(29):\n",
    "    if len(x_csv[i])>len(y_csv[i]):\n",
    "        x_csv[i] = x_csv[i].drop(x_csv[i].iloc[-(len(x_csv[i])-len(y_csv[i])):].index)\n",
    "        x_time_csv[i] = x_time_csv[i].drop(x_time_csv[i].iloc[-(len(x_time_csv[i])-len(y_csv[i])):].index)\n",
    "    elif len(x_csv[i])<len(y_csv[i]):\n",
    "        y_csv[i] = y_csv[i].drop(y_csv[i].iloc[-(len(y_csv[i])-len(x_csv[i])):].index)\n",
    "        y_time_csv[i] = y_time_csv[i].drop(y_time_csv[i].iloc[-(len(y_time_csv[i])-len(x_csv[i])):].index)\n",
    "    \n"
   ]
  },
  {
   "cell_type": "code",
   "execution_count": 7,
   "id": "9d9735b8",
   "metadata": {},
   "outputs": [
    {
     "name": "stdout",
     "output_type": "stream",
     "text": [
      "37890 37890\n",
      "70172 70172\n",
      "43146 43146\n",
      "54956 54956\n",
      "59120 59120\n",
      "38631 38631\n",
      "31423 31423\n",
      "66762 66762\n",
      "55999 55999\n",
      "55400 55400\n",
      "48796 48796\n",
      "51460 51460\n",
      "42319 42319\n",
      "36312 36312\n",
      "47210 47210\n",
      "19532 19532\n",
      "34308 34308\n",
      "34476 34476\n",
      "56079 56079\n",
      "34519 34519\n",
      "44904 44904\n",
      "48124 48124\n",
      "59562 59562\n",
      "45128 45128\n",
      "46200 46200\n",
      "46988 46988\n",
      "44640 44640\n",
      "39439 39439\n",
      "48138 48138\n"
     ]
    }
   ],
   "source": [
    "for i in range(29):\n",
    "    print(len(x_csv[i]),len(y_csv[i]))"
   ]
  },
  {
   "cell_type": "code",
   "execution_count": 8,
   "id": "763efe01",
   "metadata": {},
   "outputs": [],
   "source": [
    "# x_csv = pd.concat(x_csv)\n",
    "# x_time_csv = pd.concat(x_time_csv)\n",
    "# y_csv = pd.concat(y_csv)\n",
    "# y_time_csv = pd.concat(y_time_csv)\n",
    "for df in x_csv:\n",
    "    df.set_axis([\"1\",\"2\",\"3\",\"4\",\"5\",\"6\"], axis=1, inplace=True)\n",
    "x = pd.concat(x_csv).reset_index(drop=True)\n"
   ]
  },
  {
   "cell_type": "code",
   "execution_count": 11,
   "id": "050f6b3b",
   "metadata": {},
   "outputs": [],
   "source": [
    "# for df in x_time_csv:\n",
    "#     df.set_axis([\"7\"], axis=1, inplace=True)\n",
    "# x_time_csv\n",
    "# x_time_csv = pd.concat(x_time_csv).reset_index(drop=True)\n",
    "# x['7'] = x_time_csv"
   ]
  },
  {
   "cell_type": "code",
   "execution_count": 9,
   "id": "370e507d",
   "metadata": {},
   "outputs": [],
   "source": [
    "for df in y_csv:\n",
    "    df.set_axis([\"Y\"], axis=1, inplace=True)\n",
    "y = pd.concat(y_csv).reset_index(drop=True)"
   ]
  },
  {
   "cell_type": "code",
   "execution_count": 10,
   "id": "9442ddec",
   "metadata": {},
   "outputs": [
    {
     "data": {
      "text/plain": [
       "(                1         2         3         4         5         6\n",
       " 0        4.435275  8.196063  2.974488  0.014215 -0.039157 -0.016744\n",
       " 1        4.186920  8.344455  2.908057  0.005771 -0.004480 -0.003345\n",
       " 2        4.544637  8.408659  2.890000  0.007967  0.022412  0.001159\n",
       " 3        4.849308  8.411614  2.900692  0.027778 -0.010670 -0.014223\n",
       " 4        4.509190  8.118649  2.847298  0.021577 -0.045498 -0.021111\n",
       " ...           ...       ...       ...       ...       ...       ...\n",
       " 1341628  2.072244  8.908878 -3.500000  0.001351  0.001191  0.001031\n",
       " 1341629  2.085123  8.915123 -3.520000  0.001918 -0.001147  0.000000\n",
       " 1341630  2.083774  8.910000 -3.538981 -0.002015 -0.004099  0.001042\n",
       " 1341631  2.111447  8.908553 -3.535724  0.000183 -0.001673  0.001856\n",
       " 1341632  2.087730  8.900000 -3.518865  0.000052 -0.001267  0.000000\n",
       " \n",
       " [1341633 rows x 6 columns],\n",
       "          Y\n",
       " 0        0\n",
       " 1        0\n",
       " 2        0\n",
       " 3        0\n",
       " 4        0\n",
       " ...     ..\n",
       " 1341628  0\n",
       " 1341629  0\n",
       " 1341630  0\n",
       " 1341631  0\n",
       " 1341632  0\n",
       " \n",
       " [1341633 rows x 1 columns])"
      ]
     },
     "execution_count": 10,
     "metadata": {},
     "output_type": "execute_result"
    }
   ],
   "source": [
    "x,y"
   ]
  },
  {
   "cell_type": "code",
   "execution_count": 11,
   "id": "8fb4106f",
   "metadata": {},
   "outputs": [],
   "source": [
    "from sklearn.preprocessing import StandardScaler"
   ]
  },
  {
   "cell_type": "code",
   "execution_count": null,
   "id": "ba68a76f",
   "metadata": {},
   "outputs": [],
   "source": []
  },
  {
   "cell_type": "code",
   "execution_count": 12,
   "id": "6f898b49",
   "metadata": {},
   "outputs": [],
   "source": [
    "scaler = StandardScaler()\n",
    "scaler.fit(x)\n",
    "x = scaler.transform(x)"
   ]
  },
  {
   "cell_type": "code",
   "execution_count": 13,
   "id": "d01a6c98",
   "metadata": {},
   "outputs": [
    {
     "data": {
      "text/plain": [
       "array([[ 6.63865175e-01,  2.36377136e-02, -5.55171281e-01,\n",
       "         2.97532289e-03, -4.04391253e-02,  6.60469158e-02],\n",
       "       [ 6.20544908e-01,  4.52871459e-02, -5.67085160e-01,\n",
       "         3.50743557e-04, -1.82720185e-02,  8.34568144e-02],\n",
       "       [ 6.82941059e-01,  5.46540939e-02, -5.70323541e-01,\n",
       "         1.03347841e-03, -1.08201851e-03,  8.93083295e-02],\n",
       "       ...,\n",
       "       [ 2.53695656e-01,  1.27796501e-01, -1.72331088e+00,\n",
       "        -2.06917290e-03, -1.80290443e-02,  8.91570716e-02],\n",
       "       [ 2.58522624e-01,  1.27585393e-01, -1.72272676e+00,\n",
       "        -1.38591095e-03, -1.64778319e-02,  9.02144711e-02],\n",
       "       [ 2.54385696e-01,  1.26337565e-01, -1.71970323e+00,\n",
       "        -1.42671538e-03, -1.62182484e-02,  8.78030474e-02]])"
      ]
     },
     "execution_count": 13,
     "metadata": {},
     "output_type": "execute_result"
    }
   ],
   "source": [
    "x"
   ]
  },
  {
   "cell_type": "code",
   "execution_count": 14,
   "id": "268533d1",
   "metadata": {},
   "outputs": [],
   "source": [
    "x = pd.DataFrame(x,columns = [\"1\",\"2\",\"3\",\"4\",\"5\",\"6\"])"
   ]
  },
  {
   "cell_type": "code",
   "execution_count": 15,
   "id": "19af83d6",
   "metadata": {},
   "outputs": [],
   "source": [
    "from sklearn.model_selection import train_test_split"
   ]
  },
  {
   "cell_type": "code",
   "execution_count": 16,
   "id": "bd6f2c1e",
   "metadata": {},
   "outputs": [],
   "source": [
    "x['y'] = y"
   ]
  },
  {
   "cell_type": "code",
   "execution_count": 17,
   "id": "c697441c",
   "metadata": {},
   "outputs": [],
   "source": [
    "x.drop(['y'],inplace=True,axis=1)"
   ]
  },
  {
   "cell_type": "code",
   "execution_count": 18,
   "id": "49859308",
   "metadata": {},
   "outputs": [
    {
     "data": {
      "text/plain": [
       "Y\n",
       "0    1006913\n",
       "3     206436\n",
       "2      73068\n",
       "1      55216\n",
       "dtype: int64"
      ]
     },
     "execution_count": 18,
     "metadata": {},
     "output_type": "execute_result"
    }
   ],
   "source": [
    "y.value_counts()"
   ]
  },
  {
   "cell_type": "code",
   "execution_count": 22,
   "id": "ee1d4521",
   "metadata": {},
   "outputs": [
    {
     "name": "stdout",
     "output_type": "stream",
     "text": [
      "Collecting imblearn\n",
      "  Downloading imblearn-0.0-py2.py3-none-any.whl (1.9 kB)\n",
      "Collecting imbalanced-learn\n",
      "  Downloading imbalanced_learn-0.10.1-py3-none-any.whl (226 kB)\n",
      "Requirement already satisfied: scikit-learn>=1.0.2 in c:\\users\\msi\\anaconda3\\lib\\site-packages (from imbalanced-learn->imblearn) (1.0.2)\n",
      "Requirement already satisfied: numpy>=1.17.3 in c:\\users\\msi\\anaconda3\\lib\\site-packages (from imbalanced-learn->imblearn) (1.19.5)\n",
      "Requirement already satisfied: threadpoolctl>=2.0.0 in c:\\users\\msi\\anaconda3\\lib\\site-packages (from imbalanced-learn->imblearn) (2.2.0)\n",
      "Requirement already satisfied: scipy>=1.3.2 in c:\\users\\msi\\anaconda3\\lib\\site-packages (from imbalanced-learn->imblearn) (1.7.3)\n",
      "Collecting joblib>=1.1.1\n",
      "  Using cached joblib-1.2.0-py3-none-any.whl (297 kB)\n",
      "Installing collected packages: joblib, imbalanced-learn, imblearn\n",
      "  Attempting uninstall: joblib\n",
      "    Found existing installation: joblib 1.1.0\n",
      "    Uninstalling joblib-1.1.0:\n",
      "      Successfully uninstalled joblib-1.1.0\n",
      "Successfully installed imbalanced-learn-0.10.1 imblearn-0.0 joblib-1.2.0\n"
     ]
    }
   ],
   "source": [
    "!pip install imblearn"
   ]
  },
  {
   "cell_type": "code",
   "execution_count": 16,
   "id": "106e820e",
   "metadata": {},
   "outputs": [],
   "source": [
    "from imblearn.over_sampling import RandomOverSampler\n",
    "\n",
    "ros = RandomOverSampler(random_state=42)\n",
    "X_resampled, y_resampled = ros.fit_resample(x, y)\n"
   ]
  },
  {
   "cell_type": "code",
   "execution_count": 17,
   "id": "15fa50d7",
   "metadata": {},
   "outputs": [
    {
     "data": {
      "text/plain": [
       "Y\n",
       "0    1006913\n",
       "1    1006913\n",
       "2    1006913\n",
       "3    1006913\n",
       "dtype: int64"
      ]
     },
     "execution_count": 17,
     "metadata": {},
     "output_type": "execute_result"
    }
   ],
   "source": [
    "y_resampled.value_counts()\n"
   ]
  },
  {
   "cell_type": "code",
   "execution_count": 19,
   "id": "bc1fcf21",
   "metadata": {},
   "outputs": [
    {
     "data": {
      "image/png": "[encoded data removed]",
      "text/plain": [
       "<Figure size 432x288 with 2 Axes>"
      ]
     },
     "metadata": {
      "needs_background": "light"
     },
     "output_type": "display_data"
    }
   ],
   "source": [
    "import seaborn as sns\n",
    "import matplotlib.pyplot as plt\n",
    "\n",
    "# Create a sample correlation matrix\n",
    "corr_matrix = x.corr()\n",
    "\n",
    "# Create a heatmap using seaborn\n",
    "sns.heatmap(corr_matrix, annot=True, cmap='coolwarm')\n",
    "\n",
    "# Show the plot\n",
    "plt.show()"
   ]
  },
  {
   "cell_type": "code",
   "execution_count": 19,
   "id": "22be3a84",
   "metadata": {},
   "outputs": [],
   "source": [
    "X_resampled['y'] = y_resampled"
   ]
  },
  {
   "cell_type": "code",
   "execution_count": 20,
   "id": "1561bb80",
   "metadata": {},
   "outputs": [
    {
     "data": {
      "text/html": [
       "<div>\n",
       "<style scoped>\n",
       "    .dataframe tbody tr th:only-of-type {\n",
       "        vertical-align: middle;\n",
       "    }\n",
       "\n",
       "    .dataframe tbody tr th {\n",
       "        vertical-align: top;\n",
       "    }\n",
       "\n",
       "    .dataframe thead th {\n",
       "        text-align: right;\n",
       "    }\n",
       "</style>\n",
       "<table border=\"1\" class=\"dataframe\">\n",
       "  <thead>\n",
       "    <tr style=\"text-align: right;\">\n",
       "      <th></th>\n",
       "      <th>1</th>\n",
       "      <th>2</th>\n",
       "      <th>3</th>\n",
       "      <th>4</th>\n",
       "      <th>5</th>\n",
       "      <th>6</th>\n",
       "      <th>y</th>\n",
       "    </tr>\n",
       "  </thead>\n",
       "  <tbody>\n",
       "    <tr>\n",
       "      <th>0</th>\n",
       "      <td>0.663865</td>\n",
       "      <td>0.023638</td>\n",
       "      <td>-0.555171</td>\n",
       "      <td>0.002975</td>\n",
       "      <td>-0.040439</td>\n",
       "      <td>0.066047</td>\n",
       "      <td>0</td>\n",
       "    </tr>\n",
       "    <tr>\n",
       "      <th>1</th>\n",
       "      <td>0.620545</td>\n",
       "      <td>0.045287</td>\n",
       "      <td>-0.567085</td>\n",
       "      <td>0.000351</td>\n",
       "      <td>-0.018272</td>\n",
       "      <td>0.083457</td>\n",
       "      <td>0</td>\n",
       "    </tr>\n",
       "    <tr>\n",
       "      <th>2</th>\n",
       "      <td>0.682941</td>\n",
       "      <td>0.054654</td>\n",
       "      <td>-0.570324</td>\n",
       "      <td>0.001033</td>\n",
       "      <td>-0.001082</td>\n",
       "      <td>0.089308</td>\n",
       "      <td>0</td>\n",
       "    </tr>\n",
       "    <tr>\n",
       "      <th>3</th>\n",
       "      <td>0.736084</td>\n",
       "      <td>0.055085</td>\n",
       "      <td>-0.568406</td>\n",
       "      <td>0.007191</td>\n",
       "      <td>-0.022229</td>\n",
       "      <td>0.069323</td>\n",
       "      <td>0</td>\n",
       "    </tr>\n",
       "    <tr>\n",
       "      <th>4</th>\n",
       "      <td>0.676758</td>\n",
       "      <td>0.012344</td>\n",
       "      <td>-0.577982</td>\n",
       "      <td>0.005263</td>\n",
       "      <td>-0.044493</td>\n",
       "      <td>0.060373</td>\n",
       "      <td>0</td>\n",
       "    </tr>\n",
       "    <tr>\n",
       "      <th>...</th>\n",
       "      <td>...</td>\n",
       "      <td>...</td>\n",
       "      <td>...</td>\n",
       "      <td>...</td>\n",
       "      <td>...</td>\n",
       "      <td>...</td>\n",
       "      <td>...</td>\n",
       "    </tr>\n",
       "    <tr>\n",
       "      <th>4027647</th>\n",
       "      <td>0.725862</td>\n",
       "      <td>0.374254</td>\n",
       "      <td>-0.600192</td>\n",
       "      <td>-0.970825</td>\n",
       "      <td>0.141854</td>\n",
       "      <td>0.548421</td>\n",
       "      <td>3</td>\n",
       "    </tr>\n",
       "    <tr>\n",
       "      <th>4027648</th>\n",
       "      <td>-0.366764</td>\n",
       "      <td>4.206930</td>\n",
       "      <td>-0.799234</td>\n",
       "      <td>-1.002175</td>\n",
       "      <td>0.646043</td>\n",
       "      <td>-1.168881</td>\n",
       "      <td>3</td>\n",
       "    </tr>\n",
       "    <tr>\n",
       "      <th>4027649</th>\n",
       "      <td>-1.233645</td>\n",
       "      <td>0.765207</td>\n",
       "      <td>-1.052268</td>\n",
       "      <td>-0.143772</td>\n",
       "      <td>-0.474352</td>\n",
       "      <td>-0.519159</td>\n",
       "      <td>3</td>\n",
       "    </tr>\n",
       "    <tr>\n",
       "      <th>4027650</th>\n",
       "      <td>-0.389329</td>\n",
       "      <td>0.560887</td>\n",
       "      <td>-0.235594</td>\n",
       "      <td>-0.445080</td>\n",
       "      <td>-0.577364</td>\n",
       "      <td>-0.239120</td>\n",
       "      <td>3</td>\n",
       "    </tr>\n",
       "    <tr>\n",
       "      <th>4027651</th>\n",
       "      <td>0.847407</td>\n",
       "      <td>0.137959</td>\n",
       "      <td>1.006564</td>\n",
       "      <td>-0.643557</td>\n",
       "      <td>1.189988</td>\n",
       "      <td>2.483562</td>\n",
       "      <td>3</td>\n",
       "    </tr>\n",
       "  </tbody>\n",
       "</table>\n",
       "<p>4027652 rows × 7 columns</p>\n",
       "</div>"
      ],
      "text/plain": [
       "                1         2         3         4         5         6  y\n",
       "0        0.663865  0.023638 -0.555171  0.002975 -0.040439  0.066047  0\n",
       "1        0.620545  0.045287 -0.567085  0.000351 -0.018272  0.083457  0\n",
       "2        0.682941  0.054654 -0.570324  0.001033 -0.001082  0.089308  0\n",
       "3        0.736084  0.055085 -0.568406  0.007191 -0.022229  0.069323  0\n",
       "4        0.676758  0.012344 -0.577982  0.005263 -0.044493  0.060373  0\n",
       "...           ...       ...       ...       ...       ...       ... ..\n",
       "4027647  0.725862  0.374254 -0.600192 -0.970825  0.141854  0.548421  3\n",
       "4027648 -0.366764  4.206930 -0.799234 -1.002175  0.646043 -1.168881  3\n",
       "4027649 -1.233645  0.765207 -1.052268 -0.143772 -0.474352 -0.519159  3\n",
       "4027650 -0.389329  0.560887 -0.235594 -0.445080 -0.577364 -0.239120  3\n",
       "4027651  0.847407  0.137959  1.006564 -0.643557  1.189988  2.483562  3\n",
       "\n",
       "[4027652 rows x 7 columns]"
      ]
     },
     "execution_count": 20,
     "metadata": {},
     "output_type": "execute_result"
    }
   ],
   "source": [
    "X_resampled"
   ]
  },
  {
   "cell_type": "code",
   "execution_count": 21,
   "id": "e9208bfe",
   "metadata": {},
   "outputs": [],
   "source": [
    "X_train, X_test, y_train, y_test= train_test_split(X_resampled.drop('y',axis=1), X_resampled['y'], test_size=0.3, random_state=42, stratify=X_resampled['y'])"
   ]
  },
  {
   "cell_type": "code",
   "execution_count": 22,
   "id": "ac841373",
   "metadata": {},
   "outputs": [
    {
     "data": {
      "text/html": [
       "<div>\n",
       "<style scoped>\n",
       "    .dataframe tbody tr th:only-of-type {\n",
       "        vertical-align: middle;\n",
       "    }\n",
       "\n",
       "    .dataframe tbody tr th {\n",
       "        vertical-align: top;\n",
       "    }\n",
       "\n",
       "    .dataframe thead th {\n",
       "        text-align: right;\n",
       "    }\n",
       "</style>\n",
       "<table border=\"1\" class=\"dataframe\">\n",
       "  <thead>\n",
       "    <tr style=\"text-align: right;\">\n",
       "      <th></th>\n",
       "      <th>1</th>\n",
       "      <th>2</th>\n",
       "      <th>3</th>\n",
       "      <th>4</th>\n",
       "      <th>5</th>\n",
       "      <th>6</th>\n",
       "    </tr>\n",
       "  </thead>\n",
       "  <tbody>\n",
       "    <tr>\n",
       "      <th>2509004</th>\n",
       "      <td>0.003424</td>\n",
       "      <td>0.438805</td>\n",
       "      <td>-1.416725</td>\n",
       "      <td>-0.444362</td>\n",
       "      <td>-0.410592</td>\n",
       "      <td>0.313166</td>\n",
       "    </tr>\n",
       "    <tr>\n",
       "      <th>2106602</th>\n",
       "      <td>0.350410</td>\n",
       "      <td>-1.665025</td>\n",
       "      <td>1.405894</td>\n",
       "      <td>2.137569</td>\n",
       "      <td>0.481224</td>\n",
       "      <td>-0.340770</td>\n",
       "    </tr>\n",
       "    <tr>\n",
       "      <th>3801762</th>\n",
       "      <td>0.351121</td>\n",
       "      <td>0.238184</td>\n",
       "      <td>-0.514276</td>\n",
       "      <td>-0.699083</td>\n",
       "      <td>-0.052591</td>\n",
       "      <td>-0.316754</td>\n",
       "    </tr>\n",
       "    <tr>\n",
       "      <th>373342</th>\n",
       "      <td>0.062784</td>\n",
       "      <td>-1.277433</td>\n",
       "      <td>1.056647</td>\n",
       "      <td>2.239758</td>\n",
       "      <td>-1.837038</td>\n",
       "      <td>-2.552293</td>\n",
       "    </tr>\n",
       "    <tr>\n",
       "      <th>816709</th>\n",
       "      <td>-0.620700</td>\n",
       "      <td>-0.004127</td>\n",
       "      <td>0.575761</td>\n",
       "      <td>-0.273801</td>\n",
       "      <td>-0.975444</td>\n",
       "      <td>-1.477855</td>\n",
       "    </tr>\n",
       "    <tr>\n",
       "      <th>...</th>\n",
       "      <td>...</td>\n",
       "      <td>...</td>\n",
       "      <td>...</td>\n",
       "      <td>...</td>\n",
       "      <td>...</td>\n",
       "      <td>...</td>\n",
       "    </tr>\n",
       "    <tr>\n",
       "      <th>2366809</th>\n",
       "      <td>0.121908</td>\n",
       "      <td>2.283967</td>\n",
       "      <td>0.554922</td>\n",
       "      <td>-0.064416</td>\n",
       "      <td>-0.782190</td>\n",
       "      <td>0.184259</td>\n",
       "    </tr>\n",
       "    <tr>\n",
       "      <th>661901</th>\n",
       "      <td>-0.094425</td>\n",
       "      <td>-0.563437</td>\n",
       "      <td>0.423437</td>\n",
       "      <td>0.365966</td>\n",
       "      <td>0.129402</td>\n",
       "      <td>0.427508</td>\n",
       "    </tr>\n",
       "    <tr>\n",
       "      <th>2136578</th>\n",
       "      <td>4.071328</td>\n",
       "      <td>-3.132933</td>\n",
       "      <td>-2.612486</td>\n",
       "      <td>0.087406</td>\n",
       "      <td>1.346776</td>\n",
       "      <td>-0.235473</td>\n",
       "    </tr>\n",
       "    <tr>\n",
       "      <th>967934</th>\n",
       "      <td>1.074874</td>\n",
       "      <td>0.128632</td>\n",
       "      <td>0.179459</td>\n",
       "      <td>-0.116491</td>\n",
       "      <td>1.730818</td>\n",
       "      <td>0.951906</td>\n",
       "    </tr>\n",
       "    <tr>\n",
       "      <th>460642</th>\n",
       "      <td>0.083066</td>\n",
       "      <td>0.144493</td>\n",
       "      <td>-0.426053</td>\n",
       "      <td>-0.001184</td>\n",
       "      <td>-0.022723</td>\n",
       "      <td>0.071852</td>\n",
       "    </tr>\n",
       "  </tbody>\n",
       "</table>\n",
       "<p>2819356 rows × 6 columns</p>\n",
       "</div>"
      ],
      "text/plain": [
       "                1         2         3         4         5         6\n",
       "2509004  0.003424  0.438805 -1.416725 -0.444362 -0.410592  0.313166\n",
       "2106602  0.350410 -1.665025  1.405894  2.137569  0.481224 -0.340770\n",
       "3801762  0.351121  0.238184 -0.514276 -0.699083 -0.052591 -0.316754\n",
       "373342   0.062784 -1.277433  1.056647  2.239758 -1.837038 -2.552293\n",
       "816709  -0.620700 -0.004127  0.575761 -0.273801 -0.975444 -1.477855\n",
       "...           ...       ...       ...       ...       ...       ...\n",
       "2366809  0.121908  2.283967  0.554922 -0.064416 -0.782190  0.184259\n",
       "661901  -0.094425 -0.563437  0.423437  0.365966  0.129402  0.427508\n",
       "2136578  4.071328 -3.132933 -2.612486  0.087406  1.346776 -0.235473\n",
       "967934   1.074874  0.128632  0.179459 -0.116491  1.730818  0.951906\n",
       "460642   0.083066  0.144493 -0.426053 -0.001184 -0.022723  0.071852\n",
       "\n",
       "[2819356 rows x 6 columns]"
      ]
     },
     "execution_count": 22,
     "metadata": {},
     "output_type": "execute_result"
    }
   ],
   "source": [
    "X_train"
   ]
  },
  {
   "cell_type": "code",
   "execution_count": 23,
   "id": "c49c33e0",
   "metadata": {},
   "outputs": [
    {
     "data": {
      "text/plain": [
       "2509004    2\n",
       "2106602    1\n",
       "3801762    3\n",
       "373342     3\n",
       "816709     0\n",
       "          ..\n",
       "2366809    2\n",
       "661901     0\n",
       "2136578    1\n",
       "967934     0\n",
       "460642     0\n",
       "Name: y, Length: 2819356, dtype: int64"
      ]
     },
     "execution_count": 23,
     "metadata": {},
     "output_type": "execute_result"
    }
   ],
   "source": [
    "y_train"
   ]
  },
  {
   "cell_type": "code",
   "execution_count": 24,
   "id": "4a692e4b",
   "metadata": {},
   "outputs": [
    {
     "data": {
      "text/html": [
       "<div>\n",
       "<style scoped>\n",
       "    .dataframe tbody tr th:only-of-type {\n",
       "        vertical-align: middle;\n",
       "    }\n",
       "\n",
       "    .dataframe tbody tr th {\n",
       "        vertical-align: top;\n",
       "    }\n",
       "\n",
       "    .dataframe thead th {\n",
       "        text-align: right;\n",
       "    }\n",
       "</style>\n",
       "<table border=\"1\" class=\"dataframe\">\n",
       "  <thead>\n",
       "    <tr style=\"text-align: right;\">\n",
       "      <th></th>\n",
       "      <th>1</th>\n",
       "      <th>2</th>\n",
       "      <th>3</th>\n",
       "      <th>4</th>\n",
       "      <th>5</th>\n",
       "      <th>6</th>\n",
       "    </tr>\n",
       "  </thead>\n",
       "  <tbody>\n",
       "    <tr>\n",
       "      <th>2036691</th>\n",
       "      <td>-1.725153</td>\n",
       "      <td>-0.536836</td>\n",
       "      <td>0.810468</td>\n",
       "      <td>1.779474</td>\n",
       "      <td>-0.942336</td>\n",
       "      <td>0.605709</td>\n",
       "    </tr>\n",
       "    <tr>\n",
       "      <th>2191352</th>\n",
       "      <td>-1.169506</td>\n",
       "      <td>-0.722273</td>\n",
       "      <td>1.242862</td>\n",
       "      <td>-0.362699</td>\n",
       "      <td>-0.478405</td>\n",
       "      <td>-0.599843</td>\n",
       "    </tr>\n",
       "    <tr>\n",
       "      <th>3560529</th>\n",
       "      <td>1.473884</td>\n",
       "      <td>-0.702848</td>\n",
       "      <td>-0.449850</td>\n",
       "      <td>1.715081</td>\n",
       "      <td>1.496186</td>\n",
       "      <td>3.703533</td>\n",
       "    </tr>\n",
       "    <tr>\n",
       "      <th>1386648</th>\n",
       "      <td>-0.727414</td>\n",
       "      <td>-0.929362</td>\n",
       "      <td>1.287943</td>\n",
       "      <td>-0.676447</td>\n",
       "      <td>-1.223532</td>\n",
       "      <td>-1.389956</td>\n",
       "    </tr>\n",
       "    <tr>\n",
       "      <th>3416172</th>\n",
       "      <td>-0.761349</td>\n",
       "      <td>0.136615</td>\n",
       "      <td>-0.253007</td>\n",
       "      <td>0.047592</td>\n",
       "      <td>-0.244608</td>\n",
       "      <td>0.214151</td>\n",
       "    </tr>\n",
       "    <tr>\n",
       "      <th>...</th>\n",
       "      <td>...</td>\n",
       "      <td>...</td>\n",
       "      <td>...</td>\n",
       "      <td>...</td>\n",
       "      <td>...</td>\n",
       "      <td>...</td>\n",
       "    </tr>\n",
       "    <tr>\n",
       "      <th>533652</th>\n",
       "      <td>-0.406050</td>\n",
       "      <td>-0.028434</td>\n",
       "      <td>0.596689</td>\n",
       "      <td>2.059874</td>\n",
       "      <td>-1.007114</td>\n",
       "      <td>0.598762</td>\n",
       "    </tr>\n",
       "    <tr>\n",
       "      <th>1446457</th>\n",
       "      <td>1.211145</td>\n",
       "      <td>-0.461496</td>\n",
       "      <td>0.647545</td>\n",
       "      <td>1.901081</td>\n",
       "      <td>1.311220</td>\n",
       "      <td>0.474568</td>\n",
       "    </tr>\n",
       "    <tr>\n",
       "      <th>3316934</th>\n",
       "      <td>0.224299</td>\n",
       "      <td>-0.074522</td>\n",
       "      <td>-0.696088</td>\n",
       "      <td>-0.113932</td>\n",
       "      <td>0.237106</td>\n",
       "      <td>0.488594</td>\n",
       "    </tr>\n",
       "    <tr>\n",
       "      <th>3028951</th>\n",
       "      <td>-0.562020</td>\n",
       "      <td>-2.060541</td>\n",
       "      <td>0.572023</td>\n",
       "      <td>0.828084</td>\n",
       "      <td>-0.292700</td>\n",
       "      <td>0.079073</td>\n",
       "    </tr>\n",
       "    <tr>\n",
       "      <th>3678866</th>\n",
       "      <td>0.113400</td>\n",
       "      <td>0.867675</td>\n",
       "      <td>1.438149</td>\n",
       "      <td>0.168040</td>\n",
       "      <td>-1.312222</td>\n",
       "      <td>-0.672007</td>\n",
       "    </tr>\n",
       "  </tbody>\n",
       "</table>\n",
       "<p>1208296 rows × 6 columns</p>\n",
       "</div>"
      ],
      "text/plain": [
       "                1         2         3         4         5         6\n",
       "2036691 -1.725153 -0.536836  0.810468  1.779474 -0.942336  0.605709\n",
       "2191352 -1.169506 -0.722273  1.242862 -0.362699 -0.478405 -0.599843\n",
       "3560529  1.473884 -0.702848 -0.449850  1.715081  1.496186  3.703533\n",
       "1386648 -0.727414 -0.929362  1.287943 -0.676447 -1.223532 -1.389956\n",
       "3416172 -0.761349  0.136615 -0.253007  0.047592 -0.244608  0.214151\n",
       "...           ...       ...       ...       ...       ...       ...\n",
       "533652  -0.406050 -0.028434  0.596689  2.059874 -1.007114  0.598762\n",
       "1446457  1.211145 -0.461496  0.647545  1.901081  1.311220  0.474568\n",
       "3316934  0.224299 -0.074522 -0.696088 -0.113932  0.237106  0.488594\n",
       "3028951 -0.562020 -2.060541  0.572023  0.828084 -0.292700  0.079073\n",
       "3678866  0.113400  0.867675  1.438149  0.168040 -1.312222 -0.672007\n",
       "\n",
       "[1208296 rows x 6 columns]"
      ]
     },
     "execution_count": 24,
     "metadata": {},
     "output_type": "execute_result"
    }
   ],
   "source": [
    "X_test"
   ]
  },
  {
   "cell_type": "code",
   "execution_count": 25,
   "id": "c626b8f6",
   "metadata": {},
   "outputs": [
    {
     "data": {
      "text/plain": [
       "2036691    1\n",
       "2191352    1\n",
       "3560529    3\n",
       "1386648    1\n",
       "3416172    3\n",
       "          ..\n",
       "533652     0\n",
       "1446457    1\n",
       "3316934    3\n",
       "3028951    2\n",
       "3678866    3\n",
       "Name: y, Length: 1208296, dtype: int64"
      ]
     },
     "execution_count": 25,
     "metadata": {},
     "output_type": "execute_result"
    }
   ],
   "source": [
    "y_test"
   ]
  },
  {
   "cell_type": "code",
   "execution_count": 26,
   "id": "f740112c",
   "metadata": {},
   "outputs": [
    {
     "data": {
      "text/plain": [
       "(2819356, 6)"
      ]
     },
     "execution_count": 26,
     "metadata": {},
     "output_type": "execute_result"
    }
   ],
   "source": [
    "X_train.shape"
   ]
  },
  {
   "cell_type": "code",
   "execution_count": 27,
   "id": "aa1e0c84",
   "metadata": {},
   "outputs": [],
   "source": [
    "import tensorflow.keras as keras\n",
    "y_train = keras.utils.to_categorical(y_train)\n",
    "y_test = keras.utils.to_categorical(y_test)\n"
   ]
  },
  {
   "cell_type": "code",
   "execution_count": null,
   "id": "188294eb",
   "metadata": {},
   "outputs": [],
   "source": [
    "# import keras\n",
    "# from keras.models import Sequential\n",
    "# from keras.layers import Dense, Dropout, Flatten, Conv1D, MaxPooling1D\n",
    "\n",
    "# # Define the input shape\n",
    "# input_shape = (7, 1)\n",
    "\n",
    "# # Define the number of classes\n",
    "# num_classes = 4\n",
    "\n",
    "# # Create the model\n",
    "# model = Sequential()\n",
    "\n",
    "# # Add a convolutional layer with 32 filters, a kernel size of 3, and a relu activation\n",
    "# model.add(Conv1D(32, kernel_size=3, activation='relu', input_shape=input_shape))\n",
    "\n",
    "# # Add a max pooling layer with a pool size of 2\n",
    "# model.add(MaxPooling1D(pool_size=2))\n",
    "\n",
    "# # Add a dropout layer to prevent overfitting\n",
    "# model.add(Dropout(0.25))\n",
    "\n",
    "# # Add a flatten layer to convert the output to a 1D vector\n",
    "# model.add(Flatten())\n",
    "\n",
    "# # Add a dense layer with 128 neurons and a relu activation\n",
    "# model.add(Dense(128, activation='relu'))\n",
    "\n",
    "# # Add a dropout layer to prevent overfitting\n",
    "# model.add(Dropout(0.5))\n",
    "\n",
    "# # Add the output layer with num_classes neurons and a softmax activation\n",
    "# model.add(Dense(num_classes, activation='softmax'))\n",
    "\n",
    "# # Compile the model\n",
    "# model.compile(loss='categorical_crossentropy', optimizer='adam', metrics=['accuracy'])\n",
    "\n",
    "# # Train the model on the training data\n",
    "# model.fit(X_train, y_train, batch_size=128, epochs=10, validation_data=(X_test, y_test))\n"
   ]
  },
  {
   "cell_type": "code",
   "execution_count": 28,
   "id": "30438231",
   "metadata": {},
   "outputs": [
    {
     "data": {
      "text/plain": [
       "(2819356, 6)"
      ]
     },
     "execution_count": 28,
     "metadata": {},
     "output_type": "execute_result"
    }
   ],
   "source": [
    "X_train.shape"
   ]
  },
  {
   "cell_type": "code",
   "execution_count": 29,
   "id": "7728bc79",
   "metadata": {},
   "outputs": [
    {
     "name": "stdout",
     "output_type": "stream",
     "text": [
      "Epoch 1/10\n",
      "88105/88105 [==============================] - 836s 9ms/step - loss: 0.9529 - accuracy: 0.5756 - val_loss: 0.7827 - val_accuracy: 0.6642\n",
      "Epoch 2/10\n",
      "88105/88105 [==============================] - 461s 5ms/step - loss: 0.7981 - accuracy: 0.6592 - val_loss: 0.7613 - val_accuracy: 0.6760\n",
      "Epoch 3/10\n",
      "88105/88105 [==============================] - 523s 6ms/step - loss: 0.7776 - accuracy: 0.6684 - val_loss: 0.7442 - val_accuracy: 0.6843\n",
      "Epoch 4/10\n",
      "88105/88105 [==============================] - 535s 6ms/step - loss: 0.7671 - accuracy: 0.6737 - val_loss: 0.7386 - val_accuracy: 0.6866\n",
      "Epoch 5/10\n",
      "88105/88105 [==============================] - 537s 6ms/step - loss: 0.7591 - accuracy: 0.6774 - val_loss: 0.7338 - val_accuracy: 0.6890\n",
      "Epoch 6/10\n",
      "88105/88105 [==============================] - 550s 6ms/step - loss: 0.7549 - accuracy: 0.6801 - val_loss: 0.7284 - val_accuracy: 0.6913\n",
      "Epoch 7/10\n",
      "88105/88105 [==============================] - 543s 6ms/step - loss: 0.7500 - accuracy: 0.6820 - val_loss: 0.7231 - val_accuracy: 0.6938\n",
      "Epoch 8/10\n",
      "88105/88105 [==============================] - 556s 6ms/step - loss: 0.7462 - accuracy: 0.6831 - val_loss: 0.7249 - val_accuracy: 0.6923\n",
      "Epoch 9/10\n",
      "88105/88105 [==============================] - 549s 6ms/step - loss: 0.7442 - accuracy: 0.6848 - val_loss: 0.7199 - val_accuracy: 0.6942\n",
      "Epoch 10/10\n",
      "88105/88105 [==============================] - 558s 6ms/step - loss: 0.7417 - accuracy: 0.6855 - val_loss: 0.7199 - val_accuracy: 0.6951\n"
     ]
    },
    {
     "data": {
      "text/plain": [
       "<keras.callbacks.History at 0x2147b0a1bb0>"
      ]
     },
     "execution_count": 29,
     "metadata": {},
     "output_type": "execute_result"
    }
   ],
   "source": [
    "from keras.models import Sequential\n",
    "from keras.layers import LSTM, Dense, Dropout\n",
    "import numpy as np\n",
    "\n",
    "X_train = np.expand_dims(X_train, axis=2)\n",
    "X_test = np.expand_dims(X_test, axis=2)\n",
    "\n",
    "model = Sequential()\n",
    "model.add(LSTM(units=64, input_shape=(6,1)))\n",
    "model.add(Dropout(0.2))\n",
    "model.add(Dense(units=32, activation='relu'))\n",
    "model.add(Dense(units=4, activation='softmax'))\n",
    "\n",
    "# Compile model\n",
    "model.compile(loss='categorical_crossentropy', optimizer='adam', metrics=['accuracy'])\n",
    "model.fit(X_train, y_train, batch_size=32, epochs=10, validation_data=(X_test, y_test))"
   ]
  },
  {
   "cell_type": "code",
   "execution_count": 30,
   "id": "668d4912",
   "metadata": {},
   "outputs": [],
   "source": [
    "model.save(\"ModelsC3/lstm1.h5\")"
   ]
  },
  {
   "cell_type": "code",
   "execution_count": 31,
   "id": "36fad70d",
   "metadata": {},
   "outputs": [
    {
     "data": {
      "text/plain": [
       "array([[0., 1., 0., 0.],\n",
       "       [0., 1., 0., 0.],\n",
       "       [0., 0., 0., 1.],\n",
       "       ...,\n",
       "       [0., 0., 0., 1.],\n",
       "       [0., 0., 1., 0.],\n",
       "       [0., 0., 0., 1.]], dtype=float32)"
      ]
     },
     "execution_count": 31,
     "metadata": {},
     "output_type": "execute_result"
    }
   ],
   "source": [
    "y_test"
   ]
  },
  {
   "cell_type": "code",
   "execution_count": 40,
   "id": "dd15c8a4",
   "metadata": {},
   "outputs": [],
   "source": [
    "y_val = np.argmax(y_val, axis=1)"
   ]
  },
  {
   "cell_type": "code",
   "execution_count": 41,
   "id": "33ddcba4",
   "metadata": {},
   "outputs": [
    {
     "name": "stdout",
     "output_type": "stream",
     "text": [
      "F1 Score: 0.6906983943433354\n",
      "Accuracy Score: 0.6951111317094487\n",
      "Precision score:  0.6905555488641201\n",
      "Recall score:  0.6951111317094487\n",
      "Accuracy Score: 0.6951111317094487\n",
      "Confusion Matrix: [[182283  35969  18730  65092]\n",
      " [ 21680 243671  18618  18105]\n",
      " [ 10918  21442 259526  10188]\n",
      " [ 92755  39502  15397 154420]]\n",
      "Mean Absolute Error: 0.6383742063203056\n"
     ]
    }
   ],
   "source": [
    "print('F1 Score:', metrics.f1_score(y_val, y_pred, average='macro'))\n",
    "print('Accuracy Score:', metrics.accuracy_score(y_val, y_pred))\n",
    "print('Precision score: ', metrics.precision_score(y_val, y_pred, average='macro'))\n",
    "print('Recall score: ', metrics.recall_score(y_val, y_pred, average='macro'))\n",
    "print('Accuracy Score:', metrics.accuracy_score(y_val, y_pred))\n",
    "print('Confusion Matrix:', metrics.confusion_matrix(y_val, y_pred))\n",
    "print('Mean Absolute Error:', metrics.mean_absolute_error(y_val, y_pred))"
   ]
  },
  {
   "cell_type": "code",
   "execution_count": 20,
   "id": "f646023f",
   "metadata": {},
   "outputs": [
    {
     "data": {
      "text/plain": [
       "((1341633, 6), (1341633, 1))"
      ]
     },
     "execution_count": 20,
     "metadata": {},
     "output_type": "execute_result"
    }
   ],
   "source": [
    "x.shape,y.shape"
   ]
  },
  {
   "cell_type": "code",
   "execution_count": 21,
   "id": "775d010a",
   "metadata": {},
   "outputs": [
    {
     "data": {
      "text/html": [
       "<div>\n",
       "<style scoped>\n",
       "    .dataframe tbody tr th:only-of-type {\n",
       "        vertical-align: middle;\n",
       "    }\n",
       "\n",
       "    .dataframe tbody tr th {\n",
       "        vertical-align: top;\n",
       "    }\n",
       "\n",
       "    .dataframe thead th {\n",
       "        text-align: right;\n",
       "    }\n",
       "</style>\n",
       "<table border=\"1\" class=\"dataframe\">\n",
       "  <thead>\n",
       "    <tr style=\"text-align: right;\">\n",
       "      <th></th>\n",
       "      <th>feat1</th>\n",
       "      <th>feat2</th>\n",
       "      <th>feat3</th>\n",
       "      <th>feat4</th>\n",
       "      <th>feat5</th>\n",
       "      <th>feat6</th>\n",
       "      <th>target</th>\n",
       "    </tr>\n",
       "  </thead>\n",
       "  <tbody>\n",
       "    <tr>\n",
       "      <th>0</th>\n",
       "      <td>0.663865</td>\n",
       "      <td>0.023638</td>\n",
       "      <td>-0.555171</td>\n",
       "      <td>0.002975</td>\n",
       "      <td>-0.040439</td>\n",
       "      <td>0.066047</td>\n",
       "      <td>0</td>\n",
       "    </tr>\n",
       "    <tr>\n",
       "      <th>1</th>\n",
       "      <td>0.620545</td>\n",
       "      <td>0.045287</td>\n",
       "      <td>-0.567085</td>\n",
       "      <td>0.000351</td>\n",
       "      <td>-0.018272</td>\n",
       "      <td>0.083457</td>\n",
       "      <td>0</td>\n",
       "    </tr>\n",
       "    <tr>\n",
       "      <th>2</th>\n",
       "      <td>0.682941</td>\n",
       "      <td>0.054654</td>\n",
       "      <td>-0.570324</td>\n",
       "      <td>0.001033</td>\n",
       "      <td>-0.001082</td>\n",
       "      <td>0.089308</td>\n",
       "      <td>0</td>\n",
       "    </tr>\n",
       "    <tr>\n",
       "      <th>3</th>\n",
       "      <td>0.736084</td>\n",
       "      <td>0.055085</td>\n",
       "      <td>-0.568406</td>\n",
       "      <td>0.007191</td>\n",
       "      <td>-0.022229</td>\n",
       "      <td>0.069323</td>\n",
       "      <td>0</td>\n",
       "    </tr>\n",
       "    <tr>\n",
       "      <th>4</th>\n",
       "      <td>0.676758</td>\n",
       "      <td>0.012344</td>\n",
       "      <td>-0.577982</td>\n",
       "      <td>0.005263</td>\n",
       "      <td>-0.044493</td>\n",
       "      <td>0.060373</td>\n",
       "      <td>0</td>\n",
       "    </tr>\n",
       "    <tr>\n",
       "      <th>...</th>\n",
       "      <td>...</td>\n",
       "      <td>...</td>\n",
       "      <td>...</td>\n",
       "      <td>...</td>\n",
       "      <td>...</td>\n",
       "      <td>...</td>\n",
       "      <td>...</td>\n",
       "    </tr>\n",
       "    <tr>\n",
       "      <th>1705021</th>\n",
       "      <td>-0.262915</td>\n",
       "      <td>0.314600</td>\n",
       "      <td>-0.270881</td>\n",
       "      <td>-0.188206</td>\n",
       "      <td>-1.227178</td>\n",
       "      <td>-0.761521</td>\n",
       "      <td>3</td>\n",
       "    </tr>\n",
       "    <tr>\n",
       "      <th>1705022</th>\n",
       "      <td>1.395817</td>\n",
       "      <td>1.127760</td>\n",
       "      <td>1.134929</td>\n",
       "      <td>-0.807740</td>\n",
       "      <td>0.969722</td>\n",
       "      <td>-0.121533</td>\n",
       "      <td>3</td>\n",
       "    </tr>\n",
       "    <tr>\n",
       "      <th>1705023</th>\n",
       "      <td>-0.276180</td>\n",
       "      <td>-1.014023</td>\n",
       "      <td>0.737598</td>\n",
       "      <td>1.336281</td>\n",
       "      <td>1.058909</td>\n",
       "      <td>-0.848877</td>\n",
       "      <td>3</td>\n",
       "    </tr>\n",
       "    <tr>\n",
       "      <th>1705024</th>\n",
       "      <td>-0.120718</td>\n",
       "      <td>-0.520496</td>\n",
       "      <td>0.540707</td>\n",
       "      <td>1.078565</td>\n",
       "      <td>1.593185</td>\n",
       "      <td>-0.260154</td>\n",
       "      <td>3</td>\n",
       "    </tr>\n",
       "    <tr>\n",
       "      <th>1705025</th>\n",
       "      <td>-1.478289</td>\n",
       "      <td>-1.938474</td>\n",
       "      <td>-1.202506</td>\n",
       "      <td>0.081113</td>\n",
       "      <td>0.297517</td>\n",
       "      <td>1.404594</td>\n",
       "      <td>3</td>\n",
       "    </tr>\n",
       "  </tbody>\n",
       "</table>\n",
       "<p>1705026 rows × 7 columns</p>\n",
       "</div>"
      ],
      "text/plain": [
       "            feat1     feat2     feat3     feat4     feat5     feat6  target\n",
       "0        0.663865  0.023638 -0.555171  0.002975 -0.040439  0.066047       0\n",
       "1        0.620545  0.045287 -0.567085  0.000351 -0.018272  0.083457       0\n",
       "2        0.682941  0.054654 -0.570324  0.001033 -0.001082  0.089308       0\n",
       "3        0.736084  0.055085 -0.568406  0.007191 -0.022229  0.069323       0\n",
       "4        0.676758  0.012344 -0.577982  0.005263 -0.044493  0.060373       0\n",
       "...           ...       ...       ...       ...       ...       ...     ...\n",
       "1705021 -0.262915  0.314600 -0.270881 -0.188206 -1.227178 -0.761521       3\n",
       "1705022  1.395817  1.127760  1.134929 -0.807740  0.969722 -0.121533       3\n",
       "1705023 -0.276180 -1.014023  0.737598  1.336281  1.058909 -0.848877       3\n",
       "1705024 -0.120718 -0.520496  0.540707  1.078565  1.593185 -0.260154       3\n",
       "1705025 -1.478289 -1.938474 -1.202506  0.081113  0.297517  1.404594       3\n",
       "\n",
       "[1705026 rows x 7 columns]"
      ]
     },
     "execution_count": 21,
     "metadata": {},
     "output_type": "execute_result"
    }
   ],
   "source": [
    "from imblearn.over_sampling import SMOTE\n",
    "import pandas as pd\n",
    "\n",
    "\n",
    "\n",
    "# Initialize SMOTE with desired class ratios\n",
    "smote = SMOTE(sampling_strategy={0: 1006913, 1: 4*55216, 2: 3*73068, 3: int(1.25*206436)}, random_state=42)\n",
    "\n",
    "# Generate synthetic data points\n",
    "X_resampled, y_resampled = smote.fit_resample(x, y)\n",
    "\n",
    "# Combine resampled features and target into a new dataframe\n",
    "df_resampled = pd.concat([pd.DataFrame(X_resampled), pd.DataFrame(y_resampled)], axis=1)\n",
    "df_resampled.columns = ['feat1', 'feat2', 'feat3', 'feat4', 'feat5', 'feat6', 'target']\n",
    "\n",
    "\n",
    "df_resampled\n"
   ]
  },
  {
   "cell_type": "code",
   "execution_count": 22,
   "id": "43fe3472",
   "metadata": {},
   "outputs": [],
   "source": [
    "X_train, X_test, y_train, y_test= train_test_split(df_resampled.drop('target',axis=1), df_resampled['target'], test_size=0.3, random_state=42, stratify=df_resampled['target'])"
   ]
  },
  {
   "cell_type": "code",
   "execution_count": 23,
   "id": "725488e6",
   "metadata": {},
   "outputs": [],
   "source": [
    "import tensorflow.keras as keras\n",
    "y_train = keras.utils.to_categorical(y_train)\n",
    "y_test = keras.utils.to_categorical(y_test)\n"
   ]
  },
  {
   "cell_type": "code",
   "execution_count": 24,
   "id": "7206f8b9",
   "metadata": {},
   "outputs": [
    {
     "name": "stdout",
     "output_type": "stream",
     "text": [
      "Epoch 1/10\n",
      "37298/37298 [==============================] - 129s 3ms/step - loss: 0.9035 - accuracy: 0.6539 - val_loss: 0.7153 - val_accuracy: 0.7232\n",
      "Epoch 2/10\n",
      "37298/37298 [==============================] - 125s 3ms/step - loss: 0.7258 - accuracy: 0.7196 - val_loss: 0.6924 - val_accuracy: 0.7310\n",
      "Epoch 3/10\n",
      "37298/37298 [==============================] - 129s 3ms/step - loss: 0.7026 - accuracy: 0.7281 - val_loss: 0.6736 - val_accuracy: 0.7373\n",
      "Epoch 4/10\n",
      "37298/37298 [==============================] - 134s 4ms/step - loss: 0.6888 - accuracy: 0.7329 - val_loss: 0.6664 - val_accuracy: 0.7395\n",
      "Epoch 5/10\n",
      "37298/37298 [==============================] - 136s 4ms/step - loss: 0.6817 - accuracy: 0.7352 - val_loss: 0.6617 - val_accuracy: 0.7420\n",
      "Epoch 6/10\n",
      "37298/37298 [==============================] - 138s 4ms/step - loss: 0.6748 - accuracy: 0.7379 - val_loss: 0.6546 - val_accuracy: 0.7444\n",
      "Epoch 7/10\n",
      "37298/37298 [==============================] - 140s 4ms/step - loss: 0.6727 - accuracy: 0.7385 - val_loss: 0.6551 - val_accuracy: 0.7439\n",
      "Epoch 8/10\n",
      "37298/37298 [==============================] - 141s 4ms/step - loss: 0.6676 - accuracy: 0.7402 - val_loss: 0.6541 - val_accuracy: 0.7452\n",
      "Epoch 9/10\n",
      "37298/37298 [==============================] - 142s 4ms/step - loss: 0.6654 - accuracy: 0.7406 - val_loss: 0.6476 - val_accuracy: 0.7468\n",
      "Epoch 10/10\n",
      "37298/37298 [==============================] - 143s 4ms/step - loss: 0.6621 - accuracy: 0.7420 - val_loss: 0.6474 - val_accuracy: 0.7471\n"
     ]
    },
    {
     "data": {
      "text/plain": [
       "<keras.callbacks.History at 0x21c409a8670>"
      ]
     },
     "execution_count": 24,
     "metadata": {},
     "output_type": "execute_result"
    }
   ],
   "source": [
    "from keras.models import Sequential\n",
    "from keras.layers import LSTM, Dense, Dropout\n",
    "import numpy as np\n",
    "\n",
    "X_train = np.expand_dims(X_train, axis=2)\n",
    "X_test = np.expand_dims(X_test, axis=2)\n",
    "\n",
    "model = Sequential()\n",
    "model.add(LSTM(units=64, input_shape=(6,1)))\n",
    "model.add(Dropout(0.2))\n",
    "model.add(Dense(units=32, activation='relu'))\n",
    "model.add(Dense(units=4, activation='softmax'))\n",
    "\n",
    "# Compile model\n",
    "model.compile(loss='categorical_crossentropy', optimizer='adam', metrics=['accuracy'])\n",
    "model.fit(X_train, y_train, batch_size=32, epochs=10, validation_data=(X_test, y_test))"
   ]
  },
  {
   "cell_type": "code",
   "execution_count": 25,
   "id": "930635c4",
   "metadata": {},
   "outputs": [],
   "source": [
    "model.save(\"ModelsC3/lstm1_SMOTE.h5\")"
   ]
  },
  {
   "cell_type": "code",
   "execution_count": 26,
   "id": "6dc19390",
   "metadata": {},
   "outputs": [
    {
     "name": "stdout",
     "output_type": "stream",
     "text": [
      "Epoch 1/10\n",
      "37298/37298 [==============================] - 339s 9ms/step - loss: 0.9226 - accuracy: 0.6524 - val_loss: 0.7205 - val_accuracy: 0.7232\n",
      "Epoch 2/10\n",
      "37298/37298 [==============================] - 333s 9ms/step - loss: 0.7460 - accuracy: 0.7139 - val_loss: 0.6958 - val_accuracy: 0.7313\n",
      "Epoch 3/10\n",
      "37298/37298 [==============================] - 334s 9ms/step - loss: 0.7208 - accuracy: 0.7227 - val_loss: 0.6805 - val_accuracy: 0.7368\n",
      "Epoch 4/10\n",
      "37298/37298 [==============================] - 337s 9ms/step - loss: 0.7091 - accuracy: 0.7259 - val_loss: 0.6787 - val_accuracy: 0.7377\n",
      "Epoch 5/10\n",
      "37298/37298 [==============================] - 338s 9ms/step - loss: 0.7009 - accuracy: 0.7304 - val_loss: 0.6653 - val_accuracy: 0.7418\n",
      "Epoch 6/10\n",
      "37298/37298 [==============================] - 340s 9ms/step - loss: 0.6932 - accuracy: 0.7320 - val_loss: 0.6662 - val_accuracy: 0.7418\n",
      "Epoch 7/10\n",
      "37298/37298 [==============================] - 340s 9ms/step - loss: 0.6899 - accuracy: 0.7333 - val_loss: 0.6578 - val_accuracy: 0.7444\n",
      "Epoch 8/10\n",
      "37298/37298 [==============================] - 340s 9ms/step - loss: 0.6847 - accuracy: 0.7354 - val_loss: 0.6590 - val_accuracy: 0.7444\n",
      "Epoch 9/10\n",
      "37298/37298 [==============================] - 342s 9ms/step - loss: 0.6821 - accuracy: 0.7361 - val_loss: 0.6530 - val_accuracy: 0.7465\n",
      "Epoch 10/10\n",
      "37298/37298 [==============================] - 343s 9ms/step - loss: 0.6792 - accuracy: 0.7375 - val_loss: 0.6508 - val_accuracy: 0.7476\n"
     ]
    },
    {
     "data": {
      "text/plain": [
       "<keras.callbacks.History at 0x21c5bfa4cd0>"
      ]
     },
     "execution_count": 26,
     "metadata": {},
     "output_type": "execute_result"
    }
   ],
   "source": [
    "from keras.models import Sequential\n",
    "from keras.layers import LSTM, Dense, Dropout\n",
    "\n",
    "model = Sequential()\n",
    "\n",
    "# Add LSTM layers with dropout\n",
    "model.add(LSTM(units=64, return_sequences=True, input_shape=(6,1)))\n",
    "model.add(Dropout(0.2))\n",
    "\n",
    "model.add(LSTM(units=32, return_sequences=True))\n",
    "model.add(Dropout(0.2))\n",
    "\n",
    "model.add(LSTM(units=16))\n",
    "model.add(Dropout(0.2))\n",
    "\n",
    "# Add dense layers\n",
    "model.add(Dense(units=8, activation='relu'))\n",
    "model.add(Dense(units=4, activation='softmax'))\n",
    "\n",
    "# Compile model\n",
    "model.compile(loss='categorical_crossentropy', optimizer='adam', metrics=['accuracy'])\n",
    "\n",
    "# Fit model\n",
    "model.fit(X_train, y_train, batch_size=32, epochs=10, validation_data=(X_test, y_test))"
   ]
  },
  {
   "cell_type": "code",
   "execution_count": 27,
   "id": "a4509888",
   "metadata": {},
   "outputs": [],
   "source": [
    "model.save(\"ModelsC3/lstm2_SMOTE.h5\")"
   ]
  },
  {
   "cell_type": "code",
   "execution_count": null,
   "id": "27cddf65",
   "metadata": {},
   "outputs": [],
   "source": []
  }
 ],
 "metadata": {
  "kernelspec": {
   "display_name": "Python 3 (ipykernel)",
   "language": "python",
   "name": "python3"
  },
  "language_info": {
   "codemirror_mode": {
    "name": "ipython",
    "version": 3
   },
   "file_extension": ".py",
   "mimetype": "text/x-python",
   "name": "python",
   "nbconvert_exporter": "python",
   "pygments_lexer": "ipython3",
   "version": "3.9.12"
  }
 },
 "nbformat": 4,
 "nbformat_minor": 5
}
