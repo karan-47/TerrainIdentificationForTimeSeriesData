{
 "cells": [
  {
   "cell_type": "code",
   "execution_count": 14,
   "id": "01d6998e",
   "metadata": {},
   "outputs": [],
   "source": [
    "import numpy as np\n",
    "import pandas as pd\n",
    "import os\n",
    "\n",
    "path = \"TestData\"\n",
    "\n",
    "files = os.listdir(path)\n",
    "\n",
    "x_csv = []\n",
    "x_time_csv = []\n",
    "y_csv = []\n",
    "y_time_csv = []\n",
    "\n",
    "for file in files:\n",
    "    if file.endswith(\"_x.csv\"):\n",
    "        x_csv.append(pd.read_csv(path+\"/\"+file,header = None))\n",
    "    elif file.endswith(\"_x_time.csv\"):\n",
    "        x_time_csv.append(pd.read_csv(path+\"/\"+file,header = None))\n",
    "    elif file.endswith(\"_y_time.csv\"):\n",
    "        y_time_csv.append(pd.read_csv(path+\"/\"+file,header = None))\n"
   ]
  },
  {
   "cell_type": "code",
   "execution_count": 15,
   "id": "c954f48f",
   "metadata": {},
   "outputs": [
    {
     "name": "stdout",
     "output_type": "stream",
     "text": [
      "4\n"
     ]
    }
   ],
   "source": [
    "print(len(x_csv))"
   ]
  },
  {
   "cell_type": "code",
   "execution_count": 16,
   "id": "e6aa6d3f",
   "metadata": {},
   "outputs": [
    {
     "name": "stdout",
     "output_type": "stream",
     "text": [
      "37991 37992\n",
      "49081 49080\n",
      "51761 51760\n",
      "45319 45320\n"
     ]
    }
   ],
   "source": [
    "for i in range(4):\n",
    "    print(len(x_csv[i]),4*len(y_time_csv[i]))"
   ]
  },
  {
   "cell_type": "code",
   "execution_count": 17,
   "id": "0e7f0d0c",
   "metadata": {},
   "outputs": [],
   "source": [
    "l = []\n",
    "for j in range(4):\n",
    "    new_list = []\n",
    "    for i in (y_time_csv[j].T).values.tolist()[0]:\n",
    "        new_list.extend([i]*4)\n",
    "    l.append(pd.DataFrame(new_list))\n",
    "y_time_csv = l\n"
   ]
  },
  {
   "cell_type": "code",
   "execution_count": 18,
   "id": "aed4fb1c",
   "metadata": {},
   "outputs": [],
   "source": [
    "   \n",
    "for i in range(4):\n",
    "    if len(x_csv[i])>len(y_time_csv[i]):\n",
    "        t = -(len(x_csv[i])-len(y_time_csv[i]))\n",
    "        x_csv[i] = x_csv[i].drop(x_csv[i].iloc[t:].index)\n",
    "        x_time_csv[i] = x_time_csv[i].drop(x_time_csv[i].iloc[t:].index)\n",
    "    elif len(x_csv[i])<len(y_time_csv[i]):\n",
    "        y_time_csv[i] = y_time_csv[i].drop(y_time_csv[i].iloc[-(len(y_time_csv[i])-len(x_csv[i])):].index)\n",
    "    "
   ]
  },
  {
   "cell_type": "code",
   "execution_count": 19,
   "id": "518c2176",
   "metadata": {},
   "outputs": [
    {
     "name": "stdout",
     "output_type": "stream",
     "text": [
      "37991 37991\n",
      "49080 49080\n",
      "51760 51760\n",
      "45319 45319\n"
     ]
    }
   ],
   "source": [
    "for i in range(4):\n",
    "    print(len(x_csv[i]),len(y_time_csv[i]))"
   ]
  },
  {
   "cell_type": "code",
   "execution_count": 20,
   "id": "b1a4f0de",
   "metadata": {},
   "outputs": [],
   "source": [
    "for df in x_csv:\n",
    "    df.set_axis([\"1\",\"2\",\"3\",\"4\",\"5\",\"6\"], axis=1, inplace=True)\n",
    "x = pd.concat(x_csv).reset_index(drop=True)"
   ]
  },
  {
   "cell_type": "code",
   "execution_count": 21,
   "id": "fd2ac6c0",
   "metadata": {},
   "outputs": [],
   "source": [
    "for df in x_time_csv:\n",
    "    df.set_axis([\"7\"], axis=1, inplace=True)\n",
    "x_time_csv\n",
    "x_time_csv = pd.concat(x_time_csv).reset_index(drop=True)\n",
    "x['7'] = x_time_csv"
   ]
  },
  {
   "cell_type": "code",
   "execution_count": 22,
   "id": "7bb76e57",
   "metadata": {},
   "outputs": [
    {
     "data": {
      "text/html": [
       "<div>\n",
       "<style scoped>\n",
       "    .dataframe tbody tr th:only-of-type {\n",
       "        vertical-align: middle;\n",
       "    }\n",
       "\n",
       "    .dataframe tbody tr th {\n",
       "        vertical-align: top;\n",
       "    }\n",
       "\n",
       "    .dataframe thead th {\n",
       "        text-align: right;\n",
       "    }\n",
       "</style>\n",
       "<table border=\"1\" class=\"dataframe\">\n",
       "  <thead>\n",
       "    <tr style=\"text-align: right;\">\n",
       "      <th></th>\n",
       "      <th>1</th>\n",
       "      <th>2</th>\n",
       "      <th>3</th>\n",
       "      <th>4</th>\n",
       "      <th>5</th>\n",
       "      <th>6</th>\n",
       "      <th>7</th>\n",
       "    </tr>\n",
       "  </thead>\n",
       "  <tbody>\n",
       "    <tr>\n",
       "      <th>0</th>\n",
       "      <td>0.396845</td>\n",
       "      <td>8.710000</td>\n",
       "      <td>-4.476044</td>\n",
       "      <td>0.001111</td>\n",
       "      <td>-0.008889</td>\n",
       "      <td>0.004137</td>\n",
       "      <td>0.000</td>\n",
       "    </tr>\n",
       "    <tr>\n",
       "      <th>1</th>\n",
       "      <td>0.413795</td>\n",
       "      <td>8.706898</td>\n",
       "      <td>-4.456205</td>\n",
       "      <td>0.000000</td>\n",
       "      <td>-0.002838</td>\n",
       "      <td>0.007162</td>\n",
       "      <td>0.025</td>\n",
       "    </tr>\n",
       "    <tr>\n",
       "      <th>2</th>\n",
       "      <td>0.423914</td>\n",
       "      <td>8.707828</td>\n",
       "      <td>-4.502172</td>\n",
       "      <td>0.002037</td>\n",
       "      <td>0.001111</td>\n",
       "      <td>0.007778</td>\n",
       "      <td>0.050</td>\n",
       "    </tr>\n",
       "    <tr>\n",
       "      <th>3</th>\n",
       "      <td>0.442980</td>\n",
       "      <td>8.718078</td>\n",
       "      <td>-4.502980</td>\n",
       "      <td>0.000403</td>\n",
       "      <td>0.004648</td>\n",
       "      <td>0.008384</td>\n",
       "      <td>0.075</td>\n",
       "    </tr>\n",
       "    <tr>\n",
       "      <th>4</th>\n",
       "      <td>0.485234</td>\n",
       "      <td>8.725234</td>\n",
       "      <td>-4.520000</td>\n",
       "      <td>-0.000020</td>\n",
       "      <td>0.006667</td>\n",
       "      <td>0.007778</td>\n",
       "      <td>0.100</td>\n",
       "    </tr>\n",
       "    <tr>\n",
       "      <th>...</th>\n",
       "      <td>...</td>\n",
       "      <td>...</td>\n",
       "      <td>...</td>\n",
       "      <td>...</td>\n",
       "      <td>...</td>\n",
       "      <td>...</td>\n",
       "      <td>...</td>\n",
       "    </tr>\n",
       "    <tr>\n",
       "      <th>184145</th>\n",
       "      <td>1.759771</td>\n",
       "      <td>9.145114</td>\n",
       "      <td>3.150458</td>\n",
       "      <td>-0.006046</td>\n",
       "      <td>0.009510</td>\n",
       "      <td>0.035375</td>\n",
       "      <td>1132.850</td>\n",
       "    </tr>\n",
       "    <tr>\n",
       "      <th>184146</th>\n",
       "      <td>1.793038</td>\n",
       "      <td>9.156304</td>\n",
       "      <td>3.145874</td>\n",
       "      <td>-0.003333</td>\n",
       "      <td>0.010000</td>\n",
       "      <td>0.051222</td>\n",
       "      <td>1132.875</td>\n",
       "    </tr>\n",
       "    <tr>\n",
       "      <th>184147</th>\n",
       "      <td>1.885642</td>\n",
       "      <td>9.121285</td>\n",
       "      <td>3.091285</td>\n",
       "      <td>-0.005124</td>\n",
       "      <td>0.022902</td>\n",
       "      <td>0.063333</td>\n",
       "      <td>1132.900</td>\n",
       "    </tr>\n",
       "    <tr>\n",
       "      <th>184148</th>\n",
       "      <td>1.864490</td>\n",
       "      <td>9.156898</td>\n",
       "      <td>3.117592</td>\n",
       "      <td>-0.006667</td>\n",
       "      <td>0.017093</td>\n",
       "      <td>0.065642</td>\n",
       "      <td>1132.925</td>\n",
       "    </tr>\n",
       "    <tr>\n",
       "      <th>184149</th>\n",
       "      <td>1.839925</td>\n",
       "      <td>9.133283</td>\n",
       "      <td>3.143358</td>\n",
       "      <td>-0.006200</td>\n",
       "      <td>0.013404</td>\n",
       "      <td>0.072293</td>\n",
       "      <td>1132.950</td>\n",
       "    </tr>\n",
       "  </tbody>\n",
       "</table>\n",
       "<p>184150 rows × 7 columns</p>\n",
       "</div>"
      ],
      "text/plain": [
       "               1         2         3         4         5         6         7\n",
       "0       0.396845  8.710000 -4.476044  0.001111 -0.008889  0.004137     0.000\n",
       "1       0.413795  8.706898 -4.456205  0.000000 -0.002838  0.007162     0.025\n",
       "2       0.423914  8.707828 -4.502172  0.002037  0.001111  0.007778     0.050\n",
       "3       0.442980  8.718078 -4.502980  0.000403  0.004648  0.008384     0.075\n",
       "4       0.485234  8.725234 -4.520000 -0.000020  0.006667  0.007778     0.100\n",
       "...          ...       ...       ...       ...       ...       ...       ...\n",
       "184145  1.759771  9.145114  3.150458 -0.006046  0.009510  0.035375  1132.850\n",
       "184146  1.793038  9.156304  3.145874 -0.003333  0.010000  0.051222  1132.875\n",
       "184147  1.885642  9.121285  3.091285 -0.005124  0.022902  0.063333  1132.900\n",
       "184148  1.864490  9.156898  3.117592 -0.006667  0.017093  0.065642  1132.925\n",
       "184149  1.839925  9.133283  3.143358 -0.006200  0.013404  0.072293  1132.950\n",
       "\n",
       "[184150 rows x 7 columns]"
      ]
     },
     "execution_count": 22,
     "metadata": {},
     "output_type": "execute_result"
    }
   ],
   "source": [
    "x"
   ]
  },
  {
   "cell_type": "code",
   "execution_count": 23,
   "id": "ea6f5a59",
   "metadata": {},
   "outputs": [],
   "source": [
    "path = \"TrainingData\"\n",
    "\n",
    "files = os.listdir(path)\n",
    "\n",
    "x_train_csv = []\n",
    "x_train_time_csv = []\n",
    "y_train_csv = []\n",
    "y_train_time_csv = []\n",
    "for file in files:\n",
    "    if file.endswith(\"_x.csv\"):\n",
    "        x_train_csv.append(pd.read_csv(path+\"/\"+file,header = None))\n",
    "    elif file.endswith(\"_x_time.csv\"):\n",
    "        x_train_time_csv.append(pd.read_csv(path+\"/\"+file,header = None))\n",
    "    elif file.endswith(\"_y.csv\"):\n",
    "        y_train_csv.append(pd.read_csv(path+\"/\"+file,header = None))\n",
    "    elif file.endswith(\"_y_time.csv\"):\n",
    "        y_train_time_csv.append(pd.read_csv(path+\"/\"+file,header = None))"
   ]
  },
  {
   "cell_type": "code",
   "execution_count": 24,
   "id": "72525840",
   "metadata": {},
   "outputs": [],
   "source": [
    "l = []\n",
    "for j in range(29):\n",
    "    new_list = []\n",
    "    for i in (y_train_csv[j].T).values.tolist()[0]:\n",
    "        new_list.extend([i]*4)\n",
    "    l.append(pd.DataFrame(new_list))\n",
    "y_train_csv = l\n",
    "\n",
    "l = []\n",
    "for j in range(29):\n",
    "    new_list = []\n",
    "    for i in (y_train_time_csv[j].T).values.tolist()[0]:\n",
    "        new_list.extend([i]*4)\n",
    "    l.append(pd.DataFrame(new_list))\n",
    "y_train_time_csv = l"
   ]
  },
  {
   "cell_type": "code",
   "execution_count": 25,
   "id": "28e0356f",
   "metadata": {},
   "outputs": [],
   "source": [
    "\n",
    "for i in range(29):\n",
    "    if len(x_train_csv[i])>len(y_train_csv[i]):\n",
    "        x_train_csv[i] = x_train_csv[i].drop(x_train_csv[i].iloc[-(len(x_train_csv[i])-len(y_train_csv[i])):].index)\n",
    "        x_train_time_csv[i] = x_train_time_csv[i].drop(x_train_time_csv[i].iloc[-(len(x_train_time_csv[i])-len(y_train_csv[i])):].index)\n",
    "    elif len(x_train_csv[i])<len(y_train_csv[i]):\n",
    "        y_train_csv[i] = y_train_csv[i].drop(y_train_csv[i].iloc[-(len(y_train_csv[i])-len(x_train_csv[i])):].index)\n",
    "        y_train_time_csv[i] = y_train_time_csv[i].drop(y_train_time_csv[i].iloc[-(len(y_train_time_csv[i])-len(x_train_csv[i])):].index)\n",
    "    "
   ]
  },
  {
   "cell_type": "code",
   "execution_count": 26,
   "id": "96f05a5c",
   "metadata": {},
   "outputs": [
    {
     "name": "stdout",
     "output_type": "stream",
     "text": [
      "37890 37890\n",
      "70172 70172\n",
      "43146 43146\n",
      "54956 54956\n",
      "59120 59120\n",
      "38631 38631\n",
      "31423 31423\n",
      "66762 66762\n",
      "55999 55999\n",
      "55400 55400\n",
      "48796 48796\n",
      "51460 51460\n",
      "42319 42319\n",
      "36312 36312\n",
      "47210 47210\n",
      "19532 19532\n",
      "34308 34308\n",
      "34476 34476\n",
      "56079 56079\n",
      "34519 34519\n",
      "44904 44904\n",
      "48124 48124\n",
      "59562 59562\n",
      "45128 45128\n",
      "46200 46200\n",
      "46988 46988\n",
      "44640 44640\n",
      "39439 39439\n",
      "48138 48138\n"
     ]
    }
   ],
   "source": [
    "for i in range(29):\n",
    "    print(len(x_train_csv[i]),len(y_train_csv[i]))"
   ]
  },
  {
   "cell_type": "code",
   "execution_count": 27,
   "id": "fdeed935",
   "metadata": {},
   "outputs": [],
   "source": [
    "for df in x_train_csv:\n",
    "    df.set_axis([\"1\",\"2\",\"3\",\"4\",\"5\",\"6\"], axis=1, inplace=True)\n",
    "x2 = pd.concat(x_train_csv).reset_index(drop=True)\n",
    "for df in x_train_time_csv:\n",
    "    df.set_axis([\"7\"], axis=1, inplace=True)\n",
    "\n",
    "x_train_time_csv = pd.concat(x_train_time_csv).reset_index(drop=True)\n",
    "x2['7'] = x_train_time_csv"
   ]
  },
  {
   "cell_type": "code",
   "execution_count": 28,
   "id": "c540b20a",
   "metadata": {},
   "outputs": [
    {
     "data": {
      "text/html": [
       "<div>\n",
       "<style scoped>\n",
       "    .dataframe tbody tr th:only-of-type {\n",
       "        vertical-align: middle;\n",
       "    }\n",
       "\n",
       "    .dataframe tbody tr th {\n",
       "        vertical-align: top;\n",
       "    }\n",
       "\n",
       "    .dataframe thead th {\n",
       "        text-align: right;\n",
       "    }\n",
       "</style>\n",
       "<table border=\"1\" class=\"dataframe\">\n",
       "  <thead>\n",
       "    <tr style=\"text-align: right;\">\n",
       "      <th></th>\n",
       "      <th>1</th>\n",
       "      <th>2</th>\n",
       "      <th>3</th>\n",
       "      <th>4</th>\n",
       "      <th>5</th>\n",
       "      <th>6</th>\n",
       "      <th>7</th>\n",
       "    </tr>\n",
       "  </thead>\n",
       "  <tbody>\n",
       "    <tr>\n",
       "      <th>0</th>\n",
       "      <td>4.435275</td>\n",
       "      <td>8.196063</td>\n",
       "      <td>2.974488</td>\n",
       "      <td>0.014215</td>\n",
       "      <td>-0.039157</td>\n",
       "      <td>-0.016744</td>\n",
       "      <td>0.000</td>\n",
       "    </tr>\n",
       "    <tr>\n",
       "      <th>1</th>\n",
       "      <td>4.186920</td>\n",
       "      <td>8.344455</td>\n",
       "      <td>2.908057</td>\n",
       "      <td>0.005771</td>\n",
       "      <td>-0.004480</td>\n",
       "      <td>-0.003345</td>\n",
       "      <td>0.025</td>\n",
       "    </tr>\n",
       "    <tr>\n",
       "      <th>2</th>\n",
       "      <td>4.544637</td>\n",
       "      <td>8.408659</td>\n",
       "      <td>2.890000</td>\n",
       "      <td>0.007967</td>\n",
       "      <td>0.022412</td>\n",
       "      <td>0.001159</td>\n",
       "      <td>0.050</td>\n",
       "    </tr>\n",
       "    <tr>\n",
       "      <th>3</th>\n",
       "      <td>4.849308</td>\n",
       "      <td>8.411614</td>\n",
       "      <td>2.900692</td>\n",
       "      <td>0.027778</td>\n",
       "      <td>-0.010670</td>\n",
       "      <td>-0.014223</td>\n",
       "      <td>0.075</td>\n",
       "    </tr>\n",
       "    <tr>\n",
       "      <th>4</th>\n",
       "      <td>4.509190</td>\n",
       "      <td>8.118649</td>\n",
       "      <td>2.847298</td>\n",
       "      <td>0.021577</td>\n",
       "      <td>-0.045498</td>\n",
       "      <td>-0.021111</td>\n",
       "      <td>0.100</td>\n",
       "    </tr>\n",
       "    <tr>\n",
       "      <th>...</th>\n",
       "      <td>...</td>\n",
       "      <td>...</td>\n",
       "      <td>...</td>\n",
       "      <td>...</td>\n",
       "      <td>...</td>\n",
       "      <td>...</td>\n",
       "      <td>...</td>\n",
       "    </tr>\n",
       "    <tr>\n",
       "      <th>1341628</th>\n",
       "      <td>2.072244</td>\n",
       "      <td>8.908878</td>\n",
       "      <td>-3.500000</td>\n",
       "      <td>0.001351</td>\n",
       "      <td>0.001191</td>\n",
       "      <td>0.001031</td>\n",
       "      <td>1203.325</td>\n",
       "    </tr>\n",
       "    <tr>\n",
       "      <th>1341629</th>\n",
       "      <td>2.085123</td>\n",
       "      <td>8.915123</td>\n",
       "      <td>-3.520000</td>\n",
       "      <td>0.001918</td>\n",
       "      <td>-0.001147</td>\n",
       "      <td>0.000000</td>\n",
       "      <td>1203.350</td>\n",
       "    </tr>\n",
       "    <tr>\n",
       "      <th>1341630</th>\n",
       "      <td>2.083774</td>\n",
       "      <td>8.910000</td>\n",
       "      <td>-3.538981</td>\n",
       "      <td>-0.002015</td>\n",
       "      <td>-0.004099</td>\n",
       "      <td>0.001042</td>\n",
       "      <td>1203.375</td>\n",
       "    </tr>\n",
       "    <tr>\n",
       "      <th>1341631</th>\n",
       "      <td>2.111447</td>\n",
       "      <td>8.908553</td>\n",
       "      <td>-3.535724</td>\n",
       "      <td>0.000183</td>\n",
       "      <td>-0.001673</td>\n",
       "      <td>0.001856</td>\n",
       "      <td>1203.400</td>\n",
       "    </tr>\n",
       "    <tr>\n",
       "      <th>1341632</th>\n",
       "      <td>2.087730</td>\n",
       "      <td>8.900000</td>\n",
       "      <td>-3.518865</td>\n",
       "      <td>0.000052</td>\n",
       "      <td>-0.001267</td>\n",
       "      <td>0.000000</td>\n",
       "      <td>1203.425</td>\n",
       "    </tr>\n",
       "  </tbody>\n",
       "</table>\n",
       "<p>1341633 rows × 7 columns</p>\n",
       "</div>"
      ],
      "text/plain": [
       "                1         2         3         4         5         6         7\n",
       "0        4.435275  8.196063  2.974488  0.014215 -0.039157 -0.016744     0.000\n",
       "1        4.186920  8.344455  2.908057  0.005771 -0.004480 -0.003345     0.025\n",
       "2        4.544637  8.408659  2.890000  0.007967  0.022412  0.001159     0.050\n",
       "3        4.849308  8.411614  2.900692  0.027778 -0.010670 -0.014223     0.075\n",
       "4        4.509190  8.118649  2.847298  0.021577 -0.045498 -0.021111     0.100\n",
       "...           ...       ...       ...       ...       ...       ...       ...\n",
       "1341628  2.072244  8.908878 -3.500000  0.001351  0.001191  0.001031  1203.325\n",
       "1341629  2.085123  8.915123 -3.520000  0.001918 -0.001147  0.000000  1203.350\n",
       "1341630  2.083774  8.910000 -3.538981 -0.002015 -0.004099  0.001042  1203.375\n",
       "1341631  2.111447  8.908553 -3.535724  0.000183 -0.001673  0.001856  1203.400\n",
       "1341632  2.087730  8.900000 -3.518865  0.000052 -0.001267  0.000000  1203.425\n",
       "\n",
       "[1341633 rows x 7 columns]"
      ]
     },
     "execution_count": 28,
     "metadata": {},
     "output_type": "execute_result"
    }
   ],
   "source": [
    "x2"
   ]
  },
  {
   "cell_type": "code",
   "execution_count": 29,
   "id": "024245c0",
   "metadata": {},
   "outputs": [],
   "source": [
    "from sklearn.preprocessing import StandardScaler\n",
    "scaler = StandardScaler()\n",
    "scaler.fit(x2)\n",
    "x = scaler.transform(x)"
   ]
  },
  {
   "cell_type": "code",
   "execution_count": 30,
   "id": "1cd46ebc",
   "metadata": {},
   "outputs": [
    {
     "data": {
      "text/plain": [
       "array([[-4.05534133e-02,  9.86177952e-02, -1.89136578e+00, ...,\n",
       "        -2.10906416e-02,  9.31778392e-02, -1.59037458e+00],\n",
       "       [-3.75967055e-02,  9.81652335e-02, -1.88780781e+00, ...,\n",
       "        -1.72224811e-02,  9.71091232e-02, -1.59030938e+00],\n",
       "       [-3.58317824e-02,  9.83009145e-02, -1.89605163e+00, ...,\n",
       "        -1.46982653e-02,  9.79087941e-02, -1.59024418e+00],\n",
       "       ...,\n",
       "       [ 2.19135727e-01,  1.58621615e-01, -5.34224655e-01, ...,\n",
       "        -7.68779282e-04,  1.70092692e-01,  1.36415693e+00],\n",
       "       [ 2.15446209e-01,  1.63817321e-01, -5.29506700e-01, ...,\n",
       "        -4.48235361e-03,  1.73092410e-01,  1.36422213e+00],\n",
       "       [ 2.11161365e-01,  1.60372045e-01, -5.24885770e-01, ...,\n",
       "        -6.83992593e-03,  1.81734473e-01,  1.36428733e+00]])"
      ]
     },
     "execution_count": 30,
     "metadata": {},
     "output_type": "execute_result"
    }
   ],
   "source": [
    "x"
   ]
  },
  {
   "cell_type": "code",
   "execution_count": 31,
   "id": "abbf076d",
   "metadata": {},
   "outputs": [],
   "source": [
    "x = pd.DataFrame(x,columns = [\"1\",\"2\",\"3\",\"4\",\"5\",\"6\",\"7\"])"
   ]
  },
  {
   "cell_type": "code",
   "execution_count": 32,
   "id": "cc436059",
   "metadata": {},
   "outputs": [
    {
     "data": {
      "text/plain": [
       "(184150, 7)"
      ]
     },
     "execution_count": 32,
     "metadata": {},
     "output_type": "execute_result"
    }
   ],
   "source": [
    "x.shape"
   ]
  },
  {
   "cell_type": "code",
   "execution_count": 33,
   "id": "83e45462",
   "metadata": {},
   "outputs": [],
   "source": [
    "df = x\n",
    "\n",
    "# Group the first 6 columns by every 4 rows and take their mean\n",
    "df_concise = df.iloc[:, :6].groupby(df.index // 4).mean()\n",
    "\n",
    "# Replace the 7th column by every 4th value in order\n",
    "df_concise['column_7'] = df.iloc[::4, 6].reset_index(drop=True)\n",
    "\n",
    "# Save the concise dataframe to a new csv file\n",
    "df_concise.to_csv('concise_dataframe.csv', index=False)"
   ]
  },
  {
   "cell_type": "code",
   "execution_count": 34,
   "id": "a6c75ec8",
   "metadata": {},
   "outputs": [],
   "source": [
    "from keras.models import load_model\n",
    "\n",
    "# returns a compiled model\n",
    "# identical to the previous one\n",
    "model = load_model('Models/LSTM.h5')"
   ]
  },
  {
   "cell_type": "code",
   "execution_count": 39,
   "id": "05661356",
   "metadata": {},
   "outputs": [
    {
     "name": "stdout",
     "output_type": "stream",
     "text": [
      "1439/1439 [==============================] - 4s 3ms/step\n"
     ]
    }
   ],
   "source": [
    "max_indices = np.argmax(model.predict(df_concise), axis=1)"
   ]
  },
  {
   "cell_type": "code",
   "execution_count": 40,
   "id": "61866cd0",
   "metadata": {},
   "outputs": [
    {
     "name": "stdout",
     "output_type": "stream",
     "text": [
      "46038\n"
     ]
    }
   ],
   "source": [
    "print(len(max_indices))"
   ]
  },
  {
   "cell_type": "code",
   "execution_count": null,
   "id": "70e52b6d",
   "metadata": {},
   "outputs": [],
   "source": []
  },
  {
   "cell_type": "code",
   "execution_count": 41,
   "id": "4952ef41",
   "metadata": {},
   "outputs": [],
   "source": [
    "slice1 = max_indices[:37992//4]\n",
    "slice2 = max_indices[37992//4:(49076+37988+8)//4]\n",
    "slice3 = max_indices[(49076+37988+8)//4:(51756+12+49076+37988)//4]\n",
    "slice4 = max_indices[(51756+49076+37988+12)//4:]\n",
    "\n"
   ]
  },
  {
   "cell_type": "code",
   "execution_count": 46,
   "id": "d748b494",
   "metadata": {},
   "outputs": [],
   "source": [
    "np.savetxt(\"subject_009_01__y.csv\", slice1, delimiter=\",\")\n",
    "np.savetxt(\"subject_010_01__y.csv\", slice2, delimiter=\",\")\n",
    "np.savetxt(\"subject_011_01__y.csv\", slice3, delimiter=\",\")\n",
    "np.savetxt(\"subject_012_01__y.csv\", slice4, delimiter=\",\")"
   ]
  },
  {
   "cell_type": "code",
   "execution_count": 43,
   "id": "73e94409",
   "metadata": {},
   "outputs": [
    {
     "name": "stdout",
     "output_type": "stream",
     "text": [
      "9498 12270 12940 11330\n"
     ]
    }
   ],
   "source": [
    "print(len(slice1),len(slice2),len(slice3),len(slice4))"
   ]
  },
  {
   "cell_type": "code",
   "execution_count": 44,
   "id": "7653a645",
   "metadata": {},
   "outputs": [
    {
     "name": "stdout",
     "output_type": "stream",
     "text": [
      "Value: 0 Count: 40556\n",
      "Value: 1 Count: 1138\n",
      "Value: 2 Count: 2584\n",
      "Value: 3 Count: 1760\n"
     ]
    }
   ],
   "source": [
    "# Get the unique values and their count\n",
    "unique, counts = np.unique(max_indices, return_counts=True)\n",
    "\n",
    "# Print the unique values and their count\n",
    "for i in range(len(unique)):\n",
    "    print(\"Value:\", unique[i], \"Count:\", counts[i])"
   ]
  },
  {
   "cell_type": "code",
   "execution_count": null,
   "id": "34fce1e3",
   "metadata": {},
   "outputs": [],
   "source": []
  }
 ],
 "metadata": {
  "kernelspec": {
   "display_name": "Python 3 (ipykernel)",
   "language": "python",
   "name": "python3"
  },
  "language_info": {
   "codemirror_mode": {
    "name": "ipython",
    "version": 3
   },
   "file_extension": ".py",
   "mimetype": "text/x-python",
   "name": "python",
   "nbconvert_exporter": "python",
   "pygments_lexer": "ipython3",
   "version": "3.9.12"
  }
 },
 "nbformat": 4,
 "nbformat_minor": 5
}
