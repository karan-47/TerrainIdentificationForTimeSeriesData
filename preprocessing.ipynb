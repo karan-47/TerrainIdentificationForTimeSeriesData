{
 "cells": [
  {
   "cell_type": "code",
   "execution_count": 1,
   "id": "4e3cdbf3",
   "metadata": {},
   "outputs": [],
   "source": [
    "import pandas as pd\n",
    "import numpy as np\n",
    "import os"
   ]
  },
  {
   "cell_type": "code",
   "execution_count": 2,
   "id": "a90bc833",
   "metadata": {},
   "outputs": [],
   "source": [
    "x,x_time,y,y_time = [],[],[],[]"
   ]
  },
  {
   "cell_type": "code",
   "execution_count": 3,
   "id": "52a3eea8",
   "metadata": {},
   "outputs": [],
   "source": [
    "import os\n",
    "\n",
    "path = \"TrainingData\"\n",
    "\n",
    "files = os.listdir(path)\n",
    "\n",
    "x_csv = []\n",
    "x_time_csv = []\n",
    "y_csv = []\n",
    "y_time_csv = []\n",
    "\n",
    "for file in files:\n",
    "    if file.endswith(\"_x.csv\"):\n",
    "        x_csv.append(pd.read_csv(path+\"/\"+file))\n",
    "    elif file.endswith(\"_x_time.csv\"):\n",
    "        x_time_csv.append(pd.read_csv(path+\"/\"+file))\n",
    "    elif file.endswith(\"_y.csv\"):\n",
    "        y_csv.append(pd.read_csv(path+\"/\"+file))\n",
    "    elif file.endswith(\"_y_time.csv\"):\n",
    "        y_time_csv.append(pd.read_csv(path+\"/\"+file))\n"
   ]
  },
  {
   "cell_type": "code",
   "execution_count": 4,
   "id": "f83a883b",
   "metadata": {},
   "outputs": [
    {
     "name": "stdout",
     "output_type": "stream",
     "text": [
      "37889 9472\n",
      "70171 17542\n",
      "43145 10786\n",
      "54955 13738\n",
      "59120 14779\n",
      "38630 9657\n",
      "31422 7855\n",
      "66761 16690\n",
      "55998 13999\n",
      "55400 13849\n",
      "48796 12198\n",
      "51460 12864\n",
      "42318 10579\n",
      "36312 9077\n",
      "47209 11802\n",
      "19532 4882\n",
      "34308 8576\n",
      "34475 8618\n",
      "56078 14019\n",
      "34518 8629\n",
      "44904 11225\n",
      "48124 12030\n",
      "59561 14890\n",
      "45128 11281\n",
      "46200 11549\n",
      "46988 11746\n",
      "44640 11159\n",
      "39438 9859\n",
      "48137 12034\n"
     ]
    }
   ],
   "source": [
    "for i in range(29):\n",
    "    print(len(x_csv[i]),len(y_csv[i]))"
   ]
  },
  {
   "cell_type": "code",
   "execution_count": 5,
   "id": "6656734f",
   "metadata": {},
   "outputs": [],
   "source": [
    "l = []\n",
    "for j in range(29):\n",
    "    new_list = []\n",
    "    for i in (y_csv[j].T).values.tolist()[0]:\n",
    "        new_list.extend([i]*4)\n",
    "    l.append(pd.DataFrame(new_list))\n",
    "\n",
    "\n",
    "y_csv = l\n",
    "l = []\n",
    "for j in range(29):\n",
    "    new_list = []\n",
    "    for i in (y_time_csv[j].T).values.tolist()[0]:\n",
    "        new_list.extend([i]*4)\n",
    "    l.append(pd.DataFrame(new_list))\n",
    "y_time_csv = l\n"
   ]
  },
  {
   "cell_type": "code",
   "execution_count": 6,
   "id": "a19d6c19",
   "metadata": {},
   "outputs": [],
   "source": [
    "for i in range(29):\n",
    "    x_csv[i] = x_csv[i].drop(x_csv[i].iloc[-(len(x_csv[i])-len(y_csv[i])):].index)\n",
    "    x_time_csv[i] = x_time_csv[i].drop(x_time_csv[i].iloc[-(len(x_time_csv[i])-len(y_csv[i])):].index)\n",
    "    \n"
   ]
  },
  {
   "cell_type": "code",
   "execution_count": 7,
   "id": "9d9735b8",
   "metadata": {},
   "outputs": [
    {
     "name": "stdout",
     "output_type": "stream",
     "text": [
      "37888 37888\n",
      "70168 70168\n",
      "43144 43144\n",
      "54952 54952\n",
      "59116 59116\n",
      "38628 38628\n",
      "31420 31420\n",
      "66760 66760\n",
      "55996 55996\n",
      "55396 55396\n",
      "48792 48792\n",
      "51456 51456\n",
      "42316 42316\n",
      "36308 36308\n",
      "47208 47208\n",
      "19528 19528\n",
      "34304 34304\n",
      "34472 34472\n",
      "56076 56076\n",
      "34516 34516\n",
      "44900 44900\n",
      "48120 48120\n",
      "59560 59560\n",
      "45124 45124\n",
      "46196 46196\n",
      "46984 46984\n",
      "44636 44636\n",
      "39436 39436\n",
      "48136 48136\n"
     ]
    }
   ],
   "source": [
    "for i in range(29):\n",
    "    print(len(x_csv[i]),len(y_csv[i]))"
   ]
  },
  {
   "cell_type": "code",
   "execution_count": 8,
   "id": "763efe01",
   "metadata": {},
   "outputs": [],
   "source": [
    "# x_csv = pd.concat(x_csv)\n",
    "# x_time_csv = pd.concat(x_time_csv)\n",
    "# y_csv = pd.concat(y_csv)\n",
    "# y_time_csv = pd.concat(y_time_csv)\n",
    "for df in x_csv:\n",
    "    df.set_axis([\"1\",\"2\",\"3\",\"4\",\"5\",\"6\"], axis=1, inplace=True)\n",
    "x = pd.concat(x_csv).reset_index(drop=True)\n"
   ]
  },
  {
   "cell_type": "code",
   "execution_count": 9,
   "id": "72a09945",
   "metadata": {},
   "outputs": [],
   "source": [
    "for df in x_time_csv:\n",
    "    df.set_axis([\"7\"], axis=1, inplace=True)\n",
    "x_time_csv\n",
    "x_time_csv = pd.concat(x_time_csv).reset_index(drop=True)\n",
    "x['7'] = x_time_csv"
   ]
  },
  {
   "cell_type": "code",
   "execution_count": 10,
   "id": "370e507d",
   "metadata": {},
   "outputs": [],
   "source": [
    "for df in y_csv:\n",
    "    df.set_axis([\"Y\"], axis=1, inplace=True)\n",
    "y = pd.concat(y_csv).reset_index(drop=True)"
   ]
  },
  {
   "cell_type": "code",
   "execution_count": 11,
   "id": "9442ddec",
   "metadata": {},
   "outputs": [
    {
     "data": {
      "text/plain": [
       "(                1         2         3         4         5         6         7\n",
       " 0        4.186920  8.344455  2.908057  0.005771 -0.004480 -0.003345     0.025\n",
       " 1        4.544637  8.408659  2.890000  0.007967  0.022412  0.001159     0.050\n",
       " 2        4.849308  8.411614  2.900692  0.027778 -0.010670 -0.014223     0.075\n",
       " 3        4.509190  8.118649  2.847298  0.021577 -0.045498 -0.021111     0.100\n",
       " 4        4.226515  8.273807  2.851742  0.012534  0.000445 -0.016830     0.125\n",
       " ...           ...       ...       ...       ...       ...       ...       ...\n",
       " 1341531  2.098301  8.893398 -3.510000  0.001195  0.000335  0.001027  1203.300\n",
       " 1341532  2.072244  8.908878 -3.500000  0.001351  0.001191  0.001031  1203.325\n",
       " 1341533  2.085123  8.915123 -3.520000  0.001918 -0.001147  0.000000  1203.350\n",
       " 1341534  2.083774  8.910000 -3.538981 -0.002015 -0.004099  0.001042  1203.375\n",
       " 1341535  2.111447  8.908553 -3.535724  0.000183 -0.001673  0.001856  1203.400\n",
       " \n",
       " [1341536 rows x 7 columns],\n",
       "          Y\n",
       " 0        0\n",
       " 1        0\n",
       " 2        0\n",
       " 3        0\n",
       " 4        0\n",
       " ...     ..\n",
       " 1341531  0\n",
       " 1341532  0\n",
       " 1341533  0\n",
       " 1341534  0\n",
       " 1341535  0\n",
       " \n",
       " [1341536 rows x 1 columns])"
      ]
     },
     "execution_count": 11,
     "metadata": {},
     "output_type": "execute_result"
    }
   ],
   "source": [
    "x,y"
   ]
  },
  {
   "cell_type": "code",
   "execution_count": 12,
   "id": "8fb4106f",
   "metadata": {},
   "outputs": [],
   "source": [
    "from sklearn.preprocessing import StandardScaler"
   ]
  },
  {
   "cell_type": "code",
   "execution_count": null,
   "id": "ba68a76f",
   "metadata": {},
   "outputs": [],
   "source": []
  },
  {
   "cell_type": "code",
   "execution_count": 13,
   "id": "6f898b49",
   "metadata": {},
   "outputs": [],
   "source": [
    "scaler = StandardScaler()\n",
    "scaler.fit(x)\n",
    "x = scaler.transform(x)"
   ]
  },
  {
   "cell_type": "code",
   "execution_count": 14,
   "id": "d01a6c98",
   "metadata": {},
   "outputs": [
    {
     "data": {
      "text/plain": [
       "array([[ 6.20525610e-01,  4.52969580e-02, -5.67122422e-01, ...,\n",
       "        -1.82724598e-02,  8.34581506e-02, -1.59035835e+00],\n",
       "       [ 6.82919665e-01,  5.46635786e-02, -5.70360751e-01, ...,\n",
       "        -1.08306174e-03,  8.93094706e-02, -1.59029315e+00],\n",
       "       [ 7.36061280e-01,  5.50946789e-02, -5.68443256e-01, ...,\n",
       "        -2.22296637e-02,  6.93247393e-02, -1.59022795e+00],\n",
       "       ...,\n",
       "       [ 2.53923973e-01,  1.28550815e-01, -1.71992535e+00, ...,\n",
       "        -1.61419790e-02,  8.78042387e-02,  1.54800613e+00],\n",
       "       [ 2.53688676e-01,  1.27803429e-01, -1.72332938e+00, ...,\n",
       "        -1.80294941e-02,  8.91582178e-02,  1.54807134e+00],\n",
       "       [ 2.58515482e-01,  1.27592328e-01, -1.72274528e+00, ...,\n",
       "        -1.64783360e-02,  9.02155820e-02,  1.54813654e+00]])"
      ]
     },
     "execution_count": 14,
     "metadata": {},
     "output_type": "execute_result"
    }
   ],
   "source": [
    "x"
   ]
  },
  {
   "cell_type": "code",
   "execution_count": 15,
   "id": "268533d1",
   "metadata": {},
   "outputs": [],
   "source": [
    "x = pd.DataFrame(x,columns = [\"1\",\"2\",\"3\",\"4\",\"5\",\"6\",\"7\"])"
   ]
  },
  {
   "cell_type": "code",
   "execution_count": 16,
   "id": "19af83d6",
   "metadata": {},
   "outputs": [],
   "source": [
    "from sklearn.model_selection import train_test_split"
   ]
  },
  {
   "cell_type": "code",
   "execution_count": 17,
   "id": "bd6f2c1e",
   "metadata": {},
   "outputs": [],
   "source": [
    "x['y'] = y"
   ]
  },
  {
   "cell_type": "code",
   "execution_count": 18,
   "id": "e9208bfe",
   "metadata": {},
   "outputs": [],
   "source": [
    "X_train, X_test, y_train, y_test= train_test_split(x.drop('y',axis=1), x['y'], test_size=0.2, random_state=42, stratify=x['y'])"
   ]
  },
  {
   "cell_type": "code",
   "execution_count": 19,
   "id": "ac841373",
   "metadata": {},
   "outputs": [
    {
     "data": {
      "text/html": [
       "<div>\n",
       "<style scoped>\n",
       "    .dataframe tbody tr th:only-of-type {\n",
       "        vertical-align: middle;\n",
       "    }\n",
       "\n",
       "    .dataframe tbody tr th {\n",
       "        vertical-align: top;\n",
       "    }\n",
       "\n",
       "    .dataframe thead th {\n",
       "        text-align: right;\n",
       "    }\n",
       "</style>\n",
       "<table border=\"1\" class=\"dataframe\">\n",
       "  <thead>\n",
       "    <tr style=\"text-align: right;\">\n",
       "      <th></th>\n",
       "      <th>1</th>\n",
       "      <th>2</th>\n",
       "      <th>3</th>\n",
       "      <th>4</th>\n",
       "      <th>5</th>\n",
       "      <th>6</th>\n",
       "      <th>7</th>\n",
       "    </tr>\n",
       "  </thead>\n",
       "  <tbody>\n",
       "    <tr>\n",
       "      <th>649570</th>\n",
       "      <td>-0.115550</td>\n",
       "      <td>-1.280971</td>\n",
       "      <td>0.271861</td>\n",
       "      <td>0.644274</td>\n",
       "      <td>0.392302</td>\n",
       "      <td>0.108841</td>\n",
       "      <td>0.747392</td>\n",
       "    </tr>\n",
       "    <tr>\n",
       "      <th>803436</th>\n",
       "      <td>0.183757</td>\n",
       "      <td>0.042149</td>\n",
       "      <td>-0.583550</td>\n",
       "      <td>-0.215840</td>\n",
       "      <td>-0.080163</td>\n",
       "      <td>-0.005253</td>\n",
       "      <td>-0.934688</td>\n",
       "    </tr>\n",
       "    <tr>\n",
       "      <th>979546</th>\n",
       "      <td>1.752736</td>\n",
       "      <td>0.047685</td>\n",
       "      <td>-0.007212</td>\n",
       "      <td>-0.560602</td>\n",
       "      <td>3.105541</td>\n",
       "      <td>0.904000</td>\n",
       "      <td>-0.533957</td>\n",
       "    </tr>\n",
       "    <tr>\n",
       "      <th>104936</th>\n",
       "      <td>1.806260</td>\n",
       "      <td>0.188780</td>\n",
       "      <td>-1.028420</td>\n",
       "      <td>-0.215671</td>\n",
       "      <td>-0.629253</td>\n",
       "      <td>-1.002059</td>\n",
       "      <td>2.781301</td>\n",
       "    </tr>\n",
       "    <tr>\n",
       "      <th>656267</th>\n",
       "      <td>-0.367877</td>\n",
       "      <td>0.163800</td>\n",
       "      <td>-0.549022</td>\n",
       "      <td>0.006768</td>\n",
       "      <td>0.006875</td>\n",
       "      <td>0.045037</td>\n",
       "      <td>-1.575036</td>\n",
       "    </tr>\n",
       "    <tr>\n",
       "      <th>...</th>\n",
       "      <td>...</td>\n",
       "      <td>...</td>\n",
       "      <td>...</td>\n",
       "      <td>...</td>\n",
       "      <td>...</td>\n",
       "      <td>...</td>\n",
       "      <td>...</td>\n",
       "    </tr>\n",
       "    <tr>\n",
       "      <th>1064595</th>\n",
       "      <td>-0.119021</td>\n",
       "      <td>-0.291913</td>\n",
       "      <td>0.878464</td>\n",
       "      <td>0.755168</td>\n",
       "      <td>-0.024073</td>\n",
       "      <td>-1.671912</td>\n",
       "      <td>1.873885</td>\n",
       "    </tr>\n",
       "    <tr>\n",
       "      <th>530300</th>\n",
       "      <td>-0.894968</td>\n",
       "      <td>-1.010694</td>\n",
       "      <td>0.871313</td>\n",
       "      <td>1.527046</td>\n",
       "      <td>1.007892</td>\n",
       "      <td>0.444500</td>\n",
       "      <td>-0.492879</td>\n",
       "    </tr>\n",
       "    <tr>\n",
       "      <th>857548</th>\n",
       "      <td>-0.887751</td>\n",
       "      <td>0.124088</td>\n",
       "      <td>0.427574</td>\n",
       "      <td>-0.046386</td>\n",
       "      <td>-0.059517</td>\n",
       "      <td>-1.323819</td>\n",
       "      <td>0.345878</td>\n",
       "    </tr>\n",
       "    <tr>\n",
       "      <th>1317682</th>\n",
       "      <td>-0.724297</td>\n",
       "      <td>0.140537</td>\n",
       "      <td>1.760978</td>\n",
       "      <td>-0.133710</td>\n",
       "      <td>0.600001</td>\n",
       "      <td>1.241472</td>\n",
       "      <td>-0.007125</td>\n",
       "    </tr>\n",
       "    <tr>\n",
       "      <th>414410</th>\n",
       "      <td>0.275632</td>\n",
       "      <td>-1.015213</td>\n",
       "      <td>0.587099</td>\n",
       "      <td>1.513835</td>\n",
       "      <td>1.707905</td>\n",
       "      <td>-0.225729</td>\n",
       "      <td>-0.786158</td>\n",
       "    </tr>\n",
       "  </tbody>\n",
       "</table>\n",
       "<p>1073228 rows × 7 columns</p>\n",
       "</div>"
      ],
      "text/plain": [
       "                1         2         3         4         5         6         7\n",
       "649570  -0.115550 -1.280971  0.271861  0.644274  0.392302  0.108841  0.747392\n",
       "803436   0.183757  0.042149 -0.583550 -0.215840 -0.080163 -0.005253 -0.934688\n",
       "979546   1.752736  0.047685 -0.007212 -0.560602  3.105541  0.904000 -0.533957\n",
       "104936   1.806260  0.188780 -1.028420 -0.215671 -0.629253 -1.002059  2.781301\n",
       "656267  -0.367877  0.163800 -0.549022  0.006768  0.006875  0.045037 -1.575036\n",
       "...           ...       ...       ...       ...       ...       ...       ...\n",
       "1064595 -0.119021 -0.291913  0.878464  0.755168 -0.024073 -1.671912  1.873885\n",
       "530300  -0.894968 -1.010694  0.871313  1.527046  1.007892  0.444500 -0.492879\n",
       "857548  -0.887751  0.124088  0.427574 -0.046386 -0.059517 -1.323819  0.345878\n",
       "1317682 -0.724297  0.140537  1.760978 -0.133710  0.600001  1.241472 -0.007125\n",
       "414410   0.275632 -1.015213  0.587099  1.513835  1.707905 -0.225729 -0.786158\n",
       "\n",
       "[1073228 rows x 7 columns]"
      ]
     },
     "execution_count": 19,
     "metadata": {},
     "output_type": "execute_result"
    }
   ],
   "source": [
    "X_train"
   ]
  },
  {
   "cell_type": "code",
   "execution_count": 20,
   "id": "c49c33e0",
   "metadata": {},
   "outputs": [
    {
     "data": {
      "text/plain": [
       "649570     2\n",
       "803436     0\n",
       "979546     0\n",
       "104936     0\n",
       "656267     0\n",
       "          ..\n",
       "1064595    0\n",
       "530300     0\n",
       "857548     0\n",
       "1317682    3\n",
       "414410     0\n",
       "Name: y, Length: 1073228, dtype: int64"
      ]
     },
     "execution_count": 20,
     "metadata": {},
     "output_type": "execute_result"
    }
   ],
   "source": [
    "y_train"
   ]
  },
  {
   "cell_type": "code",
   "execution_count": null,
   "id": "4a692e4b",
   "metadata": {},
   "outputs": [],
   "source": []
  }
 ],
 "metadata": {
  "kernelspec": {
   "display_name": "Python 3 (ipykernel)",
   "language": "python",
   "name": "python3"
  },
  "language_info": {
   "codemirror_mode": {
    "name": "ipython",
    "version": 3
   },
   "file_extension": ".py",
   "mimetype": "text/x-python",
   "name": "python",
   "nbconvert_exporter": "python",
   "pygments_lexer": "ipython3",
   "version": "3.9.12"
  }
 },
 "nbformat": 4,
 "nbformat_minor": 5
}
