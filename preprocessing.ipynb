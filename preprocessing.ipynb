{
 "cells": [
  {
   "cell_type": "code",
   "execution_count": 1,
   "id": "4e3cdbf3",
   "metadata": {},
   "outputs": [],
   "source": [
    "import pandas as pd\n",
    "import numpy as np\n",
    "import os"
   ]
  },
  {
   "cell_type": "code",
   "execution_count": 2,
   "id": "a90bc833",
   "metadata": {},
   "outputs": [],
   "source": [
    "x,x_time,y,y_time = [],[],[],[]"
   ]
  },
  {
   "cell_type": "code",
   "execution_count": 6,
   "id": "52a3eea8",
   "metadata": {},
   "outputs": [],
   "source": [
    "import os\n",
    "\n",
    "path = \"TrainingData\"\n",
    "\n",
    "files = os.listdir(path)\n",
    "\n",
    "x_csv = []\n",
    "x_time_csv = []\n",
    "y_csv = []\n",
    "y_time_csv = []\n",
    "\n",
    "for file in files:\n",
    "    if file.endswith(\"_x.csv\"):\n",
    "        x_csv.append(pd.read_csv(path+\"/\"+file,header = None))\n",
    "    elif file.endswith(\"_x_time.csv\"):\n",
    "        x_time_csv.append(pd.read_csv(path+\"/\"+file,header = None))\n",
    "    elif file.endswith(\"_y.csv\"):\n",
    "        y_csv.append(pd.read_csv(path+\"/\"+file,header = None))\n",
    "    elif file.endswith(\"_y_time.csv\"):\n",
    "        y_time_csv.append(pd.read_csv(path+\"/\"+file,header = None))\n"
   ]
  },
  {
   "cell_type": "code",
   "execution_count": 15,
   "id": "9b86713c",
   "metadata": {},
   "outputs": [],
   "source": [
    "# for i in range(29):\n",
    "#     print(x_time_csv[i].iloc[1],y_time_csv[i].iloc[1])"
   ]
  },
  {
   "cell_type": "code",
   "execution_count": 9,
   "id": "f83a883b",
   "metadata": {},
   "outputs": [
    {
     "name": "stdout",
     "output_type": "stream",
     "text": [
      "37890 37892\n",
      "70172 70172\n",
      "43146 43148\n",
      "54956 54956\n",
      "59121 59120\n",
      "38631 38632\n",
      "31423 31424\n",
      "66762 66764\n",
      "55999 56000\n",
      "55401 55400\n",
      "48797 48796\n",
      "51461 51460\n",
      "42319 42320\n",
      "36313 36312\n",
      "47210 47212\n",
      "19533 19532\n",
      "34309 34308\n",
      "34476 34476\n",
      "56079 56080\n",
      "34519 34520\n",
      "44905 44904\n",
      "48125 48124\n",
      "59562 59564\n",
      "45129 45128\n",
      "46201 46200\n",
      "46989 46988\n",
      "44641 44640\n",
      "39439 39440\n",
      "48138 48140\n"
     ]
    }
   ],
   "source": [
    "for i in range(29):\n",
    "    print(len(x_csv[i]),4*len(y_csv[i]))"
   ]
  },
  {
   "cell_type": "code",
   "execution_count": 16,
   "id": "6656734f",
   "metadata": {},
   "outputs": [],
   "source": [
    "l = []\n",
    "for j in range(29):\n",
    "    new_list = []\n",
    "    for i in (y_csv[j].T).values.tolist()[0]:\n",
    "        new_list.extend([i]*4)\n",
    "    l.append(pd.DataFrame(new_list))\n",
    "\n",
    "\n",
    "y_csv = l\n",
    "l = []\n",
    "for j in range(29):\n",
    "    new_list = []\n",
    "    for i in (y_time_csv[j].T).values.tolist()[0]:\n",
    "        new_list.extend([i]*4)\n",
    "    l.append(pd.DataFrame(new_list))\n",
    "y_time_csv = l\n"
   ]
  },
  {
   "cell_type": "code",
   "execution_count": 18,
   "id": "cc0a4968",
   "metadata": {},
   "outputs": [
    {
     "name": "stdout",
     "output_type": "stream",
     "text": [
      "37890 37892\n",
      "70172 70172\n",
      "43146 43148\n",
      "54956 54956\n",
      "59121 59120\n",
      "38631 38632\n",
      "31423 31424\n",
      "66762 66764\n",
      "55999 56000\n",
      "55401 55400\n",
      "48797 48796\n",
      "51461 51460\n",
      "42319 42320\n",
      "36313 36312\n",
      "47210 47212\n",
      "19533 19532\n",
      "34309 34308\n",
      "34476 34476\n",
      "56079 56080\n",
      "34519 34520\n",
      "44905 44904\n",
      "48125 48124\n",
      "59562 59564\n",
      "45129 45128\n",
      "46201 46200\n",
      "46989 46988\n",
      "44641 44640\n",
      "39439 39440\n",
      "48138 48140\n"
     ]
    }
   ],
   "source": [
    "for i in range(29):\n",
    "    print(len(x_csv[i]),len(y_csv[i]))"
   ]
  },
  {
   "cell_type": "code",
   "execution_count": 20,
   "id": "a19d6c19",
   "metadata": {},
   "outputs": [],
   "source": [
    "for i in range(29):\n",
    "    if len(x_csv[i])>len(y_csv[i]):\n",
    "        x_csv[i] = x_csv[i].drop(x_csv[i].iloc[-(len(x_csv[i])-len(y_csv[i])):].index)\n",
    "        x_time_csv[i] = x_time_csv[i].drop(x_time_csv[i].iloc[-(len(x_time_csv[i])-len(y_csv[i])):].index)\n",
    "    elif len(x_csv[i])<len(y_csv[i]):\n",
    "        y_csv[i] = y_csv[i].drop(y_csv[i].iloc[-(len(y_csv[i])-len(x_csv[i])):].index)\n",
    "        y_time_csv[i] = y_time_csv[i].drop(y_time_csv[i].iloc[-(len(y_time_csv[i])-len(x_csv[i])):].index)\n",
    "    \n"
   ]
  },
  {
   "cell_type": "code",
   "execution_count": 21,
   "id": "9d9735b8",
   "metadata": {},
   "outputs": [
    {
     "name": "stdout",
     "output_type": "stream",
     "text": [
      "37890 37890\n",
      "70172 70172\n",
      "43146 43146\n",
      "54956 54956\n",
      "59120 59120\n",
      "38631 38631\n",
      "31423 31423\n",
      "66762 66762\n",
      "55999 55999\n",
      "55400 55400\n",
      "48796 48796\n",
      "51460 51460\n",
      "42319 42319\n",
      "36312 36312\n",
      "47210 47210\n",
      "19532 19532\n",
      "34308 34308\n",
      "34476 34476\n",
      "56079 56079\n",
      "34519 34519\n",
      "44904 44904\n",
      "48124 48124\n",
      "59562 59562\n",
      "45128 45128\n",
      "46200 46200\n",
      "46988 46988\n",
      "44640 44640\n",
      "39439 39439\n",
      "48138 48138\n"
     ]
    }
   ],
   "source": [
    "for i in range(29):\n",
    "    print(len(x_csv[i]),len(y_csv[i]))"
   ]
  },
  {
   "cell_type": "code",
   "execution_count": 22,
   "id": "763efe01",
   "metadata": {},
   "outputs": [],
   "source": [
    "# x_csv = pd.concat(x_csv)\n",
    "# x_time_csv = pd.concat(x_time_csv)\n",
    "# y_csv = pd.concat(y_csv)\n",
    "# y_time_csv = pd.concat(y_time_csv)\n",
    "for df in x_csv:\n",
    "    df.set_axis([\"1\",\"2\",\"3\",\"4\",\"5\",\"6\"], axis=1, inplace=True)\n",
    "x = pd.concat(x_csv).reset_index(drop=True)\n"
   ]
  },
  {
   "cell_type": "code",
   "execution_count": 23,
   "id": "050f6b3b",
   "metadata": {},
   "outputs": [],
   "source": [
    "for df in x_time_csv:\n",
    "    df.set_axis([\"7\"], axis=1, inplace=True)\n",
    "x_time_csv\n",
    "x_time_csv = pd.concat(x_time_csv).reset_index(drop=True)\n",
    "x['7'] = x_time_csv"
   ]
  },
  {
   "cell_type": "code",
   "execution_count": 24,
   "id": "370e507d",
   "metadata": {},
   "outputs": [],
   "source": [
    "for df in y_csv:\n",
    "    df.set_axis([\"Y\"], axis=1, inplace=True)\n",
    "y = pd.concat(y_csv).reset_index(drop=True)"
   ]
  },
  {
   "cell_type": "code",
   "execution_count": 25,
   "id": "9442ddec",
   "metadata": {},
   "outputs": [
    {
     "data": {
      "text/plain": [
       "(                1         2         3         4         5         6         7\n",
       " 0        4.435275  8.196063  2.974488  0.014215 -0.039157 -0.016744     0.000\n",
       " 1        4.186920  8.344455  2.908057  0.005771 -0.004480 -0.003345     0.025\n",
       " 2        4.544637  8.408659  2.890000  0.007967  0.022412  0.001159     0.050\n",
       " 3        4.849308  8.411614  2.900692  0.027778 -0.010670 -0.014223     0.075\n",
       " 4        4.509190  8.118649  2.847298  0.021577 -0.045498 -0.021111     0.100\n",
       " ...           ...       ...       ...       ...       ...       ...       ...\n",
       " 1341628  2.072244  8.908878 -3.500000  0.001351  0.001191  0.001031  1203.325\n",
       " 1341629  2.085123  8.915123 -3.520000  0.001918 -0.001147  0.000000  1203.350\n",
       " 1341630  2.083774  8.910000 -3.538981 -0.002015 -0.004099  0.001042  1203.375\n",
       " 1341631  2.111447  8.908553 -3.535724  0.000183 -0.001673  0.001856  1203.400\n",
       " 1341632  2.087730  8.900000 -3.518865  0.000052 -0.001267  0.000000  1203.425\n",
       " \n",
       " [1341633 rows x 7 columns],\n",
       "          Y\n",
       " 0        0\n",
       " 1        0\n",
       " 2        0\n",
       " 3        0\n",
       " 4        0\n",
       " ...     ..\n",
       " 1341628  0\n",
       " 1341629  0\n",
       " 1341630  0\n",
       " 1341631  0\n",
       " 1341632  0\n",
       " \n",
       " [1341633 rows x 1 columns])"
      ]
     },
     "execution_count": 25,
     "metadata": {},
     "output_type": "execute_result"
    }
   ],
   "source": [
    "x,y"
   ]
  },
  {
   "cell_type": "code",
   "execution_count": 26,
   "id": "8fb4106f",
   "metadata": {},
   "outputs": [],
   "source": [
    "from sklearn.preprocessing import StandardScaler"
   ]
  },
  {
   "cell_type": "code",
   "execution_count": null,
   "id": "ba68a76f",
   "metadata": {},
   "outputs": [],
   "source": []
  },
  {
   "cell_type": "code",
   "execution_count": 27,
   "id": "6f898b49",
   "metadata": {},
   "outputs": [],
   "source": [
    "scaler = StandardScaler()\n",
    "scaler.fit(x)\n",
    "x = scaler.transform(x)"
   ]
  },
  {
   "cell_type": "code",
   "execution_count": 28,
   "id": "d01a6c98",
   "metadata": {},
   "outputs": [
    {
     "data": {
      "text/plain": [
       "array([[ 6.63865175e-01,  2.36377136e-02, -5.55171281e-01, ...,\n",
       "        -4.04391253e-02,  6.60469158e-02, -1.59037458e+00],\n",
       "       [ 6.20544908e-01,  4.52871459e-02, -5.67085160e-01, ...,\n",
       "        -1.82720185e-02,  8.34568144e-02, -1.59030938e+00],\n",
       "       [ 6.82941059e-01,  5.46540939e-02, -5.70323541e-01, ...,\n",
       "        -1.08201851e-03,  8.93083295e-02, -1.59024418e+00],\n",
       "       ...,\n",
       "       [ 2.53695656e-01,  1.27796501e-01, -1.72331088e+00, ...,\n",
       "        -1.80290443e-02,  8.91570716e-02,  1.54795127e+00],\n",
       "       [ 2.58522624e-01,  1.27585393e-01, -1.72272676e+00, ...,\n",
       "        -1.64778319e-02,  9.02144711e-02,  1.54801647e+00],\n",
       "       [ 2.54385696e-01,  1.26337565e-01, -1.71970323e+00, ...,\n",
       "        -1.62182484e-02,  8.78030474e-02,  1.54808167e+00]])"
      ]
     },
     "execution_count": 28,
     "metadata": {},
     "output_type": "execute_result"
    }
   ],
   "source": [
    "x"
   ]
  },
  {
   "cell_type": "code",
   "execution_count": 29,
   "id": "268533d1",
   "metadata": {},
   "outputs": [],
   "source": [
    "x = pd.DataFrame(x,columns = [\"1\",\"2\",\"3\",\"4\",\"5\",\"6\",\"7\"])"
   ]
  },
  {
   "cell_type": "code",
   "execution_count": 30,
   "id": "19af83d6",
   "metadata": {},
   "outputs": [],
   "source": [
    "from sklearn.model_selection import train_test_split"
   ]
  },
  {
   "cell_type": "code",
   "execution_count": 31,
   "id": "bd6f2c1e",
   "metadata": {},
   "outputs": [],
   "source": [
    "x['y'] = y"
   ]
  },
  {
   "cell_type": "code",
   "execution_count": 32,
   "id": "bc1fcf21",
   "metadata": {},
   "outputs": [
    {
     "data": {
      "image/png": "[encoded data removed]",
      "text/plain": [
       "<Figure size 432x288 with 2 Axes>"
      ]
     },
     "metadata": {
      "needs_background": "light"
     },
     "output_type": "display_data"
    }
   ],
   "source": [
    "import seaborn as sns\n",
    "import matplotlib.pyplot as plt\n",
    "\n",
    "# Create a sample correlation matrix\n",
    "corr_matrix = x.corr()\n",
    "\n",
    "# Create a heatmap using seaborn\n",
    "sns.heatmap(corr_matrix, annot=True, cmap='coolwarm')\n",
    "\n",
    "# Show the plot\n",
    "plt.show()"
   ]
  },
  {
   "cell_type": "code",
   "execution_count": 33,
   "id": "e9208bfe",
   "metadata": {},
   "outputs": [],
   "source": [
    "X_train, X_test, y_train, y_test= train_test_split(x.drop('y',axis=1), x['y'], test_size=0.3, random_state=42, stratify=x['y'])"
   ]
  },
  {
   "cell_type": "code",
   "execution_count": 34,
   "id": "ac841373",
   "metadata": {},
   "outputs": [
    {
     "data": {
      "text/html": [
       "<div>\n",
       "<style scoped>\n",
       "    .dataframe tbody tr th:only-of-type {\n",
       "        vertical-align: middle;\n",
       "    }\n",
       "\n",
       "    .dataframe tbody tr th {\n",
       "        vertical-align: top;\n",
       "    }\n",
       "\n",
       "    .dataframe thead th {\n",
       "        text-align: right;\n",
       "    }\n",
       "</style>\n",
       "<table border=\"1\" class=\"dataframe\">\n",
       "  <thead>\n",
       "    <tr style=\"text-align: right;\">\n",
       "      <th></th>\n",
       "      <th>1</th>\n",
       "      <th>2</th>\n",
       "      <th>3</th>\n",
       "      <th>4</th>\n",
       "      <th>5</th>\n",
       "      <th>6</th>\n",
       "      <th>7</th>\n",
       "    </tr>\n",
       "  </thead>\n",
       "  <tbody>\n",
       "    <tr>\n",
       "      <th>1156116</th>\n",
       "      <td>-1.553437</td>\n",
       "      <td>0.098756</td>\n",
       "      <td>0.941791</td>\n",
       "      <td>-0.344451</td>\n",
       "      <td>-1.432354</td>\n",
       "      <td>-0.726017</td>\n",
       "      <td>1.010260</td>\n",
       "    </tr>\n",
       "    <tr>\n",
       "      <th>594649</th>\n",
       "      <td>-1.203220</td>\n",
       "      <td>-0.534094</td>\n",
       "      <td>1.046270</td>\n",
       "      <td>-1.129342</td>\n",
       "      <td>-0.072229</td>\n",
       "      <td>-2.214130</td>\n",
       "      <td>0.519055</td>\n",
       "    </tr>\n",
       "    <tr>\n",
       "      <th>317040</th>\n",
       "      <td>-0.135744</td>\n",
       "      <td>0.160393</td>\n",
       "      <td>-0.804032</td>\n",
       "      <td>-0.370390</td>\n",
       "      <td>-0.702542</td>\n",
       "      <td>-0.099417</td>\n",
       "      <td>-0.734645</td>\n",
       "    </tr>\n",
       "    <tr>\n",
       "      <th>278333</th>\n",
       "      <td>-0.672763</td>\n",
       "      <td>0.205176</td>\n",
       "      <td>1.016480</td>\n",
       "      <td>2.342770</td>\n",
       "      <td>-0.257696</td>\n",
       "      <td>1.063109</td>\n",
       "      <td>-0.739600</td>\n",
       "    </tr>\n",
       "    <tr>\n",
       "      <th>502861</th>\n",
       "      <td>0.086275</td>\n",
       "      <td>0.254561</td>\n",
       "      <td>-0.626129</td>\n",
       "      <td>-0.247247</td>\n",
       "      <td>-0.630784</td>\n",
       "      <td>-0.650172</td>\n",
       "      <td>1.328037</td>\n",
       "    </tr>\n",
       "    <tr>\n",
       "      <th>...</th>\n",
       "      <td>...</td>\n",
       "      <td>...</td>\n",
       "      <td>...</td>\n",
       "      <td>...</td>\n",
       "      <td>...</td>\n",
       "      <td>...</td>\n",
       "      <td>...</td>\n",
       "    </tr>\n",
       "    <tr>\n",
       "      <th>221573</th>\n",
       "      <td>-0.058625</td>\n",
       "      <td>0.407183</td>\n",
       "      <td>-0.827346</td>\n",
       "      <td>-0.738916</td>\n",
       "      <td>-0.244306</td>\n",
       "      <td>0.517672</td>\n",
       "      <td>-0.585732</td>\n",
       "    </tr>\n",
       "    <tr>\n",
       "      <th>304715</th>\n",
       "      <td>0.039690</td>\n",
       "      <td>0.191488</td>\n",
       "      <td>-0.621529</td>\n",
       "      <td>-0.005732</td>\n",
       "      <td>-0.008512</td>\n",
       "      <td>0.090738</td>\n",
       "      <td>-1.538216</td>\n",
       "    </tr>\n",
       "    <tr>\n",
       "      <th>1003598</th>\n",
       "      <td>0.182935</td>\n",
       "      <td>0.275780</td>\n",
       "      <td>-0.230609</td>\n",
       "      <td>-0.244718</td>\n",
       "      <td>1.734629</td>\n",
       "      <td>0.570014</td>\n",
       "      <td>1.029559</td>\n",
       "    </tr>\n",
       "    <tr>\n",
       "      <th>801903</th>\n",
       "      <td>0.059017</td>\n",
       "      <td>0.095911</td>\n",
       "      <td>-0.322129</td>\n",
       "      <td>-0.145434</td>\n",
       "      <td>0.269568</td>\n",
       "      <td>0.152601</td>\n",
       "      <td>-1.038340</td>\n",
       "    </tr>\n",
       "    <tr>\n",
       "      <th>899159</th>\n",
       "      <td>-0.011372</td>\n",
       "      <td>0.070256</td>\n",
       "      <td>-0.564559</td>\n",
       "      <td>-0.256159</td>\n",
       "      <td>-0.304841</td>\n",
       "      <td>-0.092505</td>\n",
       "      <td>-0.601445</td>\n",
       "    </tr>\n",
       "  </tbody>\n",
       "</table>\n",
       "<p>939143 rows × 7 columns</p>\n",
       "</div>"
      ],
      "text/plain": [
       "                1         2         3         4         5         6         7\n",
       "1156116 -1.553437  0.098756  0.941791 -0.344451 -1.432354 -0.726017  1.010260\n",
       "594649  -1.203220 -0.534094  1.046270 -1.129342 -0.072229 -2.214130  0.519055\n",
       "317040  -0.135744  0.160393 -0.804032 -0.370390 -0.702542 -0.099417 -0.734645\n",
       "278333  -0.672763  0.205176  1.016480  2.342770 -0.257696  1.063109 -0.739600\n",
       "502861   0.086275  0.254561 -0.626129 -0.247247 -0.630784 -0.650172  1.328037\n",
       "...           ...       ...       ...       ...       ...       ...       ...\n",
       "221573  -0.058625  0.407183 -0.827346 -0.738916 -0.244306  0.517672 -0.585732\n",
       "304715   0.039690  0.191488 -0.621529 -0.005732 -0.008512  0.090738 -1.538216\n",
       "1003598  0.182935  0.275780 -0.230609 -0.244718  1.734629  0.570014  1.029559\n",
       "801903   0.059017  0.095911 -0.322129 -0.145434  0.269568  0.152601 -1.038340\n",
       "899159  -0.011372  0.070256 -0.564559 -0.256159 -0.304841 -0.092505 -0.601445\n",
       "\n",
       "[939143 rows x 7 columns]"
      ]
     },
     "execution_count": 34,
     "metadata": {},
     "output_type": "execute_result"
    }
   ],
   "source": [
    "X_train"
   ]
  },
  {
   "cell_type": "code",
   "execution_count": 35,
   "id": "c49c33e0",
   "metadata": {},
   "outputs": [
    {
     "data": {
      "text/plain": [
       "1156116    1\n",
       "594649     0\n",
       "317040     0\n",
       "278333     0\n",
       "502861     0\n",
       "          ..\n",
       "221573     0\n",
       "304715     0\n",
       "1003598    0\n",
       "801903     0\n",
       "899159     0\n",
       "Name: y, Length: 939143, dtype: int64"
      ]
     },
     "execution_count": 35,
     "metadata": {},
     "output_type": "execute_result"
    }
   ],
   "source": [
    "y_train"
   ]
  },
  {
   "cell_type": "code",
   "execution_count": 36,
   "id": "4a692e4b",
   "metadata": {},
   "outputs": [
    {
     "data": {
      "text/html": [
       "<div>\n",
       "<style scoped>\n",
       "    .dataframe tbody tr th:only-of-type {\n",
       "        vertical-align: middle;\n",
       "    }\n",
       "\n",
       "    .dataframe tbody tr th {\n",
       "        vertical-align: top;\n",
       "    }\n",
       "\n",
       "    .dataframe thead th {\n",
       "        text-align: right;\n",
       "    }\n",
       "</style>\n",
       "<table border=\"1\" class=\"dataframe\">\n",
       "  <thead>\n",
       "    <tr style=\"text-align: right;\">\n",
       "      <th></th>\n",
       "      <th>1</th>\n",
       "      <th>2</th>\n",
       "      <th>3</th>\n",
       "      <th>4</th>\n",
       "      <th>5</th>\n",
       "      <th>6</th>\n",
       "      <th>7</th>\n",
       "    </tr>\n",
       "  </thead>\n",
       "  <tbody>\n",
       "    <tr>\n",
       "      <th>531025</th>\n",
       "      <td>-1.367140</td>\n",
       "      <td>0.215249</td>\n",
       "      <td>-0.131842</td>\n",
       "      <td>-0.158314</td>\n",
       "      <td>-0.757754</td>\n",
       "      <td>-0.662544</td>\n",
       "      <td>-0.447707</td>\n",
       "    </tr>\n",
       "    <tr>\n",
       "      <th>956756</th>\n",
       "      <td>-1.049560</td>\n",
       "      <td>-2.165980</td>\n",
       "      <td>-0.906138</td>\n",
       "      <td>-0.492988</td>\n",
       "      <td>1.348440</td>\n",
       "      <td>0.348903</td>\n",
       "      <td>0.903204</td>\n",
       "    </tr>\n",
       "    <tr>\n",
       "      <th>1151938</th>\n",
       "      <td>-1.727342</td>\n",
       "      <td>-1.354673</td>\n",
       "      <td>1.624437</td>\n",
       "      <td>-0.902037</td>\n",
       "      <td>0.127012</td>\n",
       "      <td>1.317303</td>\n",
       "      <td>0.737861</td>\n",
       "    </tr>\n",
       "    <tr>\n",
       "      <th>1185714</th>\n",
       "      <td>2.170997</td>\n",
       "      <td>-0.235419</td>\n",
       "      <td>0.703350</td>\n",
       "      <td>0.119138</td>\n",
       "      <td>-0.007410</td>\n",
       "      <td>-0.789807</td>\n",
       "      <td>-0.072164</td>\n",
       "    </tr>\n",
       "    <tr>\n",
       "      <th>192836</th>\n",
       "      <td>0.133822</td>\n",
       "      <td>-0.088181</td>\n",
       "      <td>1.178429</td>\n",
       "      <td>-0.853794</td>\n",
       "      <td>-0.359526</td>\n",
       "      <td>0.536088</td>\n",
       "      <td>1.123705</td>\n",
       "    </tr>\n",
       "    <tr>\n",
       "      <th>...</th>\n",
       "      <td>...</td>\n",
       "      <td>...</td>\n",
       "      <td>...</td>\n",
       "      <td>...</td>\n",
       "      <td>...</td>\n",
       "      <td>...</td>\n",
       "      <td>...</td>\n",
       "    </tr>\n",
       "    <tr>\n",
       "      <th>708124</th>\n",
       "      <td>-0.159482</td>\n",
       "      <td>0.132334</td>\n",
       "      <td>-0.420171</td>\n",
       "      <td>0.007761</td>\n",
       "      <td>0.052915</td>\n",
       "      <td>0.148002</td>\n",
       "      <td>-0.564282</td>\n",
       "    </tr>\n",
       "    <tr>\n",
       "      <th>304664</th>\n",
       "      <td>0.213043</td>\n",
       "      <td>0.176879</td>\n",
       "      <td>-0.582749</td>\n",
       "      <td>-0.056528</td>\n",
       "      <td>0.103784</td>\n",
       "      <td>0.319334</td>\n",
       "      <td>-1.541541</td>\n",
       "    </tr>\n",
       "    <tr>\n",
       "      <th>319799</th>\n",
       "      <td>0.010141</td>\n",
       "      <td>0.509603</td>\n",
       "      <td>0.855441</td>\n",
       "      <td>-0.380985</td>\n",
       "      <td>0.334385</td>\n",
       "      <td>-0.223330</td>\n",
       "      <td>-0.554763</td>\n",
       "    </tr>\n",
       "    <tr>\n",
       "      <th>1034456</th>\n",
       "      <td>0.101793</td>\n",
       "      <td>0.435253</td>\n",
       "      <td>0.384814</td>\n",
       "      <td>-0.535668</td>\n",
       "      <td>-1.721168</td>\n",
       "      <td>-1.261920</td>\n",
       "      <td>-0.096157</td>\n",
       "    </tr>\n",
       "    <tr>\n",
       "      <th>730147</th>\n",
       "      <td>0.325957</td>\n",
       "      <td>-2.066514</td>\n",
       "      <td>-1.364203</td>\n",
       "      <td>0.083932</td>\n",
       "      <td>0.384311</td>\n",
       "      <td>1.397953</td>\n",
       "      <td>0.871583</td>\n",
       "    </tr>\n",
       "  </tbody>\n",
       "</table>\n",
       "<p>402490 rows × 7 columns</p>\n",
       "</div>"
      ],
      "text/plain": [
       "                1         2         3         4         5         6         7\n",
       "531025  -1.367140  0.215249 -0.131842 -0.158314 -0.757754 -0.662544 -0.447707\n",
       "956756  -1.049560 -2.165980 -0.906138 -0.492988  1.348440  0.348903  0.903204\n",
       "1151938 -1.727342 -1.354673  1.624437 -0.902037  0.127012  1.317303  0.737861\n",
       "1185714  2.170997 -0.235419  0.703350  0.119138 -0.007410 -0.789807 -0.072164\n",
       "192836   0.133822 -0.088181  1.178429 -0.853794 -0.359526  0.536088  1.123705\n",
       "...           ...       ...       ...       ...       ...       ...       ...\n",
       "708124  -0.159482  0.132334 -0.420171  0.007761  0.052915  0.148002 -0.564282\n",
       "304664   0.213043  0.176879 -0.582749 -0.056528  0.103784  0.319334 -1.541541\n",
       "319799   0.010141  0.509603  0.855441 -0.380985  0.334385 -0.223330 -0.554763\n",
       "1034456  0.101793  0.435253  0.384814 -0.535668 -1.721168 -1.261920 -0.096157\n",
       "730147   0.325957 -2.066514 -1.364203  0.083932  0.384311  1.397953  0.871583\n",
       "\n",
       "[402490 rows x 7 columns]"
      ]
     },
     "execution_count": 36,
     "metadata": {},
     "output_type": "execute_result"
    }
   ],
   "source": [
    "X_test"
   ]
  },
  {
   "cell_type": "code",
   "execution_count": 37,
   "id": "c626b8f6",
   "metadata": {},
   "outputs": [
    {
     "data": {
      "text/plain": [
       "531025     3\n",
       "956756     3\n",
       "1151938    0\n",
       "1185714    0\n",
       "192836     2\n",
       "          ..\n",
       "708124     0\n",
       "304664     0\n",
       "319799     0\n",
       "1034456    0\n",
       "730147     0\n",
       "Name: y, Length: 402490, dtype: int64"
      ]
     },
     "execution_count": 37,
     "metadata": {},
     "output_type": "execute_result"
    }
   ],
   "source": [
    "y_test"
   ]
  },
  {
   "cell_type": "code",
   "execution_count": 38,
   "id": "f740112c",
   "metadata": {},
   "outputs": [
    {
     "data": {
      "text/plain": [
       "(939143, 7)"
      ]
     },
     "execution_count": 38,
     "metadata": {},
     "output_type": "execute_result"
    }
   ],
   "source": [
    "X_train.shape"
   ]
  },
  {
   "cell_type": "code",
   "execution_count": 39,
   "id": "aa1e0c84",
   "metadata": {},
   "outputs": [],
   "source": [
    "from keras.utils import to_categorical\n",
    "y_train = to_categorical(y_train)\n",
    "y_test = to_categorical(y_test)"
   ]
  },
  {
   "cell_type": "code",
   "execution_count": 29,
   "id": "188294eb",
   "metadata": {},
   "outputs": [
    {
     "name": "stdout",
     "output_type": "stream",
     "text": [
      "Epoch 1/10\n",
      "8385/8385 [==============================] - 50s 6ms/step - loss: 0.7202 - accuracy: 0.7540 - val_loss: 0.6660 - val_accuracy: 0.7615\n",
      "Epoch 2/10\n",
      "8385/8385 [==============================] - 59s 7ms/step - loss: 0.6839 - accuracy: 0.7595 - val_loss: 0.6509 - val_accuracy: 0.7637\n",
      "Epoch 3/10\n",
      "8385/8385 [==============================] - 48s 6ms/step - loss: 0.6759 - accuracy: 0.7613 - val_loss: 0.6425 - val_accuracy: 0.7664\n",
      "Epoch 4/10\n",
      "8385/8385 [==============================] - 46s 5ms/step - loss: 0.6730 - accuracy: 0.7619 - val_loss: 0.6395 - val_accuracy: 0.7675\n",
      "Epoch 5/10\n",
      "8385/8385 [==============================] - 51s 6ms/step - loss: 0.6706 - accuracy: 0.7623 - val_loss: 0.6390 - val_accuracy: 0.7672\n",
      "Epoch 6/10\n",
      "8385/8385 [==============================] - 53s 6ms/step - loss: 0.6696 - accuracy: 0.7628 - val_loss: 0.6373 - val_accuracy: 0.7680\n",
      "Epoch 7/10\n",
      "8385/8385 [==============================] - 50s 6ms/step - loss: 0.6679 - accuracy: 0.7632 - val_loss: 0.6343 - val_accuracy: 0.7679\n",
      "Epoch 8/10\n",
      "8385/8385 [==============================] - 54s 6ms/step - loss: 0.6670 - accuracy: 0.7635 - val_loss: 0.6317 - val_accuracy: 0.7693\n",
      "Epoch 9/10\n",
      "8385/8385 [==============================] - 49s 6ms/step - loss: 0.6661 - accuracy: 0.7637 - val_loss: 0.6305 - val_accuracy: 0.7693\n",
      "Epoch 10/10\n",
      "8385/8385 [==============================] - 47s 6ms/step - loss: 0.6661 - accuracy: 0.7637 - val_loss: 0.6326 - val_accuracy: 0.7695\n"
     ]
    },
    {
     "data": {
      "text/plain": [
       "<keras.callbacks.History at 0x131291c1d60>"
      ]
     },
     "execution_count": 29,
     "metadata": {},
     "output_type": "execute_result"
    }
   ],
   "source": [
    "# import keras\n",
    "# from keras.models import Sequential\n",
    "# from keras.layers import Dense, Dropout, Flatten, Conv1D, MaxPooling1D\n",
    "\n",
    "# # Define the input shape\n",
    "# input_shape = (7, 1)\n",
    "\n",
    "# # Define the number of classes\n",
    "# num_classes = 4\n",
    "\n",
    "# # Create the model\n",
    "# model = Sequential()\n",
    "\n",
    "# # Add a convolutional layer with 32 filters, a kernel size of 3, and a relu activation\n",
    "# model.add(Conv1D(32, kernel_size=3, activation='relu', input_shape=input_shape))\n",
    "\n",
    "# # Add a max pooling layer with a pool size of 2\n",
    "# model.add(MaxPooling1D(pool_size=2))\n",
    "\n",
    "# # Add a dropout layer to prevent overfitting\n",
    "# model.add(Dropout(0.25))\n",
    "\n",
    "# # Add a flatten layer to convert the output to a 1D vector\n",
    "# model.add(Flatten())\n",
    "\n",
    "# # Add a dense layer with 128 neurons and a relu activation\n",
    "# model.add(Dense(128, activation='relu'))\n",
    "\n",
    "# # Add a dropout layer to prevent overfitting\n",
    "# model.add(Dropout(0.5))\n",
    "\n",
    "# # Add the output layer with num_classes neurons and a softmax activation\n",
    "# model.add(Dense(num_classes, activation='softmax'))\n",
    "\n",
    "# # Compile the model\n",
    "# model.compile(loss='categorical_crossentropy', optimizer='adam', metrics=['accuracy'])\n",
    "\n",
    "# # Train the model on the training data\n",
    "# model.fit(X_train, y_train, batch_size=128, epochs=10, validation_data=(X_test, y_test))\n"
   ]
  },
  {
   "cell_type": "code",
   "execution_count": 41,
   "id": "30438231",
   "metadata": {},
   "outputs": [
    {
     "data": {
      "text/plain": [
       "(1341633, 8)"
      ]
     },
     "execution_count": 41,
     "metadata": {},
     "output_type": "execute_result"
    }
   ],
   "source": [
    "x.shape"
   ]
  },
  {
   "cell_type": "code",
   "execution_count": 43,
   "id": "7728bc79",
   "metadata": {},
   "outputs": [
    {
     "name": "stdout",
     "output_type": "stream",
     "text": [
      "Epoch 1/10\n",
      "29349/29349 [==============================] - 334s 11ms/step - loss: 0.6464 - accuracy: 0.7678 - val_loss: 0.5794 - val_accuracy: 0.7809\n",
      "Epoch 2/10\n",
      "29349/29349 [==============================] - 209s 7ms/step - loss: 0.5760 - accuracy: 0.7822 - val_loss: 0.5518 - val_accuracy: 0.7874\n",
      "Epoch 3/10\n",
      "29349/29349 [==============================] - 131s 4ms/step - loss: 0.5557 - accuracy: 0.7873 - val_loss: 0.5369 - val_accuracy: 0.7925\n",
      "Epoch 4/10\n",
      "29349/29349 [==============================] - 191s 7ms/step - loss: 0.5434 - accuracy: 0.7908 - val_loss: 0.5308 - val_accuracy: 0.7937\n",
      "Epoch 5/10\n",
      "29349/29349 [==============================] - 196s 7ms/step - loss: 0.5363 - accuracy: 0.7928 - val_loss: 0.5213 - val_accuracy: 0.7967\n",
      "Epoch 6/10\n",
      "29349/29349 [==============================] - 189s 6ms/step - loss: 0.5308 - accuracy: 0.7943 - val_loss: 0.5193 - val_accuracy: 0.7976\n",
      "Epoch 7/10\n",
      "29349/29349 [==============================] - 202s 7ms/step - loss: 0.5263 - accuracy: 0.7960 - val_loss: 0.5169 - val_accuracy: 0.7991\n",
      "Epoch 8/10\n",
      "29349/29349 [==============================] - 204s 7ms/step - loss: 0.5230 - accuracy: 0.7970 - val_loss: 0.5134 - val_accuracy: 0.7996\n",
      "Epoch 9/10\n",
      "29349/29349 [==============================] - 208s 7ms/step - loss: 0.5206 - accuracy: 0.7977 - val_loss: 0.5121 - val_accuracy: 0.8002\n",
      "Epoch 10/10\n",
      "29349/29349 [==============================] - 208s 7ms/step - loss: 0.5185 - accuracy: 0.7984 - val_loss: 0.5118 - val_accuracy: 0.8001\n"
     ]
    },
    {
     "data": {
      "text/plain": [
       "<keras.callbacks.History at 0x2440fb02100>"
      ]
     },
     "execution_count": 43,
     "metadata": {},
     "output_type": "execute_result"
    }
   ],
   "source": [
    "from keras.models import Sequential\n",
    "from keras.layers import LSTM, Dense, Dropout\n",
    "from keras.utils import to_categorical\n",
    "import numpy as np\n",
    "\n",
    "model = Sequential()\n",
    "model.add(LSTM(units=64, input_shape=(7,1)))\n",
    "model.add(Dropout(0.2))\n",
    "model.add(Dense(units=32, activation='relu'))\n",
    "model.add(Dense(units=4, activation='softmax'))\n",
    "\n",
    "# Compile model\n",
    "model.compile(loss='categorical_crossentropy', optimizer='adam', metrics=['accuracy'])\n",
    "model.fit(X_train, y_train, batch_size=32, epochs=10, validation_data=(X_test, y_test))"
   ]
  },
  {
   "cell_type": "code",
   "execution_count": 44,
   "id": "668d4912",
   "metadata": {},
   "outputs": [],
   "source": [
    "model.save(\"Models/lstm.h5\")"
   ]
  },
  {
   "cell_type": "code",
   "execution_count": null,
   "id": "9ea02913",
   "metadata": {},
   "outputs": [],
   "source": []
  }
 ],
 "metadata": {
  "kernelspec": {
   "display_name": "Python 3 (ipykernel)",
   "language": "python",
   "name": "python3"
  },
  "language_info": {
   "codemirror_mode": {
    "name": "ipython",
    "version": 3
   },
   "file_extension": ".py",
   "mimetype": "text/x-python",
   "name": "python",
   "nbconvert_exporter": "python",
   "pygments_lexer": "ipython3",
   "version": "3.9.12"
  }
 },
 "nbformat": 4,
 "nbformat_minor": 5
}
